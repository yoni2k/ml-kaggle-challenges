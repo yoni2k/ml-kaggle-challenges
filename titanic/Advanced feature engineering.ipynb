{
 "cells": [
  {
   "cell_type": "code",
   "execution_count": 94,
   "metadata": {},
   "outputs": [],
   "source": [
    "import numpy as np\n",
    "import pandas as pd \n",
    "import matplotlib.pyplot as plt\n",
    "import seaborn as sns\n",
    "from sklearn.preprocessing import LabelEncoder\n",
    "%matplotlib inline\n",
    "sns.set()"
   ]
  },
  {
   "cell_type": "markdown",
   "metadata": {},
   "source": [
    " "
   ]
  },
  {
   "cell_type": "markdown",
   "metadata": {},
   "source": [
    "# Read data"
   ]
  },
  {
   "cell_type": "code",
   "execution_count": 95,
   "metadata": {},
   "outputs": [
    {
     "data": {
      "text/html": [
       "<div>\n",
       "<style scoped>\n",
       "    .dataframe tbody tr th:only-of-type {\n",
       "        vertical-align: middle;\n",
       "    }\n",
       "\n",
       "    .dataframe tbody tr th {\n",
       "        vertical-align: top;\n",
       "    }\n",
       "\n",
       "    .dataframe thead th {\n",
       "        text-align: right;\n",
       "    }\n",
       "</style>\n",
       "<table border=\"1\" class=\"dataframe\">\n",
       "  <thead>\n",
       "    <tr style=\"text-align: right;\">\n",
       "      <th></th>\n",
       "      <th>Survived</th>\n",
       "      <th>Pclass</th>\n",
       "      <th>Name</th>\n",
       "      <th>Sex</th>\n",
       "      <th>Age</th>\n",
       "      <th>SibSp</th>\n",
       "      <th>Parch</th>\n",
       "      <th>Ticket</th>\n",
       "      <th>Fare</th>\n",
       "      <th>Cabin</th>\n",
       "      <th>Embarked</th>\n",
       "    </tr>\n",
       "    <tr>\n",
       "      <th>PassengerId</th>\n",
       "      <th></th>\n",
       "      <th></th>\n",
       "      <th></th>\n",
       "      <th></th>\n",
       "      <th></th>\n",
       "      <th></th>\n",
       "      <th></th>\n",
       "      <th></th>\n",
       "      <th></th>\n",
       "      <th></th>\n",
       "      <th></th>\n",
       "    </tr>\n",
       "  </thead>\n",
       "  <tbody>\n",
       "    <tr>\n",
       "      <th>1</th>\n",
       "      <td>0</td>\n",
       "      <td>3</td>\n",
       "      <td>Braund, Mr. Owen Harris</td>\n",
       "      <td>male</td>\n",
       "      <td>22.0</td>\n",
       "      <td>1</td>\n",
       "      <td>0</td>\n",
       "      <td>A/5 21171</td>\n",
       "      <td>7.2500</td>\n",
       "      <td>NaN</td>\n",
       "      <td>S</td>\n",
       "    </tr>\n",
       "    <tr>\n",
       "      <th>2</th>\n",
       "      <td>1</td>\n",
       "      <td>1</td>\n",
       "      <td>Cumings, Mrs. John Bradley (Florence Briggs Th...</td>\n",
       "      <td>female</td>\n",
       "      <td>38.0</td>\n",
       "      <td>1</td>\n",
       "      <td>0</td>\n",
       "      <td>PC 17599</td>\n",
       "      <td>71.2833</td>\n",
       "      <td>C85</td>\n",
       "      <td>C</td>\n",
       "    </tr>\n",
       "    <tr>\n",
       "      <th>3</th>\n",
       "      <td>1</td>\n",
       "      <td>3</td>\n",
       "      <td>Heikkinen, Miss. Laina</td>\n",
       "      <td>female</td>\n",
       "      <td>26.0</td>\n",
       "      <td>0</td>\n",
       "      <td>0</td>\n",
       "      <td>STON/O2. 3101282</td>\n",
       "      <td>7.9250</td>\n",
       "      <td>NaN</td>\n",
       "      <td>S</td>\n",
       "    </tr>\n",
       "    <tr>\n",
       "      <th>4</th>\n",
       "      <td>1</td>\n",
       "      <td>1</td>\n",
       "      <td>Futrelle, Mrs. Jacques Heath (Lily May Peel)</td>\n",
       "      <td>female</td>\n",
       "      <td>35.0</td>\n",
       "      <td>1</td>\n",
       "      <td>0</td>\n",
       "      <td>113803</td>\n",
       "      <td>53.1000</td>\n",
       "      <td>C123</td>\n",
       "      <td>S</td>\n",
       "    </tr>\n",
       "    <tr>\n",
       "      <th>5</th>\n",
       "      <td>0</td>\n",
       "      <td>3</td>\n",
       "      <td>Allen, Mr. William Henry</td>\n",
       "      <td>male</td>\n",
       "      <td>35.0</td>\n",
       "      <td>0</td>\n",
       "      <td>0</td>\n",
       "      <td>373450</td>\n",
       "      <td>8.0500</td>\n",
       "      <td>NaN</td>\n",
       "      <td>S</td>\n",
       "    </tr>\n",
       "  </tbody>\n",
       "</table>\n",
       "</div>"
      ],
      "text/plain": [
       "             Survived  Pclass  \\\n",
       "PassengerId                     \n",
       "1                   0       3   \n",
       "2                   1       1   \n",
       "3                   1       3   \n",
       "4                   1       1   \n",
       "5                   0       3   \n",
       "\n",
       "                                                          Name     Sex   Age  \\\n",
       "PassengerId                                                                    \n",
       "1                                      Braund, Mr. Owen Harris    male  22.0   \n",
       "2            Cumings, Mrs. John Bradley (Florence Briggs Th...  female  38.0   \n",
       "3                                       Heikkinen, Miss. Laina  female  26.0   \n",
       "4                 Futrelle, Mrs. Jacques Heath (Lily May Peel)  female  35.0   \n",
       "5                                     Allen, Mr. William Henry    male  35.0   \n",
       "\n",
       "             SibSp  Parch            Ticket     Fare Cabin Embarked  \n",
       "PassengerId                                                          \n",
       "1                1      0         A/5 21171   7.2500   NaN        S  \n",
       "2                1      0          PC 17599  71.2833   C85        C  \n",
       "3                0      0  STON/O2. 3101282   7.9250   NaN        S  \n",
       "4                1      0            113803  53.1000  C123        S  \n",
       "5                0      0            373450   8.0500   NaN        S  "
      ]
     },
     "execution_count": 95,
     "metadata": {},
     "output_type": "execute_result"
    }
   ],
   "source": [
    "train = pd.read_csv('input/train.csv', index_col='PassengerId')\n",
    "train.head()"
   ]
  },
  {
   "cell_type": "code",
   "execution_count": 185,
   "metadata": {},
   "outputs": [
    {
     "data": {
      "text/html": [
       "<div>\n",
       "<style scoped>\n",
       "    .dataframe tbody tr th:only-of-type {\n",
       "        vertical-align: middle;\n",
       "    }\n",
       "\n",
       "    .dataframe tbody tr th {\n",
       "        vertical-align: top;\n",
       "    }\n",
       "\n",
       "    .dataframe thead th {\n",
       "        text-align: right;\n",
       "    }\n",
       "</style>\n",
       "<table border=\"1\" class=\"dataframe\">\n",
       "  <thead>\n",
       "    <tr style=\"text-align: right;\">\n",
       "      <th></th>\n",
       "      <th>Survived</th>\n",
       "      <th>Pclass</th>\n",
       "      <th>Name</th>\n",
       "      <th>Sex</th>\n",
       "      <th>Age</th>\n",
       "      <th>SibSp</th>\n",
       "      <th>Parch</th>\n",
       "      <th>Ticket</th>\n",
       "      <th>Fare</th>\n",
       "      <th>Cabin</th>\n",
       "      <th>Embarked</th>\n",
       "      <th>Title</th>\n",
       "      <th>Family size</th>\n",
       "      <th>Deck</th>\n",
       "    </tr>\n",
       "    <tr>\n",
       "      <th>PassengerId</th>\n",
       "      <th></th>\n",
       "      <th></th>\n",
       "      <th></th>\n",
       "      <th></th>\n",
       "      <th></th>\n",
       "      <th></th>\n",
       "      <th></th>\n",
       "      <th></th>\n",
       "      <th></th>\n",
       "      <th></th>\n",
       "      <th></th>\n",
       "      <th></th>\n",
       "      <th></th>\n",
       "      <th></th>\n",
       "    </tr>\n",
       "  </thead>\n",
       "  <tbody>\n",
       "    <tr>\n",
       "      <th>887</th>\n",
       "      <td>0</td>\n",
       "      <td>2</td>\n",
       "      <td>Montvila, Rev. Juozas</td>\n",
       "      <td>male</td>\n",
       "      <td>27.0</td>\n",
       "      <td>0</td>\n",
       "      <td>0</td>\n",
       "      <td>211536</td>\n",
       "      <td>13.00</td>\n",
       "      <td>unknown</td>\n",
       "      <td>S</td>\n",
       "      <td>Rev</td>\n",
       "      <td>1</td>\n",
       "      <td>unknown</td>\n",
       "    </tr>\n",
       "    <tr>\n",
       "      <th>888</th>\n",
       "      <td>1</td>\n",
       "      <td>1</td>\n",
       "      <td>Graham, Miss. Margaret Edith</td>\n",
       "      <td>female</td>\n",
       "      <td>19.0</td>\n",
       "      <td>0</td>\n",
       "      <td>0</td>\n",
       "      <td>112053</td>\n",
       "      <td>30.00</td>\n",
       "      <td>B42</td>\n",
       "      <td>S</td>\n",
       "      <td>Miss</td>\n",
       "      <td>1</td>\n",
       "      <td>B</td>\n",
       "    </tr>\n",
       "    <tr>\n",
       "      <th>889</th>\n",
       "      <td>0</td>\n",
       "      <td>3</td>\n",
       "      <td>Johnston, Miss. Catherine Helen \"Carrie\"</td>\n",
       "      <td>female</td>\n",
       "      <td>NaN</td>\n",
       "      <td>1</td>\n",
       "      <td>2</td>\n",
       "      <td>W./C. 6607</td>\n",
       "      <td>23.45</td>\n",
       "      <td>unknown</td>\n",
       "      <td>S</td>\n",
       "      <td>Miss</td>\n",
       "      <td>4</td>\n",
       "      <td>unknown</td>\n",
       "    </tr>\n",
       "    <tr>\n",
       "      <th>890</th>\n",
       "      <td>1</td>\n",
       "      <td>1</td>\n",
       "      <td>Behr, Mr. Karl Howell</td>\n",
       "      <td>male</td>\n",
       "      <td>26.0</td>\n",
       "      <td>0</td>\n",
       "      <td>0</td>\n",
       "      <td>111369</td>\n",
       "      <td>30.00</td>\n",
       "      <td>C148</td>\n",
       "      <td>C</td>\n",
       "      <td>Mr</td>\n",
       "      <td>1</td>\n",
       "      <td>C</td>\n",
       "    </tr>\n",
       "    <tr>\n",
       "      <th>891</th>\n",
       "      <td>0</td>\n",
       "      <td>3</td>\n",
       "      <td>Dooley, Mr. Patrick</td>\n",
       "      <td>male</td>\n",
       "      <td>32.0</td>\n",
       "      <td>0</td>\n",
       "      <td>0</td>\n",
       "      <td>370376</td>\n",
       "      <td>7.75</td>\n",
       "      <td>unknown</td>\n",
       "      <td>Q</td>\n",
       "      <td>Mr</td>\n",
       "      <td>1</td>\n",
       "      <td>unknown</td>\n",
       "    </tr>\n",
       "  </tbody>\n",
       "</table>\n",
       "</div>"
      ],
      "text/plain": [
       "             Survived  Pclass                                      Name  \\\n",
       "PassengerId                                                               \n",
       "887                 0       2                     Montvila, Rev. Juozas   \n",
       "888                 1       1              Graham, Miss. Margaret Edith   \n",
       "889                 0       3  Johnston, Miss. Catherine Helen \"Carrie\"   \n",
       "890                 1       1                     Behr, Mr. Karl Howell   \n",
       "891                 0       3                       Dooley, Mr. Patrick   \n",
       "\n",
       "                Sex   Age  SibSp  Parch      Ticket   Fare    Cabin Embarked  \\\n",
       "PassengerId                                                                    \n",
       "887            male  27.0      0      0      211536  13.00  unknown        S   \n",
       "888          female  19.0      0      0      112053  30.00      B42        S   \n",
       "889          female   NaN      1      2  W./C. 6607  23.45  unknown        S   \n",
       "890            male  26.0      0      0      111369  30.00     C148        C   \n",
       "891            male  32.0      0      0      370376   7.75  unknown        Q   \n",
       "\n",
       "            Title  Family size     Deck  \n",
       "PassengerId                              \n",
       "887           Rev            1  unknown  \n",
       "888          Miss            1        B  \n",
       "889          Miss            4  unknown  \n",
       "890            Mr            1        C  \n",
       "891            Mr            1  unknown  "
      ]
     },
     "execution_count": 185,
     "metadata": {},
     "output_type": "execute_result"
    }
   ],
   "source": [
    "train.tail()"
   ]
  },
  {
   "cell_type": "code",
   "execution_count": 96,
   "metadata": {},
   "outputs": [
    {
     "data": {
      "text/html": [
       "<div>\n",
       "<style scoped>\n",
       "    .dataframe tbody tr th:only-of-type {\n",
       "        vertical-align: middle;\n",
       "    }\n",
       "\n",
       "    .dataframe tbody tr th {\n",
       "        vertical-align: top;\n",
       "    }\n",
       "\n",
       "    .dataframe thead th {\n",
       "        text-align: right;\n",
       "    }\n",
       "</style>\n",
       "<table border=\"1\" class=\"dataframe\">\n",
       "  <thead>\n",
       "    <tr style=\"text-align: right;\">\n",
       "      <th></th>\n",
       "      <th>Pclass</th>\n",
       "      <th>Name</th>\n",
       "      <th>Sex</th>\n",
       "      <th>Age</th>\n",
       "      <th>SibSp</th>\n",
       "      <th>Parch</th>\n",
       "      <th>Ticket</th>\n",
       "      <th>Fare</th>\n",
       "      <th>Cabin</th>\n",
       "      <th>Embarked</th>\n",
       "    </tr>\n",
       "    <tr>\n",
       "      <th>PassengerId</th>\n",
       "      <th></th>\n",
       "      <th></th>\n",
       "      <th></th>\n",
       "      <th></th>\n",
       "      <th></th>\n",
       "      <th></th>\n",
       "      <th></th>\n",
       "      <th></th>\n",
       "      <th></th>\n",
       "      <th></th>\n",
       "    </tr>\n",
       "  </thead>\n",
       "  <tbody>\n",
       "    <tr>\n",
       "      <th>892</th>\n",
       "      <td>3</td>\n",
       "      <td>Kelly, Mr. James</td>\n",
       "      <td>male</td>\n",
       "      <td>34.5</td>\n",
       "      <td>0</td>\n",
       "      <td>0</td>\n",
       "      <td>330911</td>\n",
       "      <td>7.8292</td>\n",
       "      <td>NaN</td>\n",
       "      <td>Q</td>\n",
       "    </tr>\n",
       "    <tr>\n",
       "      <th>893</th>\n",
       "      <td>3</td>\n",
       "      <td>Wilkes, Mrs. James (Ellen Needs)</td>\n",
       "      <td>female</td>\n",
       "      <td>47.0</td>\n",
       "      <td>1</td>\n",
       "      <td>0</td>\n",
       "      <td>363272</td>\n",
       "      <td>7.0000</td>\n",
       "      <td>NaN</td>\n",
       "      <td>S</td>\n",
       "    </tr>\n",
       "    <tr>\n",
       "      <th>894</th>\n",
       "      <td>2</td>\n",
       "      <td>Myles, Mr. Thomas Francis</td>\n",
       "      <td>male</td>\n",
       "      <td>62.0</td>\n",
       "      <td>0</td>\n",
       "      <td>0</td>\n",
       "      <td>240276</td>\n",
       "      <td>9.6875</td>\n",
       "      <td>NaN</td>\n",
       "      <td>Q</td>\n",
       "    </tr>\n",
       "    <tr>\n",
       "      <th>895</th>\n",
       "      <td>3</td>\n",
       "      <td>Wirz, Mr. Albert</td>\n",
       "      <td>male</td>\n",
       "      <td>27.0</td>\n",
       "      <td>0</td>\n",
       "      <td>0</td>\n",
       "      <td>315154</td>\n",
       "      <td>8.6625</td>\n",
       "      <td>NaN</td>\n",
       "      <td>S</td>\n",
       "    </tr>\n",
       "    <tr>\n",
       "      <th>896</th>\n",
       "      <td>3</td>\n",
       "      <td>Hirvonen, Mrs. Alexander (Helga E Lindqvist)</td>\n",
       "      <td>female</td>\n",
       "      <td>22.0</td>\n",
       "      <td>1</td>\n",
       "      <td>1</td>\n",
       "      <td>3101298</td>\n",
       "      <td>12.2875</td>\n",
       "      <td>NaN</td>\n",
       "      <td>S</td>\n",
       "    </tr>\n",
       "  </tbody>\n",
       "</table>\n",
       "</div>"
      ],
      "text/plain": [
       "             Pclass                                          Name     Sex  \\\n",
       "PassengerId                                                                 \n",
       "892               3                              Kelly, Mr. James    male   \n",
       "893               3              Wilkes, Mrs. James (Ellen Needs)  female   \n",
       "894               2                     Myles, Mr. Thomas Francis    male   \n",
       "895               3                              Wirz, Mr. Albert    male   \n",
       "896               3  Hirvonen, Mrs. Alexander (Helga E Lindqvist)  female   \n",
       "\n",
       "              Age  SibSp  Parch   Ticket     Fare Cabin Embarked  \n",
       "PassengerId                                                       \n",
       "892          34.5      0      0   330911   7.8292   NaN        Q  \n",
       "893          47.0      1      0   363272   7.0000   NaN        S  \n",
       "894          62.0      0      0   240276   9.6875   NaN        Q  \n",
       "895          27.0      0      0   315154   8.6625   NaN        S  \n",
       "896          22.0      1      1  3101298  12.2875   NaN        S  "
      ]
     },
     "execution_count": 96,
     "metadata": {},
     "output_type": "execute_result"
    }
   ],
   "source": [
    "test = pd.read_csv('input/test.csv', index_col='PassengerId')\n",
    "test.head()"
   ]
  },
  {
   "cell_type": "code",
   "execution_count": 97,
   "metadata": {},
   "outputs": [
    {
     "data": {
      "text/html": [
       "<div>\n",
       "<style scoped>\n",
       "    .dataframe tbody tr th:only-of-type {\n",
       "        vertical-align: middle;\n",
       "    }\n",
       "\n",
       "    .dataframe tbody tr th {\n",
       "        vertical-align: top;\n",
       "    }\n",
       "\n",
       "    .dataframe thead th {\n",
       "        text-align: right;\n",
       "    }\n",
       "</style>\n",
       "<table border=\"1\" class=\"dataframe\">\n",
       "  <thead>\n",
       "    <tr style=\"text-align: right;\">\n",
       "      <th></th>\n",
       "      <th>Pclass</th>\n",
       "      <th>Name</th>\n",
       "      <th>Sex</th>\n",
       "      <th>Age</th>\n",
       "      <th>SibSp</th>\n",
       "      <th>Parch</th>\n",
       "      <th>Ticket</th>\n",
       "      <th>Fare</th>\n",
       "      <th>Cabin</th>\n",
       "      <th>Embarked</th>\n",
       "    </tr>\n",
       "    <tr>\n",
       "      <th>PassengerId</th>\n",
       "      <th></th>\n",
       "      <th></th>\n",
       "      <th></th>\n",
       "      <th></th>\n",
       "      <th></th>\n",
       "      <th></th>\n",
       "      <th></th>\n",
       "      <th></th>\n",
       "      <th></th>\n",
       "      <th></th>\n",
       "    </tr>\n",
       "  </thead>\n",
       "  <tbody>\n",
       "    <tr>\n",
       "      <th>1305</th>\n",
       "      <td>3</td>\n",
       "      <td>Spector, Mr. Woolf</td>\n",
       "      <td>male</td>\n",
       "      <td>NaN</td>\n",
       "      <td>0</td>\n",
       "      <td>0</td>\n",
       "      <td>A.5. 3236</td>\n",
       "      <td>8.0500</td>\n",
       "      <td>NaN</td>\n",
       "      <td>S</td>\n",
       "    </tr>\n",
       "    <tr>\n",
       "      <th>1306</th>\n",
       "      <td>1</td>\n",
       "      <td>Oliva y Ocana, Dona. Fermina</td>\n",
       "      <td>female</td>\n",
       "      <td>39.0</td>\n",
       "      <td>0</td>\n",
       "      <td>0</td>\n",
       "      <td>PC 17758</td>\n",
       "      <td>108.9000</td>\n",
       "      <td>C105</td>\n",
       "      <td>C</td>\n",
       "    </tr>\n",
       "    <tr>\n",
       "      <th>1307</th>\n",
       "      <td>3</td>\n",
       "      <td>Saether, Mr. Simon Sivertsen</td>\n",
       "      <td>male</td>\n",
       "      <td>38.5</td>\n",
       "      <td>0</td>\n",
       "      <td>0</td>\n",
       "      <td>SOTON/O.Q. 3101262</td>\n",
       "      <td>7.2500</td>\n",
       "      <td>NaN</td>\n",
       "      <td>S</td>\n",
       "    </tr>\n",
       "    <tr>\n",
       "      <th>1308</th>\n",
       "      <td>3</td>\n",
       "      <td>Ware, Mr. Frederick</td>\n",
       "      <td>male</td>\n",
       "      <td>NaN</td>\n",
       "      <td>0</td>\n",
       "      <td>0</td>\n",
       "      <td>359309</td>\n",
       "      <td>8.0500</td>\n",
       "      <td>NaN</td>\n",
       "      <td>S</td>\n",
       "    </tr>\n",
       "    <tr>\n",
       "      <th>1309</th>\n",
       "      <td>3</td>\n",
       "      <td>Peter, Master. Michael J</td>\n",
       "      <td>male</td>\n",
       "      <td>NaN</td>\n",
       "      <td>1</td>\n",
       "      <td>1</td>\n",
       "      <td>2668</td>\n",
       "      <td>22.3583</td>\n",
       "      <td>NaN</td>\n",
       "      <td>C</td>\n",
       "    </tr>\n",
       "  </tbody>\n",
       "</table>\n",
       "</div>"
      ],
      "text/plain": [
       "             Pclass                          Name     Sex   Age  SibSp  Parch  \\\n",
       "PassengerId                                                                     \n",
       "1305              3            Spector, Mr. Woolf    male   NaN      0      0   \n",
       "1306              1  Oliva y Ocana, Dona. Fermina  female  39.0      0      0   \n",
       "1307              3  Saether, Mr. Simon Sivertsen    male  38.5      0      0   \n",
       "1308              3           Ware, Mr. Frederick    male   NaN      0      0   \n",
       "1309              3      Peter, Master. Michael J    male   NaN      1      1   \n",
       "\n",
       "                         Ticket      Fare Cabin Embarked  \n",
       "PassengerId                                               \n",
       "1305                  A.5. 3236    8.0500   NaN        S  \n",
       "1306                   PC 17758  108.9000  C105        C  \n",
       "1307         SOTON/O.Q. 3101262    7.2500   NaN        S  \n",
       "1308                     359309    8.0500   NaN        S  \n",
       "1309                       2668   22.3583   NaN        C  "
      ]
     },
     "execution_count": 97,
     "metadata": {},
     "output_type": "execute_result"
    }
   ],
   "source": [
    "test.tail()"
   ]
  },
  {
   "cell_type": "code",
   "execution_count": 98,
   "metadata": {},
   "outputs": [
    {
     "data": {
      "text/html": [
       "<div>\n",
       "<style scoped>\n",
       "    .dataframe tbody tr th:only-of-type {\n",
       "        vertical-align: middle;\n",
       "    }\n",
       "\n",
       "    .dataframe tbody tr th {\n",
       "        vertical-align: top;\n",
       "    }\n",
       "\n",
       "    .dataframe thead th {\n",
       "        text-align: right;\n",
       "    }\n",
       "</style>\n",
       "<table border=\"1\" class=\"dataframe\">\n",
       "  <thead>\n",
       "    <tr style=\"text-align: right;\">\n",
       "      <th></th>\n",
       "      <th>Pclass</th>\n",
       "      <th>Name</th>\n",
       "      <th>Sex</th>\n",
       "      <th>Age</th>\n",
       "      <th>SibSp</th>\n",
       "      <th>Parch</th>\n",
       "      <th>Ticket</th>\n",
       "      <th>Fare</th>\n",
       "      <th>Cabin</th>\n",
       "      <th>Embarked</th>\n",
       "    </tr>\n",
       "    <tr>\n",
       "      <th>PassengerId</th>\n",
       "      <th></th>\n",
       "      <th></th>\n",
       "      <th></th>\n",
       "      <th></th>\n",
       "      <th></th>\n",
       "      <th></th>\n",
       "      <th></th>\n",
       "      <th></th>\n",
       "      <th></th>\n",
       "      <th></th>\n",
       "    </tr>\n",
       "  </thead>\n",
       "  <tbody>\n",
       "    <tr>\n",
       "      <th>1</th>\n",
       "      <td>3</td>\n",
       "      <td>Braund, Mr. Owen Harris</td>\n",
       "      <td>male</td>\n",
       "      <td>22.0</td>\n",
       "      <td>1</td>\n",
       "      <td>0</td>\n",
       "      <td>A/5 21171</td>\n",
       "      <td>7.2500</td>\n",
       "      <td>NaN</td>\n",
       "      <td>S</td>\n",
       "    </tr>\n",
       "    <tr>\n",
       "      <th>2</th>\n",
       "      <td>1</td>\n",
       "      <td>Cumings, Mrs. John Bradley (Florence Briggs Th...</td>\n",
       "      <td>female</td>\n",
       "      <td>38.0</td>\n",
       "      <td>1</td>\n",
       "      <td>0</td>\n",
       "      <td>PC 17599</td>\n",
       "      <td>71.2833</td>\n",
       "      <td>C85</td>\n",
       "      <td>C</td>\n",
       "    </tr>\n",
       "    <tr>\n",
       "      <th>3</th>\n",
       "      <td>3</td>\n",
       "      <td>Heikkinen, Miss. Laina</td>\n",
       "      <td>female</td>\n",
       "      <td>26.0</td>\n",
       "      <td>0</td>\n",
       "      <td>0</td>\n",
       "      <td>STON/O2. 3101282</td>\n",
       "      <td>7.9250</td>\n",
       "      <td>NaN</td>\n",
       "      <td>S</td>\n",
       "    </tr>\n",
       "    <tr>\n",
       "      <th>4</th>\n",
       "      <td>1</td>\n",
       "      <td>Futrelle, Mrs. Jacques Heath (Lily May Peel)</td>\n",
       "      <td>female</td>\n",
       "      <td>35.0</td>\n",
       "      <td>1</td>\n",
       "      <td>0</td>\n",
       "      <td>113803</td>\n",
       "      <td>53.1000</td>\n",
       "      <td>C123</td>\n",
       "      <td>S</td>\n",
       "    </tr>\n",
       "    <tr>\n",
       "      <th>5</th>\n",
       "      <td>3</td>\n",
       "      <td>Allen, Mr. William Henry</td>\n",
       "      <td>male</td>\n",
       "      <td>35.0</td>\n",
       "      <td>0</td>\n",
       "      <td>0</td>\n",
       "      <td>373450</td>\n",
       "      <td>8.0500</td>\n",
       "      <td>NaN</td>\n",
       "      <td>S</td>\n",
       "    </tr>\n",
       "  </tbody>\n",
       "</table>\n",
       "</div>"
      ],
      "text/plain": [
       "             Pclass                                               Name  \\\n",
       "PassengerId                                                              \n",
       "1                 3                            Braund, Mr. Owen Harris   \n",
       "2                 1  Cumings, Mrs. John Bradley (Florence Briggs Th...   \n",
       "3                 3                             Heikkinen, Miss. Laina   \n",
       "4                 1       Futrelle, Mrs. Jacques Heath (Lily May Peel)   \n",
       "5                 3                           Allen, Mr. William Henry   \n",
       "\n",
       "                Sex   Age  SibSp  Parch            Ticket     Fare Cabin  \\\n",
       "PassengerId                                                                \n",
       "1              male  22.0      1      0         A/5 21171   7.2500   NaN   \n",
       "2            female  38.0      1      0          PC 17599  71.2833   C85   \n",
       "3            female  26.0      0      0  STON/O2. 3101282   7.9250   NaN   \n",
       "4            female  35.0      1      0            113803  53.1000  C123   \n",
       "5              male  35.0      0      0            373450   8.0500   NaN   \n",
       "\n",
       "            Embarked  \n",
       "PassengerId           \n",
       "1                  S  \n",
       "2                  C  \n",
       "3                  S  \n",
       "4                  S  \n",
       "5                  S  "
      ]
     },
     "execution_count": 98,
     "metadata": {},
     "output_type": "execute_result"
    }
   ],
   "source": [
    "both = pd.concat([train.drop('Survived', axis=1), test])\n",
    "both.head()"
   ]
  },
  {
   "cell_type": "code",
   "execution_count": 99,
   "metadata": {},
   "outputs": [
    {
     "data": {
      "text/html": [
       "<div>\n",
       "<style scoped>\n",
       "    .dataframe tbody tr th:only-of-type {\n",
       "        vertical-align: middle;\n",
       "    }\n",
       "\n",
       "    .dataframe tbody tr th {\n",
       "        vertical-align: top;\n",
       "    }\n",
       "\n",
       "    .dataframe thead th {\n",
       "        text-align: right;\n",
       "    }\n",
       "</style>\n",
       "<table border=\"1\" class=\"dataframe\">\n",
       "  <thead>\n",
       "    <tr style=\"text-align: right;\">\n",
       "      <th></th>\n",
       "      <th>Pclass</th>\n",
       "      <th>Name</th>\n",
       "      <th>Sex</th>\n",
       "      <th>Age</th>\n",
       "      <th>SibSp</th>\n",
       "      <th>Parch</th>\n",
       "      <th>Ticket</th>\n",
       "      <th>Fare</th>\n",
       "      <th>Cabin</th>\n",
       "      <th>Embarked</th>\n",
       "    </tr>\n",
       "    <tr>\n",
       "      <th>PassengerId</th>\n",
       "      <th></th>\n",
       "      <th></th>\n",
       "      <th></th>\n",
       "      <th></th>\n",
       "      <th></th>\n",
       "      <th></th>\n",
       "      <th></th>\n",
       "      <th></th>\n",
       "      <th></th>\n",
       "      <th></th>\n",
       "    </tr>\n",
       "  </thead>\n",
       "  <tbody>\n",
       "    <tr>\n",
       "      <th>1305</th>\n",
       "      <td>3</td>\n",
       "      <td>Spector, Mr. Woolf</td>\n",
       "      <td>male</td>\n",
       "      <td>NaN</td>\n",
       "      <td>0</td>\n",
       "      <td>0</td>\n",
       "      <td>A.5. 3236</td>\n",
       "      <td>8.0500</td>\n",
       "      <td>NaN</td>\n",
       "      <td>S</td>\n",
       "    </tr>\n",
       "    <tr>\n",
       "      <th>1306</th>\n",
       "      <td>1</td>\n",
       "      <td>Oliva y Ocana, Dona. Fermina</td>\n",
       "      <td>female</td>\n",
       "      <td>39.0</td>\n",
       "      <td>0</td>\n",
       "      <td>0</td>\n",
       "      <td>PC 17758</td>\n",
       "      <td>108.9000</td>\n",
       "      <td>C105</td>\n",
       "      <td>C</td>\n",
       "    </tr>\n",
       "    <tr>\n",
       "      <th>1307</th>\n",
       "      <td>3</td>\n",
       "      <td>Saether, Mr. Simon Sivertsen</td>\n",
       "      <td>male</td>\n",
       "      <td>38.5</td>\n",
       "      <td>0</td>\n",
       "      <td>0</td>\n",
       "      <td>SOTON/O.Q. 3101262</td>\n",
       "      <td>7.2500</td>\n",
       "      <td>NaN</td>\n",
       "      <td>S</td>\n",
       "    </tr>\n",
       "    <tr>\n",
       "      <th>1308</th>\n",
       "      <td>3</td>\n",
       "      <td>Ware, Mr. Frederick</td>\n",
       "      <td>male</td>\n",
       "      <td>NaN</td>\n",
       "      <td>0</td>\n",
       "      <td>0</td>\n",
       "      <td>359309</td>\n",
       "      <td>8.0500</td>\n",
       "      <td>NaN</td>\n",
       "      <td>S</td>\n",
       "    </tr>\n",
       "    <tr>\n",
       "      <th>1309</th>\n",
       "      <td>3</td>\n",
       "      <td>Peter, Master. Michael J</td>\n",
       "      <td>male</td>\n",
       "      <td>NaN</td>\n",
       "      <td>1</td>\n",
       "      <td>1</td>\n",
       "      <td>2668</td>\n",
       "      <td>22.3583</td>\n",
       "      <td>NaN</td>\n",
       "      <td>C</td>\n",
       "    </tr>\n",
       "  </tbody>\n",
       "</table>\n",
       "</div>"
      ],
      "text/plain": [
       "             Pclass                          Name     Sex   Age  SibSp  Parch  \\\n",
       "PassengerId                                                                     \n",
       "1305              3            Spector, Mr. Woolf    male   NaN      0      0   \n",
       "1306              1  Oliva y Ocana, Dona. Fermina  female  39.0      0      0   \n",
       "1307              3  Saether, Mr. Simon Sivertsen    male  38.5      0      0   \n",
       "1308              3           Ware, Mr. Frederick    male   NaN      0      0   \n",
       "1309              3      Peter, Master. Michael J    male   NaN      1      1   \n",
       "\n",
       "                         Ticket      Fare Cabin Embarked  \n",
       "PassengerId                                               \n",
       "1305                  A.5. 3236    8.0500   NaN        S  \n",
       "1306                   PC 17758  108.9000  C105        C  \n",
       "1307         SOTON/O.Q. 3101262    7.2500   NaN        S  \n",
       "1308                     359309    8.0500   NaN        S  \n",
       "1309                       2668   22.3583   NaN        C  "
      ]
     },
     "execution_count": 99,
     "metadata": {},
     "output_type": "execute_result"
    }
   ],
   "source": [
    "both.tail()"
   ]
  },
  {
   "cell_type": "code",
   "execution_count": 144,
   "metadata": {},
   "outputs": [
    {
     "name": "stdout",
     "output_type": "stream",
     "text": [
      "<class 'pandas.core.frame.DataFrame'>\n",
      "Int64Index: 1309 entries, 1 to 1309\n",
      "Data columns (total 16 columns):\n",
      "Pclass                1309 non-null int64\n",
      "Name                  1309 non-null object\n",
      "Sex                   1309 non-null object\n",
      "Age                   1046 non-null float64\n",
      "SibSp                 1309 non-null int64\n",
      "Parch                 1309 non-null int64\n",
      "Ticket                1309 non-null object\n",
      "Fare                  1308 non-null float64\n",
      "Cabin                 295 non-null object\n",
      "Embarked              1307 non-null object\n",
      "Title                 1309 non-null object\n",
      "Mapped Title          1309 non-null object\n",
      "Family size           1309 non-null int64\n",
      "Mapped SibSp          1309 non-null object\n",
      "Mapped Parch          1309 non-null object\n",
      "Mapped Family size    1309 non-null object\n",
      "dtypes: float64(2), int64(4), object(10)\n",
      "memory usage: 173.9+ KB\n"
     ]
    }
   ],
   "source": [
    "both.info()"
   ]
  },
  {
   "cell_type": "markdown",
   "metadata": {},
   "source": [
    " "
   ]
  },
  {
   "cell_type": "markdown",
   "metadata": {},
   "source": [
    "# Adding 'Title' category "
   ]
  },
  {
   "cell_type": "code",
   "execution_count": 100,
   "metadata": {},
   "outputs": [],
   "source": [
    "def get_title(full_name):\n",
    "    return full_name.split(',')[1].split('.')[0].strip()"
   ]
  },
  {
   "cell_type": "code",
   "execution_count": 101,
   "metadata": {},
   "outputs": [],
   "source": [
    "train['Title'] = train['Name'].apply(get_title)\n",
    "test['Title'] = test['Name'].apply(get_title)\n",
    "both['Title'] = both['Name'].apply(get_title)"
   ]
  },
  {
   "cell_type": "code",
   "execution_count": 102,
   "metadata": {},
   "outputs": [
    {
     "name": "stdout",
     "output_type": "stream",
     "text": [
      "Training title info:\n"
     ]
    },
    {
     "data": {
      "text/html": [
       "<div>\n",
       "<style scoped>\n",
       "    .dataframe tbody tr th:only-of-type {\n",
       "        vertical-align: middle;\n",
       "    }\n",
       "\n",
       "    .dataframe tbody tr th {\n",
       "        vertical-align: top;\n",
       "    }\n",
       "\n",
       "    .dataframe thead th {\n",
       "        text-align: right;\n",
       "    }\n",
       "</style>\n",
       "<table border=\"1\" class=\"dataframe\">\n",
       "  <thead>\n",
       "    <tr style=\"text-align: right;\">\n",
       "      <th></th>\n",
       "      <th>Title Instances</th>\n",
       "      <th>% survived</th>\n",
       "    </tr>\n",
       "  </thead>\n",
       "  <tbody>\n",
       "    <tr>\n",
       "      <th>Mr</th>\n",
       "      <td>517</td>\n",
       "      <td>16.0</td>\n",
       "    </tr>\n",
       "    <tr>\n",
       "      <th>Miss</th>\n",
       "      <td>182</td>\n",
       "      <td>70.0</td>\n",
       "    </tr>\n",
       "    <tr>\n",
       "      <th>Mrs</th>\n",
       "      <td>125</td>\n",
       "      <td>79.0</td>\n",
       "    </tr>\n",
       "    <tr>\n",
       "      <th>Master</th>\n",
       "      <td>40</td>\n",
       "      <td>57.0</td>\n",
       "    </tr>\n",
       "    <tr>\n",
       "      <th>Dr</th>\n",
       "      <td>7</td>\n",
       "      <td>43.0</td>\n",
       "    </tr>\n",
       "    <tr>\n",
       "      <th>Rev</th>\n",
       "      <td>6</td>\n",
       "      <td>0.0</td>\n",
       "    </tr>\n",
       "    <tr>\n",
       "      <th>Major</th>\n",
       "      <td>2</td>\n",
       "      <td>50.0</td>\n",
       "    </tr>\n",
       "    <tr>\n",
       "      <th>Col</th>\n",
       "      <td>2</td>\n",
       "      <td>50.0</td>\n",
       "    </tr>\n",
       "    <tr>\n",
       "      <th>Mlle</th>\n",
       "      <td>2</td>\n",
       "      <td>100.0</td>\n",
       "    </tr>\n",
       "    <tr>\n",
       "      <th>Sir</th>\n",
       "      <td>1</td>\n",
       "      <td>100.0</td>\n",
       "    </tr>\n",
       "    <tr>\n",
       "      <th>Ms</th>\n",
       "      <td>1</td>\n",
       "      <td>100.0</td>\n",
       "    </tr>\n",
       "    <tr>\n",
       "      <th>Capt</th>\n",
       "      <td>1</td>\n",
       "      <td>0.0</td>\n",
       "    </tr>\n",
       "    <tr>\n",
       "      <th>Mme</th>\n",
       "      <td>1</td>\n",
       "      <td>100.0</td>\n",
       "    </tr>\n",
       "    <tr>\n",
       "      <th>Lady</th>\n",
       "      <td>1</td>\n",
       "      <td>100.0</td>\n",
       "    </tr>\n",
       "    <tr>\n",
       "      <th>Jonkheer</th>\n",
       "      <td>1</td>\n",
       "      <td>0.0</td>\n",
       "    </tr>\n",
       "    <tr>\n",
       "      <th>Don</th>\n",
       "      <td>1</td>\n",
       "      <td>0.0</td>\n",
       "    </tr>\n",
       "    <tr>\n",
       "      <th>the Countess</th>\n",
       "      <td>1</td>\n",
       "      <td>100.0</td>\n",
       "    </tr>\n",
       "  </tbody>\n",
       "</table>\n",
       "</div>"
      ],
      "text/plain": [
       "              Title Instances  % survived\n",
       "Mr                        517        16.0\n",
       "Miss                      182        70.0\n",
       "Mrs                       125        79.0\n",
       "Master                     40        57.0\n",
       "Dr                          7        43.0\n",
       "Rev                         6         0.0\n",
       "Major                       2        50.0\n",
       "Col                         2        50.0\n",
       "Mlle                        2       100.0\n",
       "Sir                         1       100.0\n",
       "Ms                          1       100.0\n",
       "Capt                        1         0.0\n",
       "Mme                         1       100.0\n",
       "Lady                        1       100.0\n",
       "Jonkheer                    1         0.0\n",
       "Don                         1         0.0\n",
       "the Countess                1       100.0"
      ]
     },
     "execution_count": 102,
     "metadata": {},
     "output_type": "execute_result"
    }
   ],
   "source": [
    "print('Training title info:')\n",
    "pd.DataFrame({'Title Instances' :train['Title'].value_counts(), \n",
    "              '% survived': round(train.groupby(by='Title')['Survived'].mean()*100)}).sort_values(by='Title Instances', ascending=False)"
   ]
  },
  {
   "cell_type": "code",
   "execution_count": 103,
   "metadata": {},
   "outputs": [
    {
     "name": "stdout",
     "output_type": "stream",
     "text": [
      "Test Title info:\n",
      " Mr        240\n",
      "Miss       78\n",
      "Mrs        72\n",
      "Master     21\n",
      "Rev         2\n",
      "Col         2\n",
      "Dona        1\n",
      "Dr          1\n",
      "Ms          1\n",
      "Name: Title, dtype: int64\n"
     ]
    }
   ],
   "source": [
    "print(f\"Test Title info:\\n {test['Title'].value_counts()}\")"
   ]
  },
  {
   "cell_type": "code",
   "execution_count": 104,
   "metadata": {},
   "outputs": [
    {
     "data": {
      "text/html": [
       "<div>\n",
       "<style scoped>\n",
       "    .dataframe tbody tr th:only-of-type {\n",
       "        vertical-align: middle;\n",
       "    }\n",
       "\n",
       "    .dataframe tbody tr th {\n",
       "        vertical-align: top;\n",
       "    }\n",
       "\n",
       "    .dataframe thead th {\n",
       "        text-align: right;\n",
       "    }\n",
       "</style>\n",
       "<table border=\"1\" class=\"dataframe\">\n",
       "  <thead>\n",
       "    <tr style=\"text-align: right;\">\n",
       "      <th></th>\n",
       "      <th>Title Instances</th>\n",
       "      <th>Medium age</th>\n",
       "    </tr>\n",
       "  </thead>\n",
       "  <tbody>\n",
       "    <tr>\n",
       "      <th>Mr</th>\n",
       "      <td>757</td>\n",
       "      <td>29.0</td>\n",
       "    </tr>\n",
       "    <tr>\n",
       "      <th>Miss</th>\n",
       "      <td>260</td>\n",
       "      <td>22.0</td>\n",
       "    </tr>\n",
       "    <tr>\n",
       "      <th>Mrs</th>\n",
       "      <td>197</td>\n",
       "      <td>35.5</td>\n",
       "    </tr>\n",
       "    <tr>\n",
       "      <th>Master</th>\n",
       "      <td>61</td>\n",
       "      <td>4.0</td>\n",
       "    </tr>\n",
       "    <tr>\n",
       "      <th>Rev</th>\n",
       "      <td>8</td>\n",
       "      <td>41.5</td>\n",
       "    </tr>\n",
       "    <tr>\n",
       "      <th>Dr</th>\n",
       "      <td>8</td>\n",
       "      <td>49.0</td>\n",
       "    </tr>\n",
       "    <tr>\n",
       "      <th>Col</th>\n",
       "      <td>4</td>\n",
       "      <td>54.5</td>\n",
       "    </tr>\n",
       "    <tr>\n",
       "      <th>Ms</th>\n",
       "      <td>2</td>\n",
       "      <td>28.0</td>\n",
       "    </tr>\n",
       "    <tr>\n",
       "      <th>Major</th>\n",
       "      <td>2</td>\n",
       "      <td>48.5</td>\n",
       "    </tr>\n",
       "    <tr>\n",
       "      <th>Mlle</th>\n",
       "      <td>2</td>\n",
       "      <td>24.0</td>\n",
       "    </tr>\n",
       "    <tr>\n",
       "      <th>Sir</th>\n",
       "      <td>1</td>\n",
       "      <td>49.0</td>\n",
       "    </tr>\n",
       "    <tr>\n",
       "      <th>Capt</th>\n",
       "      <td>1</td>\n",
       "      <td>70.0</td>\n",
       "    </tr>\n",
       "    <tr>\n",
       "      <th>Mme</th>\n",
       "      <td>1</td>\n",
       "      <td>24.0</td>\n",
       "    </tr>\n",
       "    <tr>\n",
       "      <th>Lady</th>\n",
       "      <td>1</td>\n",
       "      <td>48.0</td>\n",
       "    </tr>\n",
       "    <tr>\n",
       "      <th>Jonkheer</th>\n",
       "      <td>1</td>\n",
       "      <td>38.0</td>\n",
       "    </tr>\n",
       "    <tr>\n",
       "      <th>Dona</th>\n",
       "      <td>1</td>\n",
       "      <td>39.0</td>\n",
       "    </tr>\n",
       "    <tr>\n",
       "      <th>Don</th>\n",
       "      <td>1</td>\n",
       "      <td>40.0</td>\n",
       "    </tr>\n",
       "    <tr>\n",
       "      <th>the Countess</th>\n",
       "      <td>1</td>\n",
       "      <td>33.0</td>\n",
       "    </tr>\n",
       "  </tbody>\n",
       "</table>\n",
       "</div>"
      ],
      "text/plain": [
       "              Title Instances  Medium age\n",
       "Mr                        757        29.0\n",
       "Miss                      260        22.0\n",
       "Mrs                       197        35.5\n",
       "Master                     61         4.0\n",
       "Rev                         8        41.5\n",
       "Dr                          8        49.0\n",
       "Col                         4        54.5\n",
       "Ms                          2        28.0\n",
       "Major                       2        48.5\n",
       "Mlle                        2        24.0\n",
       "Sir                         1        49.0\n",
       "Capt                        1        70.0\n",
       "Mme                         1        24.0\n",
       "Lady                        1        48.0\n",
       "Jonkheer                    1        38.0\n",
       "Dona                        1        39.0\n",
       "Don                         1        40.0\n",
       "the Countess                1        33.0"
      ]
     },
     "execution_count": 104,
     "metadata": {},
     "output_type": "execute_result"
    }
   ],
   "source": [
    "pd.DataFrame({'Title Instances' :both['Title'].value_counts(), \n",
    "              'Medium age': both.groupby('Title')['Age'].median()}).sort_values(by='Title Instances', ascending=False)\n"
   ]
  },
  {
   "cell_type": "markdown",
   "metadata": {},
   "source": [
    "#### Titles conclusions:\n",
    "- Main categories: Mr, Miss, Mrs, Master\n",
    "- Might be able to consider as a category: Rev, Dr (each appearing 6-7 times in the training sample).  Rev - all not survived, Dr - 50% survived, above average Mr.  Although they don't behave so much like a Mr. - still think we can't learn too much from such small numbers, putting together with Mr.\n",
    "- The rest appear so rarely, doesn't make sense to make conclusions based on their survival rate inside the title.  Doesn't make sense to leave as a separate category, since don't have much in common.  Splitting into categories based on gender, age and marital status."
   ]
  },
  {
   "cell_type": "code",
   "execution_count": 582,
   "metadata": {},
   "outputs": [
    {
     "data": {
      "text/plain": [
       "Mr        783\n",
       "Miss      264\n",
       "Mrs       201\n",
       "Master     61\n",
       "Name: Mapped Title, dtype: int64"
      ]
     },
     "execution_count": 582,
     "metadata": {},
     "output_type": "execute_result"
    }
   ],
   "source": [
    "both['Mapped Title'] = both['Title'].replace({'Lady': 'Mrs', \n",
    "                                              'Mme': 'Mrs',\n",
    "                                              'Dona': 'Mrs',\n",
    "                                              'the Countess': 'Mrs',\n",
    "                                              'Ms': 'Miss', \n",
    "                                              'Mlle': 'Miss',\n",
    "                                              'Sir': 'Mr',\n",
    "                                              'Major': 'Mr',\n",
    "                                              'Capt': 'Mr',\n",
    "                                              'Jonkheer': 'Mr',\n",
    "                                              'Don': 'Mr',\n",
    "                                              'Col': 'Mr',\n",
    "                                              'Rev': 'Mr',\n",
    "                                              'Dr': 'Mr'})\n",
    "train['Mapped Title'] = train['Title'].replace({'Lady': 'Mrs', \n",
    "                                              'Mme': 'Mrs',\n",
    "                                              'Dona': 'Mrs',\n",
    "                                              'the Countess': 'Mrs',\n",
    "                                              'Ms': 'Miss', \n",
    "                                              'Mlle': 'Miss',\n",
    "                                              'Sir': 'Mr',\n",
    "                                              'Major': 'Mr',\n",
    "                                              'Capt': 'Mr',\n",
    "                                              'Jonkheer': 'Mr',\n",
    "                                              'Don': 'Mr',\n",
    "                                              'Col': 'Mr',\n",
    "                                              'Rev': 'Mr',\n",
    "                                              'Dr': 'Mr'}) \n",
    "both['Mapped Title'].value_counts()"
   ]
  },
  {
   "cell_type": "markdown",
   "metadata": {},
   "source": [
    " "
   ]
  },
  {
   "cell_type": "markdown",
   "metadata": {},
   "source": [
    "## Handling Parch (Parents, children), SibSp (Siblings, Spouces), Family size"
   ]
  },
  {
   "cell_type": "markdown",
   "metadata": {},
   "source": [
    "#### Handling Parch (Parents, children)"
   ]
  },
  {
   "cell_type": "code",
   "execution_count": 109,
   "metadata": {},
   "outputs": [
    {
     "name": "stdout",
     "output_type": "stream",
     "text": [
      "Number of Parents/children survival rate in training set:\n"
     ]
    },
    {
     "data": {
      "text/html": [
       "<div>\n",
       "<style scoped>\n",
       "    .dataframe tbody tr th:only-of-type {\n",
       "        vertical-align: middle;\n",
       "    }\n",
       "\n",
       "    .dataframe tbody tr th {\n",
       "        vertical-align: top;\n",
       "    }\n",
       "\n",
       "    .dataframe thead th {\n",
       "        text-align: right;\n",
       "    }\n",
       "</style>\n",
       "<table border=\"1\" class=\"dataframe\">\n",
       "  <thead>\n",
       "    <tr style=\"text-align: right;\">\n",
       "      <th></th>\n",
       "      <th>Parch Instances</th>\n",
       "      <th>% survived</th>\n",
       "    </tr>\n",
       "  </thead>\n",
       "  <tbody>\n",
       "    <tr>\n",
       "      <th>0</th>\n",
       "      <td>678</td>\n",
       "      <td>34.0</td>\n",
       "    </tr>\n",
       "    <tr>\n",
       "      <th>1</th>\n",
       "      <td>118</td>\n",
       "      <td>55.0</td>\n",
       "    </tr>\n",
       "    <tr>\n",
       "      <th>2</th>\n",
       "      <td>80</td>\n",
       "      <td>50.0</td>\n",
       "    </tr>\n",
       "    <tr>\n",
       "      <th>3</th>\n",
       "      <td>5</td>\n",
       "      <td>60.0</td>\n",
       "    </tr>\n",
       "    <tr>\n",
       "      <th>4</th>\n",
       "      <td>4</td>\n",
       "      <td>0.0</td>\n",
       "    </tr>\n",
       "    <tr>\n",
       "      <th>5</th>\n",
       "      <td>5</td>\n",
       "      <td>20.0</td>\n",
       "    </tr>\n",
       "    <tr>\n",
       "      <th>6</th>\n",
       "      <td>1</td>\n",
       "      <td>0.0</td>\n",
       "    </tr>\n",
       "  </tbody>\n",
       "</table>\n",
       "</div>"
      ],
      "text/plain": [
       "   Parch Instances  % survived\n",
       "0              678        34.0\n",
       "1              118        55.0\n",
       "2               80        50.0\n",
       "3                5        60.0\n",
       "4                4         0.0\n",
       "5                5        20.0\n",
       "6                1         0.0"
      ]
     },
     "execution_count": 109,
     "metadata": {},
     "output_type": "execute_result"
    }
   ],
   "source": [
    "print('Number of Parents/children + survival rate in training set:')\n",
    "pd.DataFrame({'Parch Instances' :train['Parch'].value_counts(), \n",
    "              '% survived': round(train.groupby(by='Parch')['Survived'].mean()*100)})"
   ]
  },
  {
   "cell_type": "code",
   "execution_count": 117,
   "metadata": {},
   "outputs": [
    {
     "name": "stdout",
     "output_type": "stream",
     "text": [
      "Number of Parents/children in testing set:\n",
      "0    324\n",
      "1     52\n",
      "2     33\n",
      "3      3\n",
      "4      2\n",
      "5      1\n",
      "6      1\n",
      "9      2\n",
      "Name: Parch, dtype: int64\n"
     ]
    }
   ],
   "source": [
    "print(f\"Number of Parents/children in testing set:\\n{test['Parch'].value_counts().sort_index()}\")"
   ]
  },
  {
   "cell_type": "code",
   "execution_count": 115,
   "metadata": {},
   "outputs": [
    {
     "name": "stdout",
     "output_type": "stream",
     "text": [
      "Number of Parents/children survival rate in both sets:\n",
      "0    1002\n",
      "1     170\n",
      "2     113\n",
      "3       8\n",
      "4       6\n",
      "5       6\n",
      "6       2\n",
      "9       2\n",
      "Name: Parch, dtype: int64\n"
     ]
    }
   ],
   "source": [
    "print(f\"Number of Parents/children survival rate in both sets:\\n{both['Parch'].value_counts().sort_index()}\")"
   ]
  },
  {
   "cell_type": "markdown",
   "metadata": {},
   "source": [
    "Just looking at Parch (number of parents/children) and the survival rate, seems that the best way to group is:\n",
    "- 0 separately\n",
    "- 1 & 2 - either together or separately (55 vs 50% survival)\n",
    "- 3 has 60% survival, but too few observations (5 in training set), so probably better to put it together with 1 & 2\n",
    "- 4 and up - survival rates low, but too few observations to make definite conclusions, can put together    "
   ]
  },
  {
   "cell_type": "code",
   "execution_count": 140,
   "metadata": {},
   "outputs": [
    {
     "data": {
      "text/plain": [
       "0        1002\n",
       "1_2_3     291\n",
       "4+         16\n",
       "Name: Mapped Parch, dtype: int64"
      ]
     },
     "execution_count": 140,
     "metadata": {},
     "output_type": "execute_result"
    }
   ],
   "source": [
    "both['Mapped Parch'] = both['Parch'].replace({0: '0', \n",
    "                                              1: '1_2_3', 2: '1_2_3', 3: '1_2_3', \n",
    "                                              4: '4+', 5: '4+', 6: '4+', 9: '4+'})\n",
    "both['Mapped Parch'].value_counts()"
   ]
  },
  {
   "cell_type": "markdown",
   "metadata": {},
   "source": [
    "#### Handling SibSp (Siblings, Spouces)"
   ]
  },
  {
   "cell_type": "code",
   "execution_count": 116,
   "metadata": {},
   "outputs": [
    {
     "name": "stdout",
     "output_type": "stream",
     "text": [
      "Number of Siblings/spouces + survival rate in training set:\n"
     ]
    },
    {
     "data": {
      "text/html": [
       "<div>\n",
       "<style scoped>\n",
       "    .dataframe tbody tr th:only-of-type {\n",
       "        vertical-align: middle;\n",
       "    }\n",
       "\n",
       "    .dataframe tbody tr th {\n",
       "        vertical-align: top;\n",
       "    }\n",
       "\n",
       "    .dataframe thead th {\n",
       "        text-align: right;\n",
       "    }\n",
       "</style>\n",
       "<table border=\"1\" class=\"dataframe\">\n",
       "  <thead>\n",
       "    <tr style=\"text-align: right;\">\n",
       "      <th></th>\n",
       "      <th>SibSp Instances</th>\n",
       "      <th>% survived</th>\n",
       "    </tr>\n",
       "  </thead>\n",
       "  <tbody>\n",
       "    <tr>\n",
       "      <th>0</th>\n",
       "      <td>608</td>\n",
       "      <td>35.0</td>\n",
       "    </tr>\n",
       "    <tr>\n",
       "      <th>1</th>\n",
       "      <td>209</td>\n",
       "      <td>54.0</td>\n",
       "    </tr>\n",
       "    <tr>\n",
       "      <th>2</th>\n",
       "      <td>28</td>\n",
       "      <td>46.0</td>\n",
       "    </tr>\n",
       "    <tr>\n",
       "      <th>3</th>\n",
       "      <td>16</td>\n",
       "      <td>25.0</td>\n",
       "    </tr>\n",
       "    <tr>\n",
       "      <th>4</th>\n",
       "      <td>18</td>\n",
       "      <td>17.0</td>\n",
       "    </tr>\n",
       "    <tr>\n",
       "      <th>5</th>\n",
       "      <td>5</td>\n",
       "      <td>0.0</td>\n",
       "    </tr>\n",
       "    <tr>\n",
       "      <th>8</th>\n",
       "      <td>7</td>\n",
       "      <td>0.0</td>\n",
       "    </tr>\n",
       "  </tbody>\n",
       "</table>\n",
       "</div>"
      ],
      "text/plain": [
       "   SibSp Instances  % survived\n",
       "0              608        35.0\n",
       "1              209        54.0\n",
       "2               28        46.0\n",
       "3               16        25.0\n",
       "4               18        17.0\n",
       "5                5         0.0\n",
       "8                7         0.0"
      ]
     },
     "execution_count": 116,
     "metadata": {},
     "output_type": "execute_result"
    }
   ],
   "source": [
    "print('Number of Siblings/spouces + survival rate in training set:')\n",
    "pd.DataFrame({'SibSp Instances' :train['SibSp'].value_counts(), \n",
    "              '% survived': round(train.groupby(by='SibSp')['Survived'].mean()*100)})"
   ]
  },
  {
   "cell_type": "code",
   "execution_count": 118,
   "metadata": {},
   "outputs": [
    {
     "name": "stdout",
     "output_type": "stream",
     "text": [
      "Number of Siblings/spouces in testing set:\n",
      "0    283\n",
      "1    110\n",
      "2     14\n",
      "3      4\n",
      "4      4\n",
      "5      1\n",
      "8      2\n",
      "Name: SibSp, dtype: int64\n"
     ]
    }
   ],
   "source": [
    "print(f\"Number of Siblings/spouces in testing set:\\n{test['SibSp'].value_counts().sort_index()}\")"
   ]
  },
  {
   "cell_type": "code",
   "execution_count": 119,
   "metadata": {},
   "outputs": [
    {
     "name": "stdout",
     "output_type": "stream",
     "text": [
      "Number of Siblings/spouces survival rate in both sets:\n",
      "0    891\n",
      "1    319\n",
      "2     42\n",
      "3     20\n",
      "4     22\n",
      "5      6\n",
      "8      9\n",
      "Name: SibSp, dtype: int64\n"
     ]
    }
   ],
   "source": [
    "print(f\"Number of Siblings/spouces survival rate in both sets:\\n{both['SibSp'].value_counts().sort_index()}\")"
   ]
  },
  {
   "cell_type": "markdown",
   "metadata": {},
   "source": [
    "Just looking at SibSp (number of siblings/spouces) and the survival rates, seems the best way to group is:\n",
    "- 5 & 8 don't have enough observations, but all the others have enough observations, and quite different survival rate\n",
    "- So group 5 & 8 together, all the others can leave separately.  \n",
    "- Decide if to give 5 & 8 the same number, and leave this feature numerical, or split into categories"
   ]
  },
  {
   "cell_type": "code",
   "execution_count": 137,
   "metadata": {},
   "outputs": [
    {
     "data": {
      "text/plain": [
       "0     891\n",
       "1     319\n",
       "2      42\n",
       "3      20\n",
       "4      22\n",
       "5+     15\n",
       "Name: Mapped SibSp, dtype: int64"
      ]
     },
     "execution_count": 137,
     "metadata": {},
     "output_type": "execute_result"
    }
   ],
   "source": [
    "both['Mapped SibSp'] = both['SibSp'].replace({0: '0', 1: '1', 2: '2', 3: '3', 4: '4', \n",
    "                                              5: '5+', \n",
    "                                              8: '5+'})\n",
    "both['Mapped SibSp'].value_counts().sort_index()"
   ]
  },
  {
   "cell_type": "markdown",
   "metadata": {},
   "source": [
    "#### Adding new category Family size (1 + SibSp + Parch)"
   ]
  },
  {
   "cell_type": "code",
   "execution_count": 121,
   "metadata": {},
   "outputs": [],
   "source": [
    "train['Family size'] = 1 + train['Parch'] + train['SibSp']\n",
    "test['Family size'] = 1 + test['Parch'] + test['SibSp']\n",
    "both['Family size'] = 1 + both['Parch'] + both['SibSp']"
   ]
  },
  {
   "cell_type": "code",
   "execution_count": 122,
   "metadata": {},
   "outputs": [
    {
     "name": "stdout",
     "output_type": "stream",
     "text": [
      "Number of Family members + survival rate in training set:\n"
     ]
    },
    {
     "data": {
      "text/html": [
       "<div>\n",
       "<style scoped>\n",
       "    .dataframe tbody tr th:only-of-type {\n",
       "        vertical-align: middle;\n",
       "    }\n",
       "\n",
       "    .dataframe tbody tr th {\n",
       "        vertical-align: top;\n",
       "    }\n",
       "\n",
       "    .dataframe thead th {\n",
       "        text-align: right;\n",
       "    }\n",
       "</style>\n",
       "<table border=\"1\" class=\"dataframe\">\n",
       "  <thead>\n",
       "    <tr style=\"text-align: right;\">\n",
       "      <th></th>\n",
       "      <th>Family members Instances</th>\n",
       "      <th>% survived</th>\n",
       "    </tr>\n",
       "  </thead>\n",
       "  <tbody>\n",
       "    <tr>\n",
       "      <th>1</th>\n",
       "      <td>537</td>\n",
       "      <td>30.0</td>\n",
       "    </tr>\n",
       "    <tr>\n",
       "      <th>2</th>\n",
       "      <td>161</td>\n",
       "      <td>55.0</td>\n",
       "    </tr>\n",
       "    <tr>\n",
       "      <th>3</th>\n",
       "      <td>102</td>\n",
       "      <td>58.0</td>\n",
       "    </tr>\n",
       "    <tr>\n",
       "      <th>4</th>\n",
       "      <td>29</td>\n",
       "      <td>72.0</td>\n",
       "    </tr>\n",
       "    <tr>\n",
       "      <th>5</th>\n",
       "      <td>15</td>\n",
       "      <td>20.0</td>\n",
       "    </tr>\n",
       "    <tr>\n",
       "      <th>6</th>\n",
       "      <td>22</td>\n",
       "      <td>14.0</td>\n",
       "    </tr>\n",
       "    <tr>\n",
       "      <th>7</th>\n",
       "      <td>12</td>\n",
       "      <td>33.0</td>\n",
       "    </tr>\n",
       "    <tr>\n",
       "      <th>8</th>\n",
       "      <td>6</td>\n",
       "      <td>0.0</td>\n",
       "    </tr>\n",
       "    <tr>\n",
       "      <th>11</th>\n",
       "      <td>7</td>\n",
       "      <td>0.0</td>\n",
       "    </tr>\n",
       "  </tbody>\n",
       "</table>\n",
       "</div>"
      ],
      "text/plain": [
       "    Family members Instances  % survived\n",
       "1                        537        30.0\n",
       "2                        161        55.0\n",
       "3                        102        58.0\n",
       "4                         29        72.0\n",
       "5                         15        20.0\n",
       "6                         22        14.0\n",
       "7                         12        33.0\n",
       "8                          6         0.0\n",
       "11                         7         0.0"
      ]
     },
     "execution_count": 122,
     "metadata": {},
     "output_type": "execute_result"
    }
   ],
   "source": [
    "print('Number of Family members + survival rate in training set:')\n",
    "pd.DataFrame({'Family members Instances' :train['Family size'].value_counts(), \n",
    "              '% survived': round(train.groupby(by='Family size')['Survived'].mean()*100)})"
   ]
  },
  {
   "cell_type": "code",
   "execution_count": 123,
   "metadata": {},
   "outputs": [
    {
     "name": "stdout",
     "output_type": "stream",
     "text": [
      "Number of Family members in testing set:\n",
      "1     253\n",
      "2      74\n",
      "3      57\n",
      "4      14\n",
      "5       7\n",
      "6       3\n",
      "7       4\n",
      "8       2\n",
      "11      4\n",
      "Name: Family size, dtype: int64\n"
     ]
    }
   ],
   "source": [
    "print(f\"Number of Family members in testing set:\\n{test['Family size'].value_counts().sort_index()}\")"
   ]
  },
  {
   "cell_type": "code",
   "execution_count": 124,
   "metadata": {},
   "outputs": [
    {
     "name": "stdout",
     "output_type": "stream",
     "text": [
      "Number of Family members in both sets:\n",
      "1     790\n",
      "2     235\n",
      "3     159\n",
      "4      43\n",
      "5      22\n",
      "6      25\n",
      "7      16\n",
      "8       8\n",
      "11     11\n",
      "Name: Family size, dtype: int64\n"
     ]
    }
   ],
   "source": [
    "print(f\"Number of Family members in both sets:\\n{both['Family size'].value_counts().sort_index()}\")"
   ]
  },
  {
   "cell_type": "markdown",
   "metadata": {},
   "source": [
    "Just looking at Family Size and the survival rates, seems the best way to group is:\n",
    "- 1\n",
    "- 2 & 3\n",
    "- 4\n",
    "- 5, 6, 7\n",
    "- 8 and more \n",
    "\n",
    "It's clear that there will be high correlation between these 3 categories (there are 2 more categories below that will also have high correlation, number with same last name, and number with same ticket number).  Can let the models to actually choose what's the most important categories"
   ]
  },
  {
   "cell_type": "code",
   "execution_count": 142,
   "metadata": {},
   "outputs": [
    {
     "data": {
      "text/plain": [
       "1        790\n",
       "2_3      394\n",
       "4         43\n",
       "5_6_7     63\n",
       "8+        19\n",
       "Name: Mapped Family size, dtype: int64"
      ]
     },
     "execution_count": 142,
     "metadata": {},
     "output_type": "execute_result"
    }
   ],
   "source": [
    "both['Mapped Family size'] = both['Family size'].replace({1: '1', \n",
    "                                                          2: '2_3', 3: '2_3', \n",
    "                                                          4: '4', \n",
    "                                                          5: '5_6_7', 6: '5_6_7', 7: '5_6_7',\n",
    "                                                          8: '8+', 11: '8+'})\n",
    "both['Mapped Family size'].value_counts().sort_index()"
   ]
  },
  {
   "cell_type": "markdown",
   "metadata": {},
   "source": [
    " "
   ]
  },
  {
   "cell_type": "markdown",
   "metadata": {},
   "source": [
    "## New Deck feature"
   ]
  },
  {
   "cell_type": "code",
   "execution_count": 162,
   "metadata": {},
   "outputs": [
    {
     "name": "stdout",
     "output_type": "stream",
     "text": [
      "Set Deck for train, test and both\n"
     ]
    }
   ],
   "source": [
    "def set_deck(df):\n",
    "    df['Cabin'] = df['Cabin'].fillna('unknown')\n",
    "    df['Deck'] = df['Cabin'].apply(lambda cab: cab[0] if (cab != 'unknown') else cab)\n",
    "set_deck(train)\n",
    "set_deck(test)\n",
    "set_deck(both)\n",
    "print(f'Set Deck for train, test and both')"
   ]
  },
  {
   "cell_type": "code",
   "execution_count": 163,
   "metadata": {},
   "outputs": [
    {
     "name": "stdout",
     "output_type": "stream",
     "text": [
      "Number of people per Deck + survival rate in training set:\n"
     ]
    },
    {
     "data": {
      "text/html": [
       "<div>\n",
       "<style scoped>\n",
       "    .dataframe tbody tr th:only-of-type {\n",
       "        vertical-align: middle;\n",
       "    }\n",
       "\n",
       "    .dataframe tbody tr th {\n",
       "        vertical-align: top;\n",
       "    }\n",
       "\n",
       "    .dataframe thead th {\n",
       "        text-align: right;\n",
       "    }\n",
       "</style>\n",
       "<table border=\"1\" class=\"dataframe\">\n",
       "  <thead>\n",
       "    <tr style=\"text-align: right;\">\n",
       "      <th></th>\n",
       "      <th>Number people on Deck</th>\n",
       "      <th>% survived</th>\n",
       "    </tr>\n",
       "  </thead>\n",
       "  <tbody>\n",
       "    <tr>\n",
       "      <th>A</th>\n",
       "      <td>15</td>\n",
       "      <td>47.0</td>\n",
       "    </tr>\n",
       "    <tr>\n",
       "      <th>B</th>\n",
       "      <td>47</td>\n",
       "      <td>74.0</td>\n",
       "    </tr>\n",
       "    <tr>\n",
       "      <th>C</th>\n",
       "      <td>59</td>\n",
       "      <td>59.0</td>\n",
       "    </tr>\n",
       "    <tr>\n",
       "      <th>D</th>\n",
       "      <td>33</td>\n",
       "      <td>76.0</td>\n",
       "    </tr>\n",
       "    <tr>\n",
       "      <th>E</th>\n",
       "      <td>32</td>\n",
       "      <td>75.0</td>\n",
       "    </tr>\n",
       "    <tr>\n",
       "      <th>F</th>\n",
       "      <td>13</td>\n",
       "      <td>62.0</td>\n",
       "    </tr>\n",
       "    <tr>\n",
       "      <th>G</th>\n",
       "      <td>4</td>\n",
       "      <td>50.0</td>\n",
       "    </tr>\n",
       "    <tr>\n",
       "      <th>T</th>\n",
       "      <td>1</td>\n",
       "      <td>0.0</td>\n",
       "    </tr>\n",
       "    <tr>\n",
       "      <th>unknown</th>\n",
       "      <td>687</td>\n",
       "      <td>30.0</td>\n",
       "    </tr>\n",
       "  </tbody>\n",
       "</table>\n",
       "</div>"
      ],
      "text/plain": [
       "         Number people on Deck  % survived\n",
       "A                           15        47.0\n",
       "B                           47        74.0\n",
       "C                           59        59.0\n",
       "D                           33        76.0\n",
       "E                           32        75.0\n",
       "F                           13        62.0\n",
       "G                            4        50.0\n",
       "T                            1         0.0\n",
       "unknown                    687        30.0"
      ]
     },
     "execution_count": 163,
     "metadata": {},
     "output_type": "execute_result"
    }
   ],
   "source": [
    "print('Number of people per Deck + survival rate in training set:')\n",
    "pd.DataFrame({'Number people on Deck': train['Deck'].value_counts(), \n",
    "              '% survived': round(train.groupby(by='Deck')['Survived'].mean()*100)})"
   ]
  },
  {
   "cell_type": "code",
   "execution_count": 166,
   "metadata": {},
   "outputs": [
    {
     "name": "stdout",
     "output_type": "stream",
     "text": [
      "Number of people on deck in testing set:\n",
      "A            7\n",
      "B           18\n",
      "C           35\n",
      "D           13\n",
      "E            9\n",
      "F            8\n",
      "G            1\n",
      "unknown    327\n",
      "Name: Deck, dtype: int64\n"
     ]
    }
   ],
   "source": [
    "print(f\"Number of people on deck in testing set:\\n{test['Deck'].value_counts().sort_index()}\")"
   ]
  },
  {
   "cell_type": "code",
   "execution_count": 167,
   "metadata": {},
   "outputs": [
    {
     "name": "stdout",
     "output_type": "stream",
     "text": [
      "Number of people on deck in both sets:\n",
      "A            22\n",
      "B            65\n",
      "C            94\n",
      "D            46\n",
      "E            41\n",
      "F            21\n",
      "G             5\n",
      "T             1\n",
      "unknown    1014\n",
      "Name: Deck, dtype: int64\n"
     ]
    }
   ],
   "source": [
    "print(f\"Number of people on deck in both sets:\\n{both['Deck'].value_counts().sort_index()}\")"
   ]
  },
  {
   "cell_type": "markdown",
   "metadata": {},
   "source": [
    " "
   ]
  },
  {
   "cell_type": "markdown",
   "metadata": {},
   "source": [
    "Based on survival rate and number of people in every group, it makes sense to group it in the following way:\n",
    "- T to put with unknown - not enough people in the group\n",
    "- B, D, E - put together - around 75%\n",
    "- C, F - put together - around 60%\n",
    "- A, G - around 50%"
   ]
  },
  {
   "cell_type": "code",
   "execution_count": 168,
   "metadata": {},
   "outputs": [
    {
     "data": {
      "text/plain": [
       "AG             27\n",
       "BDE           152\n",
       "CF            115\n",
       "unknown_T    1015\n",
       "Name: Mapped Deck, dtype: int64"
      ]
     },
     "execution_count": 168,
     "metadata": {},
     "output_type": "execute_result"
    }
   ],
   "source": [
    "both['Mapped Deck'] = both['Deck'].replace({'unknown': 'unknown_T', 'T': 'unknown_T',\n",
    "                                            'B': 'BDE', 'D': 'BDE', 'E': 'BDE', \n",
    "                                            'C': 'CF', 'F': 'CF',\n",
    "                                            'A': 'AG', 'G': 'AG'})\n",
    "both['Mapped Deck'].value_counts().sort_index()"
   ]
  },
  {
   "cell_type": "markdown",
   "metadata": {},
   "source": [
    " "
   ]
  },
  {
   "cell_type": "markdown",
   "metadata": {},
   "source": [
    "## Obvious - add a category for Pclass"
   ]
  },
  {
   "cell_type": "code",
   "execution_count": 169,
   "metadata": {},
   "outputs": [
    {
     "name": "stdout",
     "output_type": "stream",
     "text": [
      "Number of people per Pclass + survival rate in training set:\n"
     ]
    },
    {
     "data": {
      "text/html": [
       "<div>\n",
       "<style scoped>\n",
       "    .dataframe tbody tr th:only-of-type {\n",
       "        vertical-align: middle;\n",
       "    }\n",
       "\n",
       "    .dataframe tbody tr th {\n",
       "        vertical-align: top;\n",
       "    }\n",
       "\n",
       "    .dataframe thead th {\n",
       "        text-align: right;\n",
       "    }\n",
       "</style>\n",
       "<table border=\"1\" class=\"dataframe\">\n",
       "  <thead>\n",
       "    <tr style=\"text-align: right;\">\n",
       "      <th></th>\n",
       "      <th>Number people per Pclass</th>\n",
       "      <th>% survived</th>\n",
       "    </tr>\n",
       "  </thead>\n",
       "  <tbody>\n",
       "    <tr>\n",
       "      <th>1</th>\n",
       "      <td>216</td>\n",
       "      <td>63.0</td>\n",
       "    </tr>\n",
       "    <tr>\n",
       "      <th>2</th>\n",
       "      <td>184</td>\n",
       "      <td>47.0</td>\n",
       "    </tr>\n",
       "    <tr>\n",
       "      <th>3</th>\n",
       "      <td>491</td>\n",
       "      <td>24.0</td>\n",
       "    </tr>\n",
       "  </tbody>\n",
       "</table>\n",
       "</div>"
      ],
      "text/plain": [
       "   Number people per Pclass  % survived\n",
       "1                       216        63.0\n",
       "2                       184        47.0\n",
       "3                       491        24.0"
      ]
     },
     "execution_count": 169,
     "metadata": {},
     "output_type": "execute_result"
    }
   ],
   "source": [
    "print('Number of people per Pclass + survival rate in training set:')\n",
    "pd.DataFrame({'Number people per Pclass': train['Pclass'].value_counts(), \n",
    "              '% survived': round(train.groupby(by='Pclass')['Survived'].mean()*100)})"
   ]
  },
  {
   "cell_type": "code",
   "execution_count": 170,
   "metadata": {},
   "outputs": [
    {
     "name": "stdout",
     "output_type": "stream",
     "text": [
      "Number of people per class in testing set:\n",
      "1    107\n",
      "2     93\n",
      "3    218\n",
      "Name: Pclass, dtype: int64\n"
     ]
    }
   ],
   "source": [
    "print(f\"Number of people per class in testing set:\\n{test['Pclass'].value_counts().sort_index()}\")"
   ]
  },
  {
   "cell_type": "code",
   "execution_count": 172,
   "metadata": {},
   "outputs": [
    {
     "name": "stdout",
     "output_type": "stream",
     "text": [
      "Number of people per class in both sets:\n",
      "1    323\n",
      "2    277\n",
      "3    709\n",
      "Name: Pclass, dtype: int64\n"
     ]
    }
   ],
   "source": [
    "print(f\"Number of people per class in both sets:\\n{both['Pclass'].value_counts().sort_index()}\")"
   ]
  },
  {
   "cell_type": "markdown",
   "metadata": {},
   "source": [
    "**Conclusion**: there are enough people all classes, and survival rates differ per class"
   ]
  },
  {
   "cell_type": "markdown",
   "metadata": {},
   "source": [
    " "
   ]
  },
  {
   "cell_type": "markdown",
   "metadata": {},
   "source": [
    "## Obvious - add a category for Sex"
   ]
  },
  {
   "cell_type": "code",
   "execution_count": 173,
   "metadata": {},
   "outputs": [
    {
     "name": "stdout",
     "output_type": "stream",
     "text": [
      "Number of people per Sex + survival rate in training set:\n"
     ]
    },
    {
     "data": {
      "text/html": [
       "<div>\n",
       "<style scoped>\n",
       "    .dataframe tbody tr th:only-of-type {\n",
       "        vertical-align: middle;\n",
       "    }\n",
       "\n",
       "    .dataframe tbody tr th {\n",
       "        vertical-align: top;\n",
       "    }\n",
       "\n",
       "    .dataframe thead th {\n",
       "        text-align: right;\n",
       "    }\n",
       "</style>\n",
       "<table border=\"1\" class=\"dataframe\">\n",
       "  <thead>\n",
       "    <tr style=\"text-align: right;\">\n",
       "      <th></th>\n",
       "      <th>Number people per Sex</th>\n",
       "      <th>% survived</th>\n",
       "    </tr>\n",
       "  </thead>\n",
       "  <tbody>\n",
       "    <tr>\n",
       "      <th>female</th>\n",
       "      <td>314</td>\n",
       "      <td>74.0</td>\n",
       "    </tr>\n",
       "    <tr>\n",
       "      <th>male</th>\n",
       "      <td>577</td>\n",
       "      <td>19.0</td>\n",
       "    </tr>\n",
       "  </tbody>\n",
       "</table>\n",
       "</div>"
      ],
      "text/plain": [
       "        Number people per Sex  % survived\n",
       "female                    314        74.0\n",
       "male                      577        19.0"
      ]
     },
     "execution_count": 173,
     "metadata": {},
     "output_type": "execute_result"
    }
   ],
   "source": [
    "print('Number of people per Sex + survival rate in training set:')\n",
    "pd.DataFrame({'Number people per Sex': train['Sex'].value_counts(), \n",
    "              '% survived': round(train.groupby(by='Sex')['Survived'].mean()*100)})"
   ]
  },
  {
   "cell_type": "code",
   "execution_count": 174,
   "metadata": {},
   "outputs": [
    {
     "name": "stdout",
     "output_type": "stream",
     "text": [
      "Number of people per Sex in testing set:\n",
      "female    152\n",
      "male      266\n",
      "Name: Sex, dtype: int64\n"
     ]
    }
   ],
   "source": [
    "print(f\"Number of people per Sex in testing set:\\n{test['Sex'].value_counts().sort_index()}\")"
   ]
  },
  {
   "cell_type": "code",
   "execution_count": 175,
   "metadata": {},
   "outputs": [
    {
     "name": "stdout",
     "output_type": "stream",
     "text": [
      "Number of people per Sex in both sets:\n",
      "female    466\n",
      "male      843\n",
      "Name: Sex, dtype: int64\n"
     ]
    }
   ],
   "source": [
    "print(f\"Number of people per Sex in both sets:\\n{both['Sex'].value_counts().sort_index()}\")"
   ]
  },
  {
   "cell_type": "markdown",
   "metadata": {},
   "source": [
    " "
   ]
  },
  {
   "cell_type": "markdown",
   "metadata": {},
   "source": [
    "## Obvious - add a category for Embarked"
   ]
  },
  {
   "cell_type": "code",
   "execution_count": 177,
   "metadata": {},
   "outputs": [
    {
     "name": "stdout",
     "output_type": "stream",
     "text": [
      "Number of people per Embarked + survival rate in training set:\n"
     ]
    },
    {
     "data": {
      "text/html": [
       "<div>\n",
       "<style scoped>\n",
       "    .dataframe tbody tr th:only-of-type {\n",
       "        vertical-align: middle;\n",
       "    }\n",
       "\n",
       "    .dataframe tbody tr th {\n",
       "        vertical-align: top;\n",
       "    }\n",
       "\n",
       "    .dataframe thead th {\n",
       "        text-align: right;\n",
       "    }\n",
       "</style>\n",
       "<table border=\"1\" class=\"dataframe\">\n",
       "  <thead>\n",
       "    <tr style=\"text-align: right;\">\n",
       "      <th></th>\n",
       "      <th>Number people per Embarked</th>\n",
       "      <th>% survived</th>\n",
       "    </tr>\n",
       "  </thead>\n",
       "  <tbody>\n",
       "    <tr>\n",
       "      <th>C</th>\n",
       "      <td>168</td>\n",
       "      <td>55.0</td>\n",
       "    </tr>\n",
       "    <tr>\n",
       "      <th>Q</th>\n",
       "      <td>77</td>\n",
       "      <td>39.0</td>\n",
       "    </tr>\n",
       "    <tr>\n",
       "      <th>S</th>\n",
       "      <td>644</td>\n",
       "      <td>34.0</td>\n",
       "    </tr>\n",
       "  </tbody>\n",
       "</table>\n",
       "</div>"
      ],
      "text/plain": [
       "   Number people per Embarked  % survived\n",
       "C                         168        55.0\n",
       "Q                          77        39.0\n",
       "S                         644        34.0"
      ]
     },
     "execution_count": 177,
     "metadata": {},
     "output_type": "execute_result"
    }
   ],
   "source": [
    "print('Number of people per Embarked + survival rate in training set:')\n",
    "pd.DataFrame({'Number people per Embarked': train['Embarked'].value_counts(), \n",
    "              '% survived': round(train.groupby(by='Embarked')['Survived'].mean()*100)})"
   ]
  },
  {
   "cell_type": "code",
   "execution_count": 178,
   "metadata": {},
   "outputs": [
    {
     "name": "stdout",
     "output_type": "stream",
     "text": [
      "Number of people per Embarked in testing set:\n",
      "C    102\n",
      "Q     46\n",
      "S    270\n",
      "Name: Embarked, dtype: int64\n"
     ]
    }
   ],
   "source": [
    "print(f\"Number of people per Embarked in testing set:\\n{test['Embarked'].value_counts().sort_index()}\")"
   ]
  },
  {
   "cell_type": "code",
   "execution_count": 179,
   "metadata": {},
   "outputs": [
    {
     "name": "stdout",
     "output_type": "stream",
     "text": [
      "Number of people per Embarked in both sets:\n",
      "C    270\n",
      "Q    123\n",
      "S    914\n",
      "Name: Embarked, dtype: int64\n"
     ]
    }
   ],
   "source": [
    "print(f\"Number of people per Embarked in both sets:\\n{both['Embarked'].value_counts().sort_index()}\")"
   ]
  },
  {
   "cell_type": "markdown",
   "metadata": {},
   "source": [
    "**Conclusion**: there seems to be enough observations in all 3 embarked ports, and survival rates differ, especially for 'C'"
   ]
  },
  {
   "cell_type": "markdown",
   "metadata": {},
   "source": [
    " "
   ]
  },
  {
   "cell_type": "markdown",
   "metadata": {},
   "source": [
    "## Fare, Ticket Frequency, Fare per person"
   ]
  },
  {
   "cell_type": "markdown",
   "metadata": {},
   "source": [
    "Saw in some notebooks that there fare is actually per ticket, and not per person, so we need to delete the number of fare into number of people in ticket.  Let's check that"
   ]
  },
  {
   "cell_type": "code",
   "execution_count": 182,
   "metadata": {},
   "outputs": [
    {
     "data": {
      "text/plain": [
       "0.0000    927\n",
       "0.6291      1\n",
       "Name: Fare, dtype: int64"
      ]
     },
     "execution_count": 182,
     "metadata": {},
     "output_type": "execute_result"
    }
   ],
   "source": [
    "(both.groupby('Ticket')['Fare'].max() - both.groupby('Ticket')['Fare'].min()).value_counts()"
   ]
  },
  {
   "cell_type": "markdown",
   "metadata": {},
   "source": [
    "Indeed it seems that Max and Min of grouping by Ticket gives the same fare, so we need to split into number of people in the party"
   ]
  },
  {
   "cell_type": "markdown",
   "metadata": {},
   "source": [
    "First add another useful feature: **Ticked Frequency** - how many times this ticket appeared, kind of size of family but of ticket (parties traveling together on same ticket, but not necessarily with same last name)"
   ]
  },
  {
   "cell_type": "code",
   "execution_count": 187,
   "metadata": {},
   "outputs": [
    {
     "data": {
      "text/plain": [
       "1     713\n",
       "2     264\n",
       "3     147\n",
       "4      64\n",
       "7      35\n",
       "5      35\n",
       "6      24\n",
       "8      16\n",
       "11     11\n",
       "Name: Ticket_Frequency, dtype: int64"
      ]
     },
     "execution_count": 187,
     "metadata": {},
     "output_type": "execute_result"
    }
   ],
   "source": [
    "both['Ticket_Frequency'] = both.groupby('Ticket')['Ticket'].transform('count')\n",
    "both['Ticket_Frequency'].value_counts()"
   ]
  },
  {
   "cell_type": "code",
   "execution_count": 189,
   "metadata": {},
   "outputs": [
    {
     "name": "stdout",
     "output_type": "stream",
     "text": [
      "Number of people per Ticket_Frequency + survival rate in training set:\n"
     ]
    },
    {
     "name": "stderr",
     "output_type": "stream",
     "text": [
      "C:\\Users\\rkrichev\\AppData\\Local\\Continuum\\anaconda3\\lib\\site-packages\\ipykernel_launcher.py:2: SettingWithCopyWarning: \n",
      "A value is trying to be set on a copy of a slice from a DataFrame.\n",
      "Try using .loc[row_indexer,col_indexer] = value instead\n",
      "\n",
      "See the caveats in the documentation: http://pandas.pydata.org/pandas-docs/stable/indexing.html#indexing-view-versus-copy\n",
      "  \n"
     ]
    },
    {
     "data": {
      "text/html": [
       "<div>\n",
       "<style scoped>\n",
       "    .dataframe tbody tr th:only-of-type {\n",
       "        vertical-align: middle;\n",
       "    }\n",
       "\n",
       "    .dataframe tbody tr th {\n",
       "        vertical-align: top;\n",
       "    }\n",
       "\n",
       "    .dataframe thead th {\n",
       "        text-align: right;\n",
       "    }\n",
       "</style>\n",
       "<table border=\"1\" class=\"dataframe\">\n",
       "  <thead>\n",
       "    <tr style=\"text-align: right;\">\n",
       "      <th></th>\n",
       "      <th>Number people per Ticket_Frequency</th>\n",
       "      <th>% survived</th>\n",
       "    </tr>\n",
       "  </thead>\n",
       "  <tbody>\n",
       "    <tr>\n",
       "      <th>1</th>\n",
       "      <td>482</td>\n",
       "      <td>27.0</td>\n",
       "    </tr>\n",
       "    <tr>\n",
       "      <th>2</th>\n",
       "      <td>181</td>\n",
       "      <td>51.0</td>\n",
       "    </tr>\n",
       "    <tr>\n",
       "      <th>3</th>\n",
       "      <td>101</td>\n",
       "      <td>65.0</td>\n",
       "    </tr>\n",
       "    <tr>\n",
       "      <th>4</th>\n",
       "      <td>44</td>\n",
       "      <td>73.0</td>\n",
       "    </tr>\n",
       "    <tr>\n",
       "      <th>5</th>\n",
       "      <td>21</td>\n",
       "      <td>33.0</td>\n",
       "    </tr>\n",
       "    <tr>\n",
       "      <th>6</th>\n",
       "      <td>19</td>\n",
       "      <td>21.0</td>\n",
       "    </tr>\n",
       "    <tr>\n",
       "      <th>7</th>\n",
       "      <td>24</td>\n",
       "      <td>21.0</td>\n",
       "    </tr>\n",
       "    <tr>\n",
       "      <th>8</th>\n",
       "      <td>13</td>\n",
       "      <td>38.0</td>\n",
       "    </tr>\n",
       "    <tr>\n",
       "      <th>11</th>\n",
       "      <td>7</td>\n",
       "      <td>0.0</td>\n",
       "    </tr>\n",
       "  </tbody>\n",
       "</table>\n",
       "</div>"
      ],
      "text/plain": [
       "    Number people per Ticket_Frequency  % survived\n",
       "1                                  482        27.0\n",
       "2                                  181        51.0\n",
       "3                                  101        65.0\n",
       "4                                   44        73.0\n",
       "5                                   21        33.0\n",
       "6                                   19        21.0\n",
       "7                                   24        21.0\n",
       "8                                   13        38.0\n",
       "11                                   7         0.0"
      ]
     },
     "execution_count": 189,
     "metadata": {},
     "output_type": "execute_result"
    }
   ],
   "source": [
    "train_temp = both.iloc[:892]\n",
    "train_temp['Survived'] = train['Survived']\n",
    "print('Number of people per Ticket_Frequency + survival rate in training set:')\n",
    "pd.DataFrame({'Number people per Ticket_Frequency': train_temp['Ticket_Frequency'].value_counts(), \n",
    "              '% survived': round(train_temp.groupby(by='Ticket_Frequency')['Survived'].mean()*100)})"
   ]
  },
  {
   "cell_type": "code",
   "execution_count": 190,
   "metadata": {},
   "outputs": [
    {
     "name": "stdout",
     "output_type": "stream",
     "text": [
      "Number of people per Ticket_Frequency in testing set:\n",
      "1     231\n",
      "2      83\n",
      "3      46\n",
      "4      20\n",
      "5      14\n",
      "6       5\n",
      "7      11\n",
      "8       3\n",
      "11      4\n",
      "Name: Ticket_Frequency, dtype: int64\n"
     ]
    }
   ],
   "source": [
    "print(f\"Number of people per Ticket_Frequency in testing set:\\n{both.iloc[892:]['Ticket_Frequency'].value_counts().sort_index()}\")"
   ]
  },
  {
   "cell_type": "code",
   "execution_count": 191,
   "metadata": {},
   "outputs": [
    {
     "name": "stdout",
     "output_type": "stream",
     "text": [
      "Number of people per Ticket_Frequency in both sets:\n",
      "1     713\n",
      "2     264\n",
      "3     147\n",
      "4      64\n",
      "5      35\n",
      "6      24\n",
      "7      35\n",
      "8      16\n",
      "11     11\n",
      "Name: Ticket_Frequency, dtype: int64\n"
     ]
    }
   ],
   "source": [
    "print(f\"Number of people per Ticket_Frequency in both sets:\\n{both['Ticket_Frequency'].value_counts().sort_index()}\")"
   ]
  },
  {
   "cell_type": "markdown",
   "metadata": {},
   "source": [
    "**Ticket_Frequency** is useful for 2 reasons:\n",
    "1. As a feature in itself.  Then it's better to map it into similar categories (see below)\n",
    "2. For calculations of other features, like fare.  For now we'll continue with this goal and then go back to #1"
   ]
  },
  {
   "cell_type": "code",
   "execution_count": 193,
   "metadata": {},
   "outputs": [
    {
     "data": {
      "text/plain": [
       "count    1308.000000\n",
       "mean       14.757627\n",
       "std        13.555638\n",
       "min         0.000000\n",
       "25%         7.550000\n",
       "50%         8.050000\n",
       "75%        15.008325\n",
       "max       128.082300\n",
       "Name: Fixed Fare, dtype: float64"
      ]
     },
     "execution_count": 193,
     "metadata": {},
     "output_type": "execute_result"
    }
   ],
   "source": [
    "both['Fixed Fare'] = both['Fare'] / both['Ticket_Frequency']\n",
    "both['Fixed Fare'].describe()"
   ]
  },
  {
   "cell_type": "code",
   "execution_count": 197,
   "metadata": {},
   "outputs": [
    {
     "data": {
      "text/plain": [
       "66.825000     2\n",
       "68.389600     2\n",
       "82.506933     3\n",
       "128.082300    4\n",
       "NaN           1\n",
       "Name: Fixed Fare, dtype: int64"
      ]
     },
     "execution_count": 197,
     "metadata": {},
     "output_type": "execute_result"
    }
   ],
   "source": [
    "both['Fixed Fare'].value_counts(dropna=False).sort_index().tail()"
   ]
  },
  {
   "cell_type": "markdown",
   "metadata": {},
   "source": [
    "First we need to fix the missing value, since it's only 1 won't invest too much into it, let's find him"
   ]
  },
  {
   "cell_type": "code",
   "execution_count": 198,
   "metadata": {},
   "outputs": [
    {
     "data": {
      "text/html": [
       "<div>\n",
       "<style scoped>\n",
       "    .dataframe tbody tr th:only-of-type {\n",
       "        vertical-align: middle;\n",
       "    }\n",
       "\n",
       "    .dataframe tbody tr th {\n",
       "        vertical-align: top;\n",
       "    }\n",
       "\n",
       "    .dataframe thead th {\n",
       "        text-align: right;\n",
       "    }\n",
       "</style>\n",
       "<table border=\"1\" class=\"dataframe\">\n",
       "  <thead>\n",
       "    <tr style=\"text-align: right;\">\n",
       "      <th></th>\n",
       "      <th>Pclass</th>\n",
       "      <th>Name</th>\n",
       "      <th>Sex</th>\n",
       "      <th>Age</th>\n",
       "      <th>SibSp</th>\n",
       "      <th>Parch</th>\n",
       "      <th>Ticket</th>\n",
       "      <th>Fare</th>\n",
       "      <th>Cabin</th>\n",
       "      <th>Embarked</th>\n",
       "      <th>Title</th>\n",
       "      <th>Mapped Title</th>\n",
       "      <th>Family size</th>\n",
       "      <th>Mapped SibSp</th>\n",
       "      <th>Mapped Parch</th>\n",
       "      <th>Mapped Family size</th>\n",
       "      <th>Deck</th>\n",
       "      <th>Mapped Deck</th>\n",
       "      <th>Ticket_Frequency</th>\n",
       "      <th>Fixed Fare</th>\n",
       "    </tr>\n",
       "    <tr>\n",
       "      <th>PassengerId</th>\n",
       "      <th></th>\n",
       "      <th></th>\n",
       "      <th></th>\n",
       "      <th></th>\n",
       "      <th></th>\n",
       "      <th></th>\n",
       "      <th></th>\n",
       "      <th></th>\n",
       "      <th></th>\n",
       "      <th></th>\n",
       "      <th></th>\n",
       "      <th></th>\n",
       "      <th></th>\n",
       "      <th></th>\n",
       "      <th></th>\n",
       "      <th></th>\n",
       "      <th></th>\n",
       "      <th></th>\n",
       "      <th></th>\n",
       "      <th></th>\n",
       "    </tr>\n",
       "  </thead>\n",
       "  <tbody>\n",
       "    <tr>\n",
       "      <th>1044</th>\n",
       "      <td>3</td>\n",
       "      <td>Storey, Mr. Thomas</td>\n",
       "      <td>male</td>\n",
       "      <td>60.5</td>\n",
       "      <td>0</td>\n",
       "      <td>0</td>\n",
       "      <td>3701</td>\n",
       "      <td>NaN</td>\n",
       "      <td>unknown</td>\n",
       "      <td>S</td>\n",
       "      <td>Mr</td>\n",
       "      <td>Mr</td>\n",
       "      <td>1</td>\n",
       "      <td>0</td>\n",
       "      <td>0</td>\n",
       "      <td>1</td>\n",
       "      <td>unknown</td>\n",
       "      <td>unknown_T</td>\n",
       "      <td>1</td>\n",
       "      <td>NaN</td>\n",
       "    </tr>\n",
       "  </tbody>\n",
       "</table>\n",
       "</div>"
      ],
      "text/plain": [
       "             Pclass                Name   Sex   Age  SibSp  Parch Ticket  \\\n",
       "PassengerId                                                                \n",
       "1044              3  Storey, Mr. Thomas  male  60.5      0      0   3701   \n",
       "\n",
       "             Fare    Cabin Embarked Title Mapped Title  Family size  \\\n",
       "PassengerId                                                           \n",
       "1044          NaN  unknown        S    Mr           Mr            1   \n",
       "\n",
       "            Mapped SibSp Mapped Parch Mapped Family size     Deck Mapped Deck  \\\n",
       "PassengerId                                                                     \n",
       "1044                   0            0                  1  unknown   unknown_T   \n",
       "\n",
       "             Ticket_Frequency  Fixed Fare  \n",
       "PassengerId                                \n",
       "1044                        1         NaN  "
      ]
     },
     "execution_count": 198,
     "metadata": {},
     "output_type": "execute_result"
    }
   ],
   "source": [
    "both[both['Fixed Fare'].isnull()]"
   ]
  },
  {
   "cell_type": "markdown",
   "metadata": {},
   "source": [
    "We see that it's a person from 3rd class. Let's see distribution of tickets in 3rd class:"
   ]
  },
  {
   "cell_type": "code",
   "execution_count": 200,
   "metadata": {},
   "outputs": [
    {
     "data": {
      "text/plain": [
       "count    708.000000\n",
       "mean       7.329146\n",
       "std        1.471362\n",
       "min        0.000000\n",
       "25%        7.060031\n",
       "50%        7.750000\n",
       "75%        7.925000\n",
       "max       19.966700\n",
       "Name: Fixed Fare, dtype: float64"
      ]
     },
     "execution_count": 200,
     "metadata": {},
     "output_type": "execute_result"
    }
   ],
   "source": [
    "both[both['Pclass']==3]['Fixed Fare'].describe()"
   ]
  },
  {
   "cell_type": "code",
   "execution_count": 207,
   "metadata": {},
   "outputs": [
    {
     "data": {
      "text/plain": [
       "0.0000    4\n",
       "3.1708    1\n",
       "3.7111    3\n",
       "4.0125    1\n",
       "4.2150    5\n",
       "Name: Fixed Fare, dtype: int64"
      ]
     },
     "execution_count": 207,
     "metadata": {},
     "output_type": "execute_result"
    }
   ],
   "source": [
    "both[both['Pclass']==3]['Fixed Fare'].value_counts().sort_index().head()"
   ]
  },
  {
   "cell_type": "markdown",
   "metadata": {},
   "source": [
    "We see that prices of tickets are very close to each other around 7 in 3rd class, so we can give him average rate"
   ]
  },
  {
   "cell_type": "code",
   "execution_count": 202,
   "metadata": {},
   "outputs": [
    {
     "name": "stdout",
     "output_type": "stream",
     "text": [
      "To decide if taking median / mean / mode, median: 7.75, mean: 7.329145550847469, mode: 0    8.05\n",
      "dtype: float64\n"
     ]
    }
   ],
   "source": [
    "print(f\"To decide if taking median / mean / mode, median: {both[both['Pclass']==3]['Fixed Fare'].median()}, mean: {both[both['Pclass']==3]['Fixed Fare'].mean()}, mode: {both[both['Pclass']==3]['Fixed Fare'].mode()}\")"
   ]
  },
  {
   "cell_type": "markdown",
   "metadata": {},
   "source": [
    "There are some free tickets which we need to consider separately.  Besides that it doesn't make much of a difference what to give - median, mode, or mean, all around 7.3 up to 8.05. Giving median"
   ]
  },
  {
   "cell_type": "code",
   "execution_count": 227,
   "metadata": {},
   "outputs": [],
   "source": [
    "both['Fixed Fare'] = both['Fixed Fare'].fillna(both[both['Pclass']==3]['Fixed Fare'].median())\n",
    "both['Fare'] = both['Fare'].fillna(both[both['Pclass']==3]['Fixed Fare'].median())"
   ]
  },
  {
   "cell_type": "code",
   "execution_count": 245,
   "metadata": {},
   "outputs": [
    {
     "name": "stderr",
     "output_type": "stream",
     "text": [
      "C:\\Users\\rkrichev\\AppData\\Local\\Continuum\\anaconda3\\lib\\site-packages\\matplotlib\\figure.py:445: UserWarning: Matplotlib is currently using module://ipykernel.pylab.backend_inline, which is a non-GUI backend, so cannot show the figure.\n",
      "  % get_backend())\n"
     ]
    },
    {
     "data": {
      "image/png": "[encoded data removed]",
      "text/plain": [
       "<Figure size 1440x360 with 2 Axes>"
      ]
     },
     "metadata": {},
     "output_type": "display_data"
    }
   ],
   "source": [
    "figure, axes = plt.subplots(2, 1, figsize = (20,5), sharey=True, sharex=True)\n",
    "sns.distplot(both['Fixed Fare'], ax=axes[0], bins=15, kde=False)\n",
    "sns.distplot(both['Fare'], ax=axes[1], bins=15, kde=False)\n",
    "figure.show()"
   ]
  },
  {
   "cell_type": "code",
   "execution_count": 249,
   "metadata": {},
   "outputs": [
    {
     "name": "stderr",
     "output_type": "stream",
     "text": [
      "C:\\Users\\rkrichev\\AppData\\Local\\Continuum\\anaconda3\\lib\\site-packages\\matplotlib\\figure.py:445: UserWarning: Matplotlib is currently using module://ipykernel.pylab.backend_inline, which is a non-GUI backend, so cannot show the figure.\n",
      "  % get_backend())\n"
     ]
    },
    {
     "data": {
      "image/png": "[encoded data removed]",
      "text/plain": [
       "<Figure size 1440x360 with 2 Axes>"
      ]
     },
     "metadata": {},
     "output_type": "display_data"
    }
   ],
   "source": [
    "figure, axes = plt.subplots(2, 1, sharey=True, sharex=True, figsize = (20,5)) \n",
    "sns.violinplot(both['Fixed Fare'], ax=axes[0])\n",
    "sns.violinplot(both['Fare'], ax=axes[1])\n",
    "figure.show()"
   ]
  },
  {
   "cell_type": "markdown",
   "metadata": {},
   "source": [
    "We see that Fixed fare indeed made the fare spread less severe, average of Fixed fair is slightly lower, there is a spike around 30-40, and maximum is under 150, while max faire is around 550 "
   ]
  },
  {
   "cell_type": "code",
   "execution_count": 320,
   "metadata": {},
   "outputs": [
    {
     "data": {
      "text/plain": [
       "<seaborn.axisgrid.FacetGrid at 0x20004d77e10>"
      ]
     },
     "execution_count": 320,
     "metadata": {},
     "output_type": "execute_result"
    },
    {
     "data": {
      "image/png": "[encoded data removed]",
      "text/plain": [
       "<Figure size 1848.42x360 with 1 Axes>"
      ]
     },
     "metadata": {},
     "output_type": "display_data"
    }
   ],
   "source": [
    "facet = sns.FacetGrid(train_temp, hue=\"Survived\",aspect=5, height=5)\n",
    "facet.map(sns.kdeplot,'Fixed Fare',shade= True)\n",
    "facet.set(xlim=(0, train_temp['Fixed Fare'].max()))\n",
    "facet.add_legend()"
   ]
  },
  {
   "cell_type": "code",
   "execution_count": 321,
   "metadata": {},
   "outputs": [
    {
     "data": {
      "text/plain": [
       "<seaborn.axisgrid.FacetGrid at 0x20006ff2da0>"
      ]
     },
     "execution_count": 321,
     "metadata": {},
     "output_type": "execute_result"
    },
    {
     "data": {
      "image/png": "[encoded data removed]",
      "text/plain": [
       "<Figure size 1848.42x360 with 1 Axes>"
      ]
     },
     "metadata": {},
     "output_type": "display_data"
    }
   ],
   "source": [
    "facet = sns.FacetGrid(train_temp, hue=\"Survived\",aspect=5, height=5)\n",
    "facet.map(sns.kdeplot,'Fare',shade=True)\n",
    "facet.set(xlim=(0, train_temp['Fare'].max()))\n",
    "facet.add_legend()"
   ]
  },
  {
   "cell_type": "code",
   "execution_count": 442,
   "metadata": {},
   "outputs": [
    {
     "name": "stderr",
     "output_type": "stream",
     "text": [
      "C:\\Users\\rkrichev\\AppData\\Local\\Continuum\\anaconda3\\lib\\site-packages\\ipykernel_launcher.py:5: SettingWithCopyWarning: \n",
      "A value is trying to be set on a copy of a slice from a DataFrame.\n",
      "Try using .loc[row_indexer,col_indexer] = value instead\n",
      "\n",
      "See the caveats in the documentation: http://pandas.pydata.org/pandas-docs/stable/indexing.html#indexing-view-versus-copy\n",
      "  \"\"\"\n"
     ]
    },
    {
     "name": "stdout",
     "output_type": "stream",
     "text": [
      "Split into maximum bins of Number of people per Fare + survival rate in training set:\n"
     ]
    },
    {
     "data": {
      "image/png": "[encoded data removed]",
      "text/plain": [
       "<Figure size 432x288 with 1 Axes>"
      ]
     },
     "metadata": {},
     "output_type": "display_data"
    },
    {
     "name": "stdout",
     "output_type": "stream",
     "text": [
      "    Number people per Fair  % survived             labels\n",
      "0                       71        20.0      (-0.001, 4.8]\n",
      "1                       61        33.0       (4.8, 5.862]\n",
      "2                       61        36.0     (5.862, 6.868]\n",
      "3                       53        27.0     (6.868, 7.225]\n",
      "4                       49        18.0      (7.225, 7.25]\n",
      "5                       49        35.0      (7.25, 7.722]\n",
      "6                       45        38.0      (7.722, 7.75]\n",
      "7                       45        25.0      (7.75, 7.796]\n",
      "8                       45        16.0     (7.796, 7.896]\n",
      "9                       45        45.0     (7.896, 7.925]\n",
      "10                      40        15.0      (7.925, 8.05]\n",
      "11                      40         9.0      (8.05, 8.662]\n",
      "12                      39        35.0       (8.662, 9.5]\n",
      "13                      36        43.0        (9.5, 10.5]\n",
      "14                      35        52.0      (10.5, 12.35]\n",
      "15                      33        44.0      (12.35, 13.0]\n",
      "16                      29        33.0       (13.0, 13.5]\n",
      "17                      24        54.0     (13.5, 25.931]\n",
      "18                      22        62.0    (25.931, 26.55]\n",
      "19                      22        72.0    (26.55, 28.875]\n",
      "20                      21        60.0   (28.875, 34.744]\n",
      "21                      20        62.0   (34.744, 41.738]\n",
      "22                       6        72.0  (41.738, 128.082]\n"
     ]
    }
   ],
   "source": [
    "from sklearn.preprocessing import LabelEncoder\n",
    "labels = pd.qcut(both['Fixed Fare'], q=23)\n",
    "both['Fare Bin'] = LabelEncoder().fit_transform(labels)\n",
    "train_temp = both.iloc[:891]\n",
    "train_temp['Survived'] = train['Survived']\n",
    "\n",
    "print('Split into maximum bins of Number of people per Fare + survival rate in training set:')\n",
    "fare_survived = pd.DataFrame({'Number people per Fair': train_temp['Fare Bin'].value_counts().reset_index(drop=True), \n",
    "              '% survived': round(train_temp.groupby(by='Fare Bin')['Survived'].mean()*100)})\n",
    "\n",
    "sns.barplot(x=fare_survived.index, y=fare_survived['% survived'])\n",
    "plt.show()\n",
    "fare_survived['labels'] = labels.value_counts().sort_index().index\n",
    "\n",
    "print(fare_survived)"
   ]
  },
  {
   "cell_type": "markdown",
   "metadata": {},
   "source": [
    "Not clear so much what's the best way to split Fare per person. "
   ]
  },
  {
   "cell_type": "markdown",
   "metadata": {},
   "source": [
    "Based on this, we need to understand a bit better what happens for Fixed Fares (per person) that are smaller than 15. Above 15, survival rate fluctuates around 60%"
   ]
  },
  {
   "cell_type": "code",
   "execution_count": 430,
   "metadata": {},
   "outputs": [
    {
     "data": {
      "text/plain": [
       "<seaborn.axisgrid.FacetGrid at 0x200112008d0>"
      ]
     },
     "execution_count": 430,
     "metadata": {},
     "output_type": "execute_result"
    },
    {
     "data": {
      "image/png": "[encoded data removed]",
      "text/plain": [
       "<Figure size 1848.42x360 with 1 Axes>"
      ]
     },
     "metadata": {},
     "output_type": "display_data"
    }
   ],
   "source": [
    "facet = sns.FacetGrid(train_temp[train_temp['Fixed Fare'] < 15], hue=\"Survived\",aspect=5, height=5)\n",
    "facet.map(sns.kdeplot,'Fixed Fare',shade=True)\n",
    "facet.set(xlim=(0, 15))\n",
    "facet.add_legend()"
   ]
  },
  {
   "cell_type": "markdown",
   "metadata": {},
   "source": [
    "Based on this would split in Fare per person in the following way:\n",
    "- Less than 0.5\n",
    "- 0.5 - 4\n",
    "- 4 - 5\n",
    "- 5 - 7\n",
    "- 7 - 8.5\n",
    "- 8.5 - 12.5\n",
    "- 12.5 - 13.5\n",
    "- 13.5 and up"
   ]
  },
  {
   "cell_type": "code",
   "execution_count": 439,
   "metadata": {},
   "outputs": [
    {
     "name": "stdout",
     "output_type": "stream",
     "text": [
      "Number of people per Fare per person (manual split) + survival rate in training set:\n"
     ]
    },
    {
     "name": "stderr",
     "output_type": "stream",
     "text": [
      "C:\\Users\\rkrichev\\AppData\\Local\\Continuum\\anaconda3\\lib\\site-packages\\ipykernel_launcher.py:16: SettingWithCopyWarning: \n",
      "A value is trying to be set on a copy of a slice from a DataFrame.\n",
      "Try using .loc[row_indexer,col_indexer] = value instead\n",
      "\n",
      "See the caveats in the documentation: http://pandas.pydata.org/pandas-docs/stable/indexing.html#indexing-view-versus-copy\n",
      "  app.launch_new_instance()\n"
     ]
    },
    {
     "data": {
      "image/png": "[encoded data removed]",
      "text/plain": [
       "<Figure size 432x288 with 1 Axes>"
      ]
     },
     "metadata": {},
     "output_type": "display_data"
    },
    {
     "name": "stdout",
     "output_type": "stream",
     "text": [
      "    Number people per Fair  % survived\n",
      "0                       15         7.0\n",
      "1                        3       100.0\n",
      "2                       38        24.0\n",
      "3                       81        33.0\n",
      "4                      177        28.0\n",
      "5                       61        16.0\n",
      "6                       22        45.0\n",
      "7                       70        14.0\n",
      "8                      123        38.0\n",
      "9                       77        43.0\n",
      "10                     224        63.0\n"
     ]
    }
   ],
   "source": [
    "def manual_fare_bin(fare):\n",
    "    if fare == 0: return 0 # based on kde\n",
    "    elif fare < 4: return 1 # based on kde\n",
    "    elif fare < 5: return 2 # based on kde\n",
    "    elif fare < 7: return 3 # based on kde\n",
    "    elif fare <= 7.796: return 4 # based on survival rate\n",
    "    elif fare <= 7.896: return 5 # based on survival rate\n",
    "    elif fare <= 7.925: return 6 # based on survival rate\n",
    "    elif fare <=  8.662: return 7 # based on survival rate and KDE\n",
    "    elif fare <= 12.5: return 8 # based on KDE\n",
    "    elif fare <= 13.5: return 9 # based on survival rate and KDE\n",
    "    else: return 10\n",
    "\n",
    "both['Fare Bin manual'] = both['Fixed Fare'].apply(manual_fare_bin)\n",
    "train_temp = both.iloc[:891]\n",
    "train_temp['Survived'] = train['Survived']\n",
    "\n",
    "print('Number of people per Fare per person (manual split) + survival rate in training set:')\n",
    "fare_survived = pd.DataFrame({'Number people per Fair': train_temp['Fare Bin manual'].value_counts(), \n",
    "              '% survived': round(train_temp.groupby(by='Fare Bin manual')['Survived'].mean()*100)})\n",
    "\n",
    "sns.barplot(x=fare_survived.index, y=fare_survived['% survived'])\n",
    "plt.show()\n",
    "print(fare_survived)"
   ]
  },
  {
   "cell_type": "markdown",
   "metadata": {},
   "source": [
    "What's interesting is that by using KDE we found the 2 very interesting categories, fare = 0 with survival rate close to 0, and fare < 4.5 with survival rate of 100%"
   ]
  },
  {
   "cell_type": "markdown",
   "metadata": {},
   "source": [
    "This is the initial split we'll go with in the beginning.  Another decision to make is whether to leave it one numeric category, or split into separate categories.  Initially split into separate categories, later we'll see if to leave as one\n",
    "    \n",
    "    if fare == 0: return 0 # based on kde\n",
    "    elif fare < 4: return 1 # based on kde\n",
    "    elif fare < 5: return 2 # based on kde\n",
    "    elif fare < 7: return 3 # based on kde\n",
    "    elif fare <= 7.796: return 4 # based on survival rate\n",
    "    elif fare <= 7.896: return 5 # based on survival rate\n",
    "    elif fare <= 7.925: return 6 # based on survival rate\n",
    "    elif fare <=  8.662: return 7 # based on survival rate and KDE\n",
    "    elif fare <= 12.5: return 8 # based on KDE\n",
    "    elif fare <= 13.5: return 9 # based on survival rate and KDE\n",
    "    else: return 10"
   ]
  },
  {
   "cell_type": "markdown",
   "metadata": {},
   "source": [
    " "
   ]
  },
  {
   "cell_type": "markdown",
   "metadata": {},
   "source": [
    "# Age"
   ]
  },
  {
   "cell_type": "markdown",
   "metadata": {},
   "source": [
    "We have a lot of missing values in age and need to decide how to fill them in. Let's look for categories that are related to age"
   ]
  },
  {
   "cell_type": "code",
   "execution_count": 448,
   "metadata": {},
   "outputs": [
    {
     "data": {
      "text/plain": [
       "<matplotlib.axes._subplots.AxesSubplot at 0x20010503208>"
      ]
     },
     "execution_count": 448,
     "metadata": {},
     "output_type": "execute_result"
    },
    {
     "data": {
      "image/png": "[encoded data removed]",
      "text/plain": [
       "<Figure size 432x288 with 2 Axes>"
      ]
     },
     "metadata": {},
     "output_type": "display_data"
    }
   ],
   "source": [
    "sns.heatmap(both.corr(), cmap='coolwarm')"
   ]
  },
  {
   "cell_type": "markdown",
   "metadata": {},
   "source": [
    "We see that Age is closely correlated with Pclass, number of family members (SibSp, Parch, Family Size), Fare (presumabely due to PClass relationship). From separate investigation in the coce, it's also related to unknown deck (to be checked), and Title "
   ]
  },
  {
   "cell_type": "markdown",
   "metadata": {},
   "source": [
    "But first let's look what ages make a difference in survival"
   ]
  },
  {
   "cell_type": "code",
   "execution_count": 449,
   "metadata": {},
   "outputs": [
    {
     "name": "stderr",
     "output_type": "stream",
     "text": [
      "C:\\Users\\rkrichev\\AppData\\Local\\Continuum\\anaconda3\\lib\\site-packages\\ipykernel_launcher.py:2: SettingWithCopyWarning: \n",
      "A value is trying to be set on a copy of a slice from a DataFrame.\n",
      "Try using .loc[row_indexer,col_indexer] = value instead\n",
      "\n",
      "See the caveats in the documentation: http://pandas.pydata.org/pandas-docs/stable/indexing.html#indexing-view-versus-copy\n",
      "  \n"
     ]
    },
    {
     "data": {
      "text/plain": [
       "<seaborn.axisgrid.FacetGrid at 0x20010972278>"
      ]
     },
     "execution_count": 449,
     "metadata": {},
     "output_type": "execute_result"
    },
    {
     "data": {
      "image/png": "[encoded data removed]",
      "text/plain": [
       "<Figure size 1848.42x360 with 1 Axes>"
      ]
     },
     "metadata": {},
     "output_type": "display_data"
    }
   ],
   "source": [
    "train_temp = both[:891]\n",
    "train_temp['Survived'] = train['Survived']\n",
    "\n",
    "facet = sns.FacetGrid(train_temp, hue=\"Survived\",aspect=5, height=5)\n",
    "facet.map(sns.kdeplot,'Age',shade= True)\n",
    "facet.set(xlim=(0, train_temp['Age'].max()))\n",
    "facet.add_legend()"
   ]
  },
  {
   "cell_type": "markdown",
   "metadata": {},
   "source": [
    "Based on KDE, would split the ages in the following way:\n",
    "- < 12\n",
    "- 12 to 30\n",
    "- 30 to 40\n",
    "- 40 to 48\n",
    "- 48 to 57\n",
    "- 57 and up"
   ]
  },
  {
   "cell_type": "code",
   "execution_count": 469,
   "metadata": {},
   "outputs": [
    {
     "name": "stdout",
     "output_type": "stream",
     "text": [
      "(714, 14)\n"
     ]
    },
    {
     "name": "stderr",
     "output_type": "stream",
     "text": [
      "C:\\Users\\rkrichev\\AppData\\Local\\Continuum\\anaconda3\\lib\\site-packages\\ipykernel_launcher.py:6: SettingWithCopyWarning: \n",
      "A value is trying to be set on a copy of a slice from a DataFrame.\n",
      "Try using .loc[row_indexer,col_indexer] = value instead\n",
      "\n",
      "See the caveats in the documentation: http://pandas.pydata.org/pandas-docs/stable/indexing.html#indexing-view-versus-copy\n",
      "  \n",
      "C:\\Users\\rkrichev\\AppData\\Local\\Continuum\\anaconda3\\lib\\site-packages\\ipykernel_launcher.py:8: SettingWithCopyWarning: \n",
      "A value is trying to be set on a copy of a slice from a DataFrame.\n",
      "Try using .loc[row_indexer,col_indexer] = value instead\n",
      "\n",
      "See the caveats in the documentation: http://pandas.pydata.org/pandas-docs/stable/indexing.html#indexing-view-versus-copy\n",
      "  \n"
     ]
    },
    {
     "name": "stdout",
     "output_type": "stream",
     "text": [
      "Split into maximum bins of Number of people per Age + survival rate in training set:\n"
     ]
    },
    {
     "data": {
      "image/png": "[encoded data removed]",
      "text/plain": [
       "<Figure size 432x288 with 1 Axes>"
      ]
     },
     "metadata": {},
     "output_type": "display_data"
    },
    {
     "name": "stdout",
     "output_type": "stream",
     "text": [
      "    Number people per Age  % survived          labels\n",
      "0                      41        67.0    (0.169, 3.0]\n",
      "1                      36        67.0      (3.0, 8.0]\n",
      "2                      31        39.0     (8.0, 14.0]\n",
      "3                      30        44.0    (14.0, 17.0]\n",
      "4                      30        35.0    (17.0, 18.0]\n",
      "5                      27        36.0    (18.0, 19.0]\n",
      "6                      27        20.0    (19.0, 20.0]\n",
      "7                      26        20.0    (20.0, 21.0]\n",
      "8                      26        41.0    (21.0, 22.0]\n",
      "9                      25        33.0    (22.0, 23.0]\n",
      "10                     25        48.0    (23.0, 24.0]\n",
      "11                     25        25.0    (24.0, 25.0]\n",
      "12                     25        33.0    (25.0, 26.0]\n",
      "13                     25        61.0    (26.0, 27.0]\n",
      "14                     24        28.0    (27.0, 28.0]\n",
      "15                     24        36.0    (28.0, 29.0]\n",
      "16                     23        40.0    (29.0, 30.0]\n",
      "17                     22        42.0    (30.0, 31.0]\n",
      "18                     22        50.0  (31.0, 32.917]\n",
      "19                     22        40.0  (32.917, 34.0]\n",
      "20                     21        54.0    (34.0, 36.0]\n",
      "21                     20        33.0    (36.0, 38.0]\n",
      "22                     20        41.0    (38.0, 40.0]\n",
      "23                     19        38.0    (40.0, 42.0]\n",
      "24                     18        35.0    (42.0, 45.0]\n",
      "25                     18         7.0    (45.0, 47.0]\n",
      "26                     18        60.0    (47.0, 50.0]\n",
      "27                     15        41.0    (50.0, 54.0]\n",
      "28                     15        40.0    (54.0, 60.0]\n",
      "29                     14        23.0    (60.0, 80.0]\n"
     ]
    }
   ],
   "source": [
    "age_known = both[both['Age'].isnull()==False]\n",
    "labels = pd.qcut(age_known['Age'], q=30)\n",
    "\n",
    "age_known['Age Bin'] = LabelEncoder().fit_transform(labels)\n",
    "train_temp = age_known[:714]\n",
    "train_temp['Survived'] = train[train['Age'].isnull()==False]['Survived']\n",
    "\n",
    "print('Split into maximum bins of Number of people per Age + survival rate in training set:')\n",
    "age_survived = pd.DataFrame({'Number people per Age': train_temp['Age Bin'].value_counts().reset_index(drop=True), \n",
    "              '% survived': round(train_temp.groupby(by='Age Bin')['Survived'].mean()*100)})\n",
    "\n",
    "sns.barplot(x=age_survived.index, y=age_survived['% survived'])\n",
    "plt.show()\n",
    "age_survived['labels'] = labels.value_counts().sort_index().index\n",
    "\n",
    "print(age_survived)"
   ]
  },
  {
   "cell_type": "code",
   "execution_count": 475,
   "metadata": {},
   "outputs": [
    {
     "name": "stderr",
     "output_type": "stream",
     "text": [
      "C:\\Users\\rkrichev\\AppData\\Local\\Continuum\\anaconda3\\lib\\site-packages\\ipykernel_launcher.py:4: SettingWithCopyWarning: \n",
      "A value is trying to be set on a copy of a slice from a DataFrame.\n",
      "Try using .loc[row_indexer,col_indexer] = value instead\n",
      "\n",
      "See the caveats in the documentation: http://pandas.pydata.org/pandas-docs/stable/indexing.html#indexing-view-versus-copy\n",
      "  after removing the cwd from sys.path.\n",
      "C:\\Users\\rkrichev\\AppData\\Local\\Continuum\\anaconda3\\lib\\site-packages\\ipykernel_launcher.py:5: UserWarning: Boolean Series key will be reindexed to match DataFrame index.\n",
      "  \"\"\"\n",
      "C:\\Users\\rkrichev\\AppData\\Local\\Continuum\\anaconda3\\lib\\site-packages\\ipykernel_launcher.py:6: UserWarning: Boolean Series key will be reindexed to match DataFrame index.\n",
      "  \n",
      "C:\\Users\\rkrichev\\AppData\\Local\\Continuum\\anaconda3\\lib\\site-packages\\ipykernel_launcher.py:6: SettingWithCopyWarning: \n",
      "A value is trying to be set on a copy of a slice from a DataFrame.\n",
      "Try using .loc[row_indexer,col_indexer] = value instead\n",
      "\n",
      "See the caveats in the documentation: http://pandas.pydata.org/pandas-docs/stable/indexing.html#indexing-view-versus-copy\n",
      "  \n"
     ]
    },
    {
     "name": "stdout",
     "output_type": "stream",
     "text": [
      "Split into maximum bins of Number of people per Age + survival rate in training set - MALES ONLY:\n"
     ]
    },
    {
     "data": {
      "image/png": "[encoded data removed]",
      "text/plain": [
       "<Figure size 432x288 with 1 Axes>"
      ]
     },
     "metadata": {},
     "output_type": "display_data"
    },
    {
     "name": "stdout",
     "output_type": "stream",
     "text": [
      "    Number people per Age  % survived        labels\n",
      "0                      26        65.0  (0.329, 4.0]\n",
      "1                      23        38.0   (4.0, 11.0]\n",
      "2                      21        13.0  (11.0, 16.0]\n",
      "3                      21        10.0  (16.0, 18.0]\n",
      "4                      20        11.0  (18.0, 19.0]\n",
      "5                      19        23.0  (19.0, 20.0]\n",
      "6                      18         6.0  (20.0, 21.0]\n",
      "7                      18         7.0  (21.0, 22.0]\n",
      "8                      18        10.0  (22.0, 23.0]\n",
      "9                      18         7.0  (23.0, 24.0]\n",
      "10                     16        21.0  (24.0, 25.0]\n",
      "11                     16        23.0  (25.0, 26.0]\n",
      "12                     15        50.0  (26.0, 27.0]\n",
      "13                     15        11.0  (27.0, 28.0]\n",
      "14                     15        20.0  (28.0, 29.0]\n",
      "15                     15         7.0  (29.0, 30.0]\n",
      "16                     15        27.0  (30.0, 31.0]\n",
      "17                     15        47.0  (31.0, 32.0]\n",
      "18                     14        10.0  (32.0, 34.0]\n",
      "19                     14        27.0  (34.0, 36.0]\n",
      "20                     14        17.0  (36.0, 37.0]\n",
      "21                     13        14.0  (37.0, 40.0]\n",
      "22                     13        21.0  (40.0, 42.0]\n",
      "23                     13        11.0  (42.0, 44.0]\n",
      "24                     12        11.0  (44.0, 47.0]\n",
      "25                     11        43.0  (47.0, 50.0]\n",
      "26                     10        13.0  (50.0, 54.0]\n",
      "27                      9        12.0  (54.0, 61.0]\n",
      "28                      6        12.0  (61.0, 80.0]\n"
     ]
    }
   ],
   "source": [
    "age_known = both[(both['Age'].isnull()==False) & (both['Sex']=='male')]\n",
    "labels = pd.qcut(age_known['Age'], q=29)\n",
    "\n",
    "age_known['Age Bin'] = LabelEncoder().fit_transform(labels)\n",
    "train_temp = age_known[:train[(train['Age'].isnull()==False) & (both['Sex']=='male')].shape[0]]\n",
    "train_temp['Survived'] = train[(train['Age'].isnull()==False) & (both['Sex']=='male')]['Survived']\n",
    "\n",
    "print('Split into maximum bins of Number of people per Age + survival rate in training set - MALES ONLY:')\n",
    "age_survived = pd.DataFrame({'Number people per Age': train_temp['Age Bin'].value_counts().reset_index(drop=True), \n",
    "              '% survived': round(train_temp.groupby(by='Age Bin')['Survived'].mean()*100)})\n",
    "\n",
    "sns.barplot(x=age_survived.index, y=age_survived['% survived'])\n",
    "plt.show()\n",
    "age_survived['labels'] = labels.value_counts().sort_index().index\n",
    "\n",
    "print(age_survived)"
   ]
  },
  {
   "cell_type": "markdown",
   "metadata": {},
   "source": [
    "Based on this it's best to split men into following categories:\n",
    "- <= 4 - 65%\n",
    "- <= 11 - 38%\n",
    "- <= 24 - 7%\n",
    "- <= 26 - 22%\n",
    "- <= 27 - 50%\n",
    "- <= 31 - 15%\n",
    "- <= 32 - 47%\n",
    "- Above - 12%"
   ]
  },
  {
   "cell_type": "code",
   "execution_count": 488,
   "metadata": {},
   "outputs": [
    {
     "name": "stderr",
     "output_type": "stream",
     "text": [
      "C:\\Users\\rkrichev\\AppData\\Local\\Continuum\\anaconda3\\lib\\site-packages\\ipykernel_launcher.py:4: SettingWithCopyWarning: \n",
      "A value is trying to be set on a copy of a slice from a DataFrame.\n",
      "Try using .loc[row_indexer,col_indexer] = value instead\n",
      "\n",
      "See the caveats in the documentation: http://pandas.pydata.org/pandas-docs/stable/indexing.html#indexing-view-versus-copy\n",
      "  after removing the cwd from sys.path.\n",
      "C:\\Users\\rkrichev\\AppData\\Local\\Continuum\\anaconda3\\lib\\site-packages\\ipykernel_launcher.py:5: UserWarning: Boolean Series key will be reindexed to match DataFrame index.\n",
      "  \"\"\"\n",
      "C:\\Users\\rkrichev\\AppData\\Local\\Continuum\\anaconda3\\lib\\site-packages\\ipykernel_launcher.py:6: UserWarning: Boolean Series key will be reindexed to match DataFrame index.\n",
      "  \n",
      "C:\\Users\\rkrichev\\AppData\\Local\\Continuum\\anaconda3\\lib\\site-packages\\ipykernel_launcher.py:6: SettingWithCopyWarning: \n",
      "A value is trying to be set on a copy of a slice from a DataFrame.\n",
      "Try using .loc[row_indexer,col_indexer] = value instead\n",
      "\n",
      "See the caveats in the documentation: http://pandas.pydata.org/pandas-docs/stable/indexing.html#indexing-view-versus-copy\n",
      "  \n"
     ]
    },
    {
     "name": "stdout",
     "output_type": "stream",
     "text": [
      "Split into maximum bins of Number of people per Age + survival rate in training set - FEMALES ONLY:\n"
     ]
    },
    {
     "data": {
      "image/png": "[encoded data removed]",
      "text/plain": [
       "<Figure size 432x288 with 1 Axes>"
      ]
     },
     "metadata": {},
     "output_type": "display_data"
    },
    {
     "name": "stdout",
     "output_type": "stream",
     "text": [
      "    Number people per Age  % survived          labels\n",
      "0                      17        60.0    (0.169, 2.0]\n",
      "1                      16        85.0      (2.0, 6.0]\n",
      "2                      13        22.0     (6.0, 12.0]\n",
      "3                      13        82.0    (12.0, 16.0]\n",
      "4                      13        83.0  (16.0, 17.667]\n",
      "5                      13        62.0  (17.667, 18.0]\n",
      "6                      12       100.0    (18.0, 19.0]\n",
      "7                      12        44.0    (19.0, 21.0]\n",
      "8                      11        83.0    (21.0, 22.0]\n",
      "9                      11        80.0    (22.0, 23.0]\n",
      "10                     11        88.0    (23.0, 24.0]\n",
      "11                     10        40.0    (24.0, 25.0]\n",
      "12                     10        60.0  (25.0, 26.333]\n",
      "13                     10        77.0  (26.333, 28.0]\n",
      "14                     10        71.0    (28.0, 29.0]\n",
      "15                      9        82.0    (29.0, 30.0]\n",
      "16                      9        62.0    (30.0, 31.0]\n",
      "17                      8        90.0    (31.0, 33.0]\n",
      "18                      8       100.0    (33.0, 35.0]\n",
      "19                      7        88.0    (35.0, 37.0]\n",
      "20                      7        73.0    (37.0, 39.0]\n",
      "21                      6        77.0    (39.0, 42.0]\n",
      "22                      6        55.0    (42.0, 45.0]\n",
      "23                      5        67.0    (45.0, 48.0]\n",
      "24                      5        90.0    (48.0, 52.0]\n",
      "25                      5        90.0    (52.0, 58.0]\n",
      "26                      4       100.0    (58.0, 76.0]\n"
     ]
    }
   ],
   "source": [
    "age_known = both[(both['Age'].isnull()==False) & (both['Sex']=='female')]\n",
    "labels = pd.qcut(age_known['Age'], q=27)\n",
    "\n",
    "age_known['Age Bin'] = LabelEncoder().fit_transform(labels)\n",
    "train_temp = age_known[:train[(train['Age'].isnull()==False) & (both['Sex']=='female')].shape[0]]\n",
    "train_temp['Survived'] = train[(train['Age'].isnull()==False) & (both['Sex']=='female')]['Survived']\n",
    "\n",
    "print('Split into maximum bins of Number of people per Age + survival rate in training set - FEMALES ONLY:')\n",
    "age_survived = pd.DataFrame({'Number people per Age': train_temp['Age Bin'].value_counts().reset_index(drop=True), \n",
    "              '% survived': round(train_temp.groupby(by='Age Bin')['Survived'].mean()*100)})\n",
    "\n",
    "sns.barplot(x=age_survived.index, y=age_survived['% survived'])\n",
    "plt.show()\n",
    "age_survived['labels'] = labels.value_counts().sort_index().index\n",
    "\n",
    "print(age_survived)"
   ]
  },
  {
   "cell_type": "markdown",
   "metadata": {},
   "source": [
    "In females, can't see a clear pattern.  A few exceptions:\n",
    "- 6-12 very low percentage, but not enough instances to learn anything from it\n",
    "- 18-19 - high percentage, but not enough instances to learn anything from it\n",
    "Perhaps best to go according to the men"
   ]
  },
  {
   "cell_type": "code",
   "execution_count": 495,
   "metadata": {},
   "outputs": [
    {
     "data": {
      "text/plain": [
       "count    774.000000\n",
       "mean      27.406654\n",
       "std       13.118409\n",
       "min        0.170000\n",
       "25%       20.000000\n",
       "50%       26.000000\n",
       "75%       34.000000\n",
       "max       74.000000\n",
       "Name: Age, dtype: float64"
      ]
     },
     "execution_count": 495,
     "metadata": {},
     "output_type": "execute_result"
    }
   ],
   "source": [
    "both[both['Deck']=='unknown']['Age'].describe()"
   ]
  },
  {
   "cell_type": "code",
   "execution_count": 494,
   "metadata": {},
   "outputs": [
    {
     "data": {
      "text/plain": [
       "count    1046.000000\n",
       "mean       29.881138\n",
       "std        14.413493\n",
       "min         0.170000\n",
       "25%        21.000000\n",
       "50%        28.000000\n",
       "75%        39.000000\n",
       "max        80.000000\n",
       "Name: Age, dtype: float64"
      ]
     },
     "execution_count": 494,
     "metadata": {},
     "output_type": "execute_result"
    }
   ],
   "source": [
    "both['Age'].describe()"
   ]
  },
  {
   "cell_type": "markdown",
   "metadata": {},
   "source": [
    "There is slightly lower average for people without known Deck (by 2.5 years on average), so if we'll do regression to predict age, it's better to take unknown deck into the account"
   ]
  },
  {
   "cell_type": "code",
   "execution_count": 499,
   "metadata": {},
   "outputs": [
    {
     "name": "stdout",
     "output_type": "stream",
     "text": [
      "\n",
      "Class 1 ages:\n",
      "count    284.000000\n",
      "mean      39.159930\n",
      "std       14.548028\n",
      "min        0.920000\n",
      "25%       28.000000\n",
      "50%       39.000000\n",
      "75%       50.000000\n",
      "max       80.000000\n",
      "Name: Age, dtype: float64\n",
      "\n",
      "Class 2 ages:\n",
      "count    261.000000\n",
      "mean      29.506705\n",
      "std       13.638627\n",
      "min        0.670000\n",
      "25%       22.000000\n",
      "50%       29.000000\n",
      "75%       36.000000\n",
      "max       70.000000\n",
      "Name: Age, dtype: float64\n",
      "\n",
      "Class 3 ages:\n",
      "count    501.000000\n",
      "mean      24.816367\n",
      "std       11.958202\n",
      "min        0.170000\n",
      "25%       18.000000\n",
      "50%       24.000000\n",
      "75%       32.000000\n",
      "max       74.000000\n",
      "Name: Age, dtype: float64\n"
     ]
    }
   ],
   "source": [
    "for cl in [1,2,3]:\n",
    "    print(f'\\nClass {cl} ages:')\n",
    "    print(both[both['Pclass']==cl]['Age'].describe())"
   ]
  },
  {
   "cell_type": "markdown",
   "metadata": {},
   "source": [
    "We see the Pclass makes a big difference in the age"
   ]
  },
  {
   "cell_type": "markdown",
   "metadata": {},
   "source": [
    "Let's see also Title"
   ]
  },
  {
   "cell_type": "code",
   "execution_count": 504,
   "metadata": {},
   "outputs": [
    {
     "data": {
      "text/plain": [
       "Mapped Title\n",
       "Master     5.482642\n",
       "Miss      21.824366\n",
       "Mr        32.811056\n",
       "Mrs       36.971264\n",
       "Name: Age, dtype: float64"
      ]
     },
     "execution_count": 504,
     "metadata": {},
     "output_type": "execute_result"
    }
   ],
   "source": [
    "both.groupby('Mapped Title')['Age'].mean()"
   ]
  },
  {
   "cell_type": "markdown",
   "metadata": {},
   "source": [
    "We see there is a big difference in ages between ages"
   ]
  },
  {
   "cell_type": "markdown",
   "metadata": {},
   "source": [
    "For now, decided that it's enough to take Title and Pclass into account when predicting age (as done in the code in titanic.py).  Might introduce Regressor prediction later"
   ]
  },
  {
   "cell_type": "markdown",
   "metadata": {},
   "source": [
    "So taking age split up based on KDE and Survival rates:\n",
    "Based on KDE, would split the ages in the following way:\n",
    "- < 12\n",
    "- 12 to 30\n",
    "- 30 to 40\n",
    "- 40 to 48\n",
    "- 48 to 57\n",
    "- 57 and up\n",
    "\n",
    "Based on survival rates:\n",
    "- <= 4 - 65%\n",
    "- <= 11 - 38%\n",
    "- <= 24 - 7%\n",
    "- <= 26 - 22%\n",
    "- <= 27 - 50%\n",
    "- <= 31 - 15%\n",
    "- <= 32 - 47%\n",
    "- Above - 12%\n",
    "\n",
    "**Together**:\n",
    "- <= 4 - 65%\n",
    "- <= 11 - 38%\n",
    "- <= 24 - 7%\n",
    "- <= 26 - 22%\n",
    "- <= 27 - 50%\n",
    "- <= 31 - 15%\n",
    "- <= 32 - 47%\n",
    "- <= 40 - KDE based\n",
    "- <= 48 - KDE based\n",
    "- <= 57 - KDE based\n",
    "- Above - 12%"
   ]
  },
  {
   "cell_type": "code",
   "execution_count": 511,
   "metadata": {},
   "outputs": [
    {
     "name": "stdout",
     "output_type": "stream",
     "text": [
      "Number of people per Age (manual split) + survival rate in training set:\n"
     ]
    },
    {
     "data": {
      "image/png": "[encoded data removed]",
      "text/plain": [
       "<Figure size 432x288 with 1 Axes>"
      ]
     },
     "metadata": {},
     "output_type": "display_data"
    },
    {
     "name": "stdout",
     "output_type": "stream",
     "text": [
      "       Number people per age  % survived\n",
      "-4                        40        68.0\n",
      "11-24                    209        38.0\n",
      "24-26                     42        29.0\n",
      "26-27                     18        61.0\n",
      "27-31                     91        36.0\n",
      "31-32                     18        50.0\n",
      "32-40                    118        44.0\n",
      "4-11                      28        43.0\n",
      "40-48                     70        34.0\n",
      "48-57                     47        45.0\n",
      "57+                      210        30.0\n"
     ]
    }
   ],
   "source": [
    "def manual_age_bin(age):\n",
    "    if age <= 4: return '-4' # based on survival rate\n",
    "    elif age <= 11: return '4-11' # based on survival rate\n",
    "    elif age <= 24: return '11-24' # based on survival rate\n",
    "    elif age <= 26: return '24-26' # based on survival rate\n",
    "    elif age <= 27: return '26-27' # based on survival rate\n",
    "    elif age <= 31: return '27-31' # based on survival rate\n",
    "    elif age <= 32: return '31-32' # based on survival rate \n",
    "    elif age <= 40: return '32-40' # based on KDE\n",
    "    elif age <= 48: return '40-48' # based on KDE\n",
    "    elif age <= 57: return '48-57' # based on KDE\n",
    "    else: return '57+'\n",
    "\n",
    "\n",
    "train_temp = train.copy()\n",
    "train_temp['Age bin'] = train_temp['Age'].apply(manual_age_bin)\n",
    "\n",
    "print('Number of people per Age (manual split) + survival rate in training set:')\n",
    "age_survived = pd.DataFrame({'Number people per age': train_temp['Age bin'].value_counts(), \n",
    "              '% survived': round(train_temp.groupby(by='Age bin')['Survived'].mean()*100)})\n",
    "\n",
    "sns.barplot(x=age_survived.index, y=age_survived['% survived'])\n",
    "plt.show()\n",
    "print(age_survived)"
   ]
  },
  {
   "cell_type": "markdown",
   "metadata": {},
   "source": [
    " "
   ]
  },
  {
   "cell_type": "markdown",
   "metadata": {},
   "source": [
    "# What's interesting about men that survived"
   ]
  },
  {
   "cell_type": "markdown",
   "metadata": {},
   "source": [
    "Most men didn't survive, most women survived, vast majority of kids survived.  Look into men that survived."
   ]
  },
  {
   "cell_type": "code",
   "execution_count": 576,
   "metadata": {},
   "outputs": [
    {
     "data": {
      "text/plain": [
       "Index(['Survived', 'Pclass', 'Name', 'Sex', 'Age', 'SibSp', 'Parch', 'Ticket',\n",
       "       'Fare', 'Cabin', 'Embarked', 'Title', 'Family size', 'Deck'],\n",
       "      dtype='object')"
      ]
     },
     "execution_count": 576,
     "metadata": {},
     "output_type": "execute_result"
    }
   ],
   "source": [
    "train.columns"
   ]
  },
  {
   "cell_type": "code",
   "execution_count": 580,
   "metadata": {},
   "outputs": [],
   "source": [
    "def print_percent_survived_title(train, col, title):\n",
    "    df = pd.DataFrame({title: train[train['Mapped Title']==title][col].value_counts().sort_index()})\n",
    "    df['Survived'] = train[(train['Mapped Title']==title) & (train['Survived']==1)][col].value_counts().sort_index() \n",
    "    df['% survived'] = round(df['Survived'] / df[title] * 100)\n",
    "    df['Survived'].fillna(0, inplace=True)\n",
    "    df['% survived'].fillna(0, inplace=True)\n",
    "    print(f'{col}:\\n{df}')"
   ]
  },
  {
   "cell_type": "markdown",
   "metadata": {},
   "source": [
    "**NOT LOOKING INTO:**\n",
    "- 'Pclass' - not a lot of categories, already know the connection\n",
    "- 'Age' - already looked into connection\n",
    "- 'Title' - already know the connection\n",
    "- Fare - too complicated to look into connection, don't believe made more of a difference than class and Deck\n",
    "- Embarked - don't believe special difference for males"
   ]
  },
  {
   "cell_type": "code",
   "execution_count": 583,
   "metadata": {},
   "outputs": [
    {
     "name": "stdout",
     "output_type": "stream",
     "text": [
      "SibSp:\n",
      "    Mr  Survived  % survived\n",
      "0  429      68.0        16.0\n",
      "1   88      17.0        19.0\n",
      "2   14       2.0        14.0\n",
      "3    1       0.0         0.0\n",
      "4    2       0.0         0.0\n",
      "5    1       0.0         0.0\n",
      "8    3       0.0         0.0\n"
     ]
    }
   ],
   "source": [
    "print_percent_survived_title(train, 'SibSp', 'Mr')"
   ]
  },
  {
   "cell_type": "markdown",
   "metadata": {},
   "source": [
    "**Nothing to change:** 'SibSp' - 0 lower, 1 - higher, 2 - lower, 3 and up - not enough info, but those are already separate SibSp categories"
   ]
  },
  {
   "cell_type": "markdown",
   "metadata": {},
   "source": [
    " "
   ]
  },
  {
   "cell_type": "code",
   "execution_count": 584,
   "metadata": {},
   "outputs": [
    {
     "name": "stdout",
     "output_type": "stream",
     "text": [
      "Parch:\n",
      "    Mr  Survived  % survived\n",
      "0  484      80.0        17.0\n",
      "1   35       5.0        14.0\n",
      "2   15       2.0        13.0\n",
      "3    1       0.0         0.0\n",
      "4    2       0.0         0.0\n",
      "5    1       0.0         0.0\n"
     ]
    }
   ],
   "source": [
    "print_percent_survived_title(train, 'Parch', 'Mr')"
   ]
  },
  {
   "cell_type": "markdown",
   "metadata": {},
   "source": [
    "**Nothing to change:** `Parch` - 0,1,2 - similar survival, 3 and up - not enough info, but those are already separate `Parch` categories"
   ]
  },
  {
   "cell_type": "markdown",
   "metadata": {},
   "source": [
    " "
   ]
  },
  {
   "cell_type": "code",
   "execution_count": 586,
   "metadata": {},
   "outputs": [
    {
     "name": "stdout",
     "output_type": "stream",
     "text": [
      "Family size:\n",
      "     Mr  Survived  % survived\n",
      "1   412      65.0        16.0\n",
      "2    71      15.0        21.0\n",
      "3    38       6.0        16.0\n",
      "4     6       1.0        17.0\n",
      "5     1       0.0         0.0\n",
      "6     5       0.0         0.0\n",
      "7     1       0.0         0.0\n",
      "8     1       0.0         0.0\n",
      "11    3       0.0         0.0\n"
     ]
    }
   ],
   "source": [
    "print_percent_survived_title(train, 'Family size', 'Mr')"
   ]
  },
  {
   "cell_type": "markdown",
   "metadata": {},
   "source": [
    "**Making a change**: `Family size` - 1-4 similar, with 2 being slightly higher, but not drastically that's worth splitting 2 & 3 that are together now.  5 and up - not enough info"
   ]
  },
  {
   "cell_type": "markdown",
   "metadata": {},
   "source": [
    " "
   ]
  },
  {
   "cell_type": "code",
   "execution_count": 587,
   "metadata": {},
   "outputs": [
    {
     "name": "stdout",
     "output_type": "stream",
     "text": [
      "Deck:\n",
      "          Mr  Survived  % survived\n",
      "A         13       5.0        38.0\n",
      "B         19       7.0        37.0\n",
      "C         31      10.0        32.0\n",
      "D         16       8.0        50.0\n",
      "E         16       9.0        56.0\n",
      "F          5       0.0         0.0\n",
      "T          1       0.0         0.0\n",
      "unknown  437      48.0        11.0\n"
     ]
    }
   ],
   "source": [
    "print_percent_survived_title(train, 'Deck','Mr')"
   ]
  },
  {
   "cell_type": "markdown",
   "metadata": {},
   "source": [
    "**Making a change:**\n",
    "`Deck` - AB together, C - lower, D - higher, E - highest, F,T - not enough info, but seems lower, unknown - very low\n",
    "- Currently, F is with C, which is OK since we don't have enough info about F.  \n",
    "- Currently BDE are together, while perhaps it's better to split B out, since lower survival rate than DE"
   ]
  },
  {
   "cell_type": "markdown",
   "metadata": {},
   "source": [
    " "
   ]
  },
  {
   "cell_type": "markdown",
   "metadata": {},
   "source": [
    "# What's interesting about women that didn't survive"
   ]
  },
  {
   "cell_type": "code",
   "execution_count": 588,
   "metadata": {},
   "outputs": [
    {
     "name": "stdout",
     "output_type": "stream",
     "text": [
      "SibSp:\n",
      "   Mrs  Survived  % survived\n",
      "0   47        39        83.0\n",
      "1   76        58        76.0\n",
      "2    3         3       100.0\n",
      "3    2         2       100.0\n"
     ]
    }
   ],
   "source": [
    "print_percent_survived_title(train, 'SibSp', 'Mrs')"
   ]
  },
  {
   "cell_type": "markdown",
   "metadata": {},
   "source": [
    "**No change:** `SibSp` - need to split 0 & 1. 2 & 3 - not enough info. Already split today"
   ]
  },
  {
   "cell_type": "markdown",
   "metadata": {},
   "source": [
    "  "
   ]
  },
  {
   "cell_type": "code",
   "execution_count": 589,
   "metadata": {},
   "outputs": [
    {
     "name": "stdout",
     "output_type": "stream",
     "text": [
      "Parch:\n",
      "   Mrs  Survived  % survived\n",
      "0   72      62.0        86.0\n",
      "1   32      26.0        81.0\n",
      "2   13      10.0        77.0\n",
      "3    4       3.0        75.0\n",
      "4    2       0.0         0.0\n",
      "5    4       1.0        25.0\n",
      "6    1       0.0         0.0\n"
     ]
    }
   ],
   "source": [
    "print_percent_survived_title(train, 'Parch', 'Mrs')"
   ]
  },
  {
   "cell_type": "markdown",
   "metadata": {},
   "source": [
    "**No change:** `Parch` - 3 and up - not enough info, 0, 1, 2 - percentages differ slightly, not critical to split. Leaving as today, 0 separate, 1,2,3 together"
   ]
  },
  {
   "cell_type": "markdown",
   "metadata": {},
   "source": [
    " "
   ]
  },
  {
   "cell_type": "code",
   "execution_count": null,
   "metadata": {},
   "outputs": [],
   "source": []
  },
  {
   "cell_type": "code",
   "execution_count": 591,
   "metadata": {},
   "outputs": [
    {
     "name": "stdout",
     "output_type": "stream",
     "text": [
      "Family size:\n",
      "   Mrs  Survived  % survived\n",
      "1   22      20.0        91.0\n",
      "2   60      51.0        85.0\n",
      "3   27      20.0        74.0\n",
      "4    9       8.0        89.0\n",
      "5    3       1.0        33.0\n",
      "6    4       1.0        25.0\n",
      "7    2       1.0        50.0\n",
      "8    1       0.0         0.0\n"
     ]
    }
   ],
   "source": [
    "print_percent_survived_title(train, 'Family size', 'Mrs')"
   ]
  },
  {
   "cell_type": "markdown",
   "metadata": {},
   "source": [
    "**Making change**: `Family size` - above 5 not enough info, 1-4 similar enough, 3 being slighly lower.  Splitting 3 out."
   ]
  },
  {
   "cell_type": "markdown",
   "metadata": {},
   "source": [
    " "
   ]
  },
  {
   "cell_type": "code",
   "execution_count": 592,
   "metadata": {},
   "outputs": [
    {
     "name": "stdout",
     "output_type": "stream",
     "text": [
      "Deck:\n",
      "         Mrs  Survived  % survived\n",
      "A          1         1       100.0\n",
      "B         12        12       100.0\n",
      "C         14        13        93.0\n",
      "D          9         9       100.0\n",
      "E          7         6        86.0\n",
      "F          2         2       100.0\n",
      "G          2         1        50.0\n",
      "unknown   81        58        72.0\n"
     ]
    }
   ],
   "source": [
    "print_percent_survived_title(train, 'Deck', 'Mrs')"
   ]
  },
  {
   "cell_type": "markdown",
   "metadata": {},
   "source": [
    "**No change:** Differences not significant for most, F, G - not enough info, the only one that's significanly different is `unknown`, and it's already separate"
   ]
  },
  {
   "cell_type": "markdown",
   "metadata": {},
   "source": [
    " "
   ]
  },
  {
   "cell_type": "code",
   "execution_count": 574,
   "metadata": {},
   "outputs": [
    {
     "data": {
      "text/plain": [
       "Mr              517\n",
       "Miss            182\n",
       "Mrs             125\n",
       "Master           40\n",
       "Dr                7\n",
       "Rev               6\n",
       "Major             2\n",
       "Mlle              2\n",
       "Col               2\n",
       "Lady              1\n",
       "Jonkheer          1\n",
       "Don               1\n",
       "the Countess      1\n",
       "Ms                1\n",
       "Mme               1\n",
       "Sir               1\n",
       "Capt              1\n",
       "Name: Title, dtype: int64"
      ]
     },
     "execution_count": 574,
     "metadata": {},
     "output_type": "execute_result"
    }
   ],
   "source": [
    "train['Title'].value_counts()"
   ]
  },
  {
   "cell_type": "markdown",
   "metadata": {},
   "source": [
    " "
   ]
  },
  {
   "cell_type": "markdown",
   "metadata": {},
   "source": [
    "# What's interesting about Miss that didn't survive"
   ]
  },
  {
   "cell_type": "code",
   "execution_count": 595,
   "metadata": {},
   "outputs": [
    {
     "name": "stdout",
     "output_type": "stream",
     "text": [
      "SibSp:\n",
      "   Miss  Survived  % survived\n",
      "0   126      97.0        77.0\n",
      "1    30      22.0        73.0\n",
      "2    10       7.0        70.0\n",
      "3     9       2.0        22.0\n",
      "4     6       2.0        33.0\n",
      "5     1       0.0         0.0\n",
      "8     3       0.0         0.0\n",
      "Parch:\n",
      "   Miss  Survived  % survived\n",
      "0   121        90        74.0\n",
      "1    28        20        71.0\n",
      "2    36        20        56.0\n",
      "Family size:\n",
      "    Miss  Survived  % survived\n",
      "1    103      78.0        76.0\n",
      "2     27      20.0        74.0\n",
      "3     22      18.0        82.0\n",
      "4     10       8.0        80.0\n",
      "5      9       2.0        22.0\n",
      "6      4       2.0        50.0\n",
      "7      6       2.0        33.0\n",
      "8      1       0.0         0.0\n",
      "11     3       0.0         0.0\n",
      "Deck:\n",
      "         Miss  Survived  % survived\n",
      "B          15        15       100.0\n",
      "C          13        11        85.0\n",
      "D           8         8       100.0\n",
      "E           8         8       100.0\n",
      "F           3         3       100.0\n",
      "G           2         1        50.0\n",
      "unknown   136        84        62.0\n"
     ]
    }
   ],
   "source": [
    "print_percent_survived_title(train, 'SibSp', 'Miss')\n",
    "print_percent_survived_title(train, 'Parch', 'Miss')\n",
    "print_percent_survived_title(train, 'Family size', 'Miss')\n",
    "print_percent_survived_title(train, 'Deck', 'Miss')"
   ]
  },
  {
   "cell_type": "markdown",
   "metadata": {},
   "source": [
    "- `SibSp` - 0-2 same probability, 3-4 lower, more - lower, but not enough info. **No change**\n",
    "- `Parch` - 2 only significantly different, already separate. **Change**: splitting 2 out\n",
    "- `Family size` - 1-4 similar, 5 and up - lower, not enough info **No change**\n",
    "- `Deck`, G - not enough info, rest - similar, besides unknown that's already separate.  **No change**"
   ]
  },
  {
   "cell_type": "markdown",
   "metadata": {},
   "source": [
    " "
   ]
  },
  {
   "cell_type": "markdown",
   "metadata": {},
   "source": [
    "## What's interesting about Master that didn't survive"
   ]
  },
  {
   "cell_type": "code",
   "execution_count": 596,
   "metadata": {},
   "outputs": [
    {
     "name": "stdout",
     "output_type": "stream",
     "text": [
      "SibSp:\n",
      "   Master  Survived  % survived\n",
      "0       6       6.0       100.0\n",
      "1      15      15.0       100.0\n",
      "2       1       1.0       100.0\n",
      "3       4       0.0         0.0\n",
      "4      10       1.0        10.0\n",
      "5       3       0.0         0.0\n",
      "8       1       0.0         0.0\n",
      "Parch:\n",
      "   Master  Survived  % survived\n",
      "0       1         1       100.0\n",
      "1      23        14        61.0\n",
      "2      16         8        50.0\n",
      "Family size:\n",
      "    Master  Survived  % survived\n",
      "2        3       3.0       100.0\n",
      "3       15      15.0       100.0\n",
      "4        4       4.0       100.0\n",
      "5        2       0.0         0.0\n",
      "6        9       0.0         0.0\n",
      "7        3       1.0        33.0\n",
      "8        3       0.0         0.0\n",
      "11       1       0.0         0.0\n",
      "Deck:\n",
      "         Master  Survived  % survived\n",
      "A             1         1       100.0\n",
      "B             1         1       100.0\n",
      "C             1         1       100.0\n",
      "E             1         1       100.0\n",
      "F             3         3       100.0\n",
      "unknown      33        16        48.0\n"
     ]
    }
   ],
   "source": [
    "print_percent_survived_title(train, 'SibSp', 'Master')\n",
    "print_percent_survived_title(train, 'Parch', 'Master')\n",
    "print_percent_survived_title(train, 'Family size', 'Master')\n",
    "print_percent_survived_title(train, 'Deck', 'Master')"
   ]
  },
  {
   "cell_type": "markdown",
   "metadata": {},
   "source": [
    "- `SibSp` - 0-2 same probability, 3 - 0, but not enough info, 4 low, 5 and up more - lower, but not enough info. **No change**\n",
    "- `Parch` - 0, 1, 2 different, but already split. **No change**\n",
    "- `Family size` - 2-4 similar, 5 and up - lower, not enough info **No change**\n",
    "- `Deck`-  unknown different, already separate, that's already separate.  **No change**"
   ]
  },
  {
   "cell_type": "code",
   "execution_count": null,
   "metadata": {},
   "outputs": [],
   "source": []
  },
  {
   "cell_type": "code",
   "execution_count": null,
   "metadata": {},
   "outputs": [],
   "source": []
  },
  {
   "cell_type": "code",
   "execution_count": null,
   "metadata": {},
   "outputs": [],
   "source": []
  }
 ],
 "metadata": {
  "kernelspec": {
   "display_name": "Python 3",
   "language": "python",
   "name": "python3"
  },
  "language_info": {
   "codemirror_mode": {
    "name": "ipython",
    "version": 3
   },
   "file_extension": ".py",
   "mimetype": "text/x-python",
   "name": "python",
   "nbconvert_exporter": "python",
   "pygments_lexer": "ipython3",
   "version": "3.7.3"
  }
 },
 "nbformat": 4,
 "nbformat_minor": 2
}
