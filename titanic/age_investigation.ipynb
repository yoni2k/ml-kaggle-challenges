{
 "cells": [
  {
   "cell_type": "code",
   "execution_count": 1,
   "metadata": {},
   "outputs": [],
   "source": [
    "import numpy as np # linear algebra\n",
    "import pandas as pd # data processing, CSV file I/O (e.g. pd.read_csv)\n",
    "import matplotlib.pyplot as plt\n",
    "import seaborn as sns\n",
    "sns.set()"
   ]
  },
  {
   "cell_type": "code",
   "execution_count": 2,
   "metadata": {},
   "outputs": [
    {
     "data": {
      "text/html": [
       "<div>\n",
       "<style scoped>\n",
       "    .dataframe tbody tr th:only-of-type {\n",
       "        vertical-align: middle;\n",
       "    }\n",
       "\n",
       "    .dataframe tbody tr th {\n",
       "        vertical-align: top;\n",
       "    }\n",
       "\n",
       "    .dataframe thead th {\n",
       "        text-align: right;\n",
       "    }\n",
       "</style>\n",
       "<table border=\"1\" class=\"dataframe\">\n",
       "  <thead>\n",
       "    <tr style=\"text-align: right;\">\n",
       "      <th></th>\n",
       "      <th>PassengerId</th>\n",
       "      <th>Survived</th>\n",
       "      <th>Pclass</th>\n",
       "      <th>Name</th>\n",
       "      <th>Sex</th>\n",
       "      <th>Age</th>\n",
       "      <th>SibSp</th>\n",
       "      <th>Parch</th>\n",
       "      <th>Ticket</th>\n",
       "      <th>Fare</th>\n",
       "      <th>Cabin</th>\n",
       "      <th>Embarked</th>\n",
       "    </tr>\n",
       "  </thead>\n",
       "  <tbody>\n",
       "    <tr>\n",
       "      <th>0</th>\n",
       "      <td>1</td>\n",
       "      <td>0</td>\n",
       "      <td>3</td>\n",
       "      <td>Braund, Mr. Owen Harris</td>\n",
       "      <td>male</td>\n",
       "      <td>22.0</td>\n",
       "      <td>1</td>\n",
       "      <td>0</td>\n",
       "      <td>A/5 21171</td>\n",
       "      <td>7.2500</td>\n",
       "      <td>NaN</td>\n",
       "      <td>S</td>\n",
       "    </tr>\n",
       "    <tr>\n",
       "      <th>1</th>\n",
       "      <td>2</td>\n",
       "      <td>1</td>\n",
       "      <td>1</td>\n",
       "      <td>Cumings, Mrs. John Bradley (Florence Briggs Th...</td>\n",
       "      <td>female</td>\n",
       "      <td>38.0</td>\n",
       "      <td>1</td>\n",
       "      <td>0</td>\n",
       "      <td>PC 17599</td>\n",
       "      <td>71.2833</td>\n",
       "      <td>C85</td>\n",
       "      <td>C</td>\n",
       "    </tr>\n",
       "    <tr>\n",
       "      <th>2</th>\n",
       "      <td>3</td>\n",
       "      <td>1</td>\n",
       "      <td>3</td>\n",
       "      <td>Heikkinen, Miss. Laina</td>\n",
       "      <td>female</td>\n",
       "      <td>26.0</td>\n",
       "      <td>0</td>\n",
       "      <td>0</td>\n",
       "      <td>STON/O2. 3101282</td>\n",
       "      <td>7.9250</td>\n",
       "      <td>NaN</td>\n",
       "      <td>S</td>\n",
       "    </tr>\n",
       "    <tr>\n",
       "      <th>3</th>\n",
       "      <td>4</td>\n",
       "      <td>1</td>\n",
       "      <td>1</td>\n",
       "      <td>Futrelle, Mrs. Jacques Heath (Lily May Peel)</td>\n",
       "      <td>female</td>\n",
       "      <td>35.0</td>\n",
       "      <td>1</td>\n",
       "      <td>0</td>\n",
       "      <td>113803</td>\n",
       "      <td>53.1000</td>\n",
       "      <td>C123</td>\n",
       "      <td>S</td>\n",
       "    </tr>\n",
       "    <tr>\n",
       "      <th>4</th>\n",
       "      <td>5</td>\n",
       "      <td>0</td>\n",
       "      <td>3</td>\n",
       "      <td>Allen, Mr. William Henry</td>\n",
       "      <td>male</td>\n",
       "      <td>35.0</td>\n",
       "      <td>0</td>\n",
       "      <td>0</td>\n",
       "      <td>373450</td>\n",
       "      <td>8.0500</td>\n",
       "      <td>NaN</td>\n",
       "      <td>S</td>\n",
       "    </tr>\n",
       "  </tbody>\n",
       "</table>\n",
       "</div>"
      ],
      "text/plain": [
       "   PassengerId  Survived  Pclass  \\\n",
       "0            1         0       3   \n",
       "1            2         1       1   \n",
       "2            3         1       3   \n",
       "3            4         1       1   \n",
       "4            5         0       3   \n",
       "\n",
       "                                                Name     Sex   Age  SibSp  \\\n",
       "0                            Braund, Mr. Owen Harris    male  22.0      1   \n",
       "1  Cumings, Mrs. John Bradley (Florence Briggs Th...  female  38.0      1   \n",
       "2                             Heikkinen, Miss. Laina  female  26.0      0   \n",
       "3       Futrelle, Mrs. Jacques Heath (Lily May Peel)  female  35.0      1   \n",
       "4                           Allen, Mr. William Henry    male  35.0      0   \n",
       "\n",
       "   Parch            Ticket     Fare Cabin Embarked  \n",
       "0      0         A/5 21171   7.2500   NaN        S  \n",
       "1      0          PC 17599  71.2833   C85        C  \n",
       "2      0  STON/O2. 3101282   7.9250   NaN        S  \n",
       "3      0            113803  53.1000  C123        S  \n",
       "4      0            373450   8.0500   NaN        S  "
      ]
     },
     "execution_count": 2,
     "metadata": {},
     "output_type": "execute_result"
    }
   ],
   "source": [
    "df = pd.read_csv('input/train.csv')\n",
    "df.head()"
   ]
  },
  {
   "cell_type": "code",
   "execution_count": 14,
   "metadata": {},
   "outputs": [
    {
     "data": {
      "text/plain": [
       "<matplotlib.axes._subplots.AxesSubplot at 0x22508b68588>"
      ]
     },
     "execution_count": 14,
     "metadata": {},
     "output_type": "execute_result"
    },
    {
     "data": {
      "image/png": "[encoded data removed]",
      "text/plain": [
       "<Figure size 432x288 with 1 Axes>"
      ]
     },
     "metadata": {
      "needs_background": "light"
     },
     "output_type": "display_data"
    }
   ],
   "source": [
    "sns.distplot(df[df['Age'].isnull() == False]['Age'])"
   ]
  },
  {
   "cell_type": "markdown",
   "metadata": {},
   "source": [
    "Age seems to be mostly evenly distributed, with average around 30, with a large peak around age 0"
   ]
  },
  {
   "cell_type": "code",
   "execution_count": 138,
   "metadata": {},
   "outputs": [
    {
     "name": "stdout",
     "output_type": "stream",
     "text": [
      "Average age: 29.69911764705882\n"
     ]
    }
   ],
   "source": [
    "print(f\"Average age: {df[df['Age'].isnull() == False]['Age'].mean()}\")"
   ]
  },
  {
   "cell_type": "code",
   "execution_count": 142,
   "metadata": {},
   "outputs": [
    {
     "name": "stdout",
     "output_type": "stream",
     "text": [
      "Number of passengers with very small age:\n"
     ]
    },
    {
     "data": {
      "text/plain": [
       "0.42      1\n",
       "0.67      1\n",
       "0.75      2\n",
       "0.83      2\n",
       "0.92      1\n",
       "1.00      7\n",
       "2.00     10\n",
       "3.00      6\n",
       "4.00     10\n",
       "5.00      4\n",
       "6.00      3\n",
       "7.00      3\n",
       "8.00      4\n",
       "9.00      8\n",
       "10.00     2\n",
       "Name: Age, dtype: int64"
      ]
     },
     "execution_count": 142,
     "metadata": {},
     "output_type": "execute_result"
    }
   ],
   "source": [
    "print('Number of passengers with very small age:')\n",
    "df[df['Age'].isnull() == False]['Age'].value_counts().sort_index()[:10]"
   ]
  },
  {
   "cell_type": "markdown",
   "metadata": {},
   "source": [
    "Ages < 1 year do seem a little strange since it's not whole numbers, but it could be that it was in months (see below). For now leaving as is"
   ]
  },
  {
   "cell_type": "code",
   "execution_count": 155,
   "metadata": {},
   "outputs": [
    {
     "data": {
      "text/plain": [
       "array([ 5.04,  8.04,  9.  ,  9.96, 11.04])"
      ]
     },
     "execution_count": 155,
     "metadata": {},
     "output_type": "execute_result"
    }
   ],
   "source": [
    "df[df['Age'].isnull() == False]['Age'].value_counts().sort_index()[:0.99].index.values * 12"
   ]
  },
  {
   "cell_type": "code",
   "execution_count": 18,
   "metadata": {},
   "outputs": [
    {
     "data": {
      "text/plain": [
       "False    714\n",
       "True     177\n",
       "Name: No age, dtype: int64"
      ]
     },
     "execution_count": 18,
     "metadata": {},
     "output_type": "execute_result"
    }
   ],
   "source": [
    "df['No age'] = df['Age'].isnull()\n",
    "df['No age'].value_counts()"
   ]
  },
  {
   "cell_type": "code",
   "execution_count": 43,
   "metadata": {},
   "outputs": [
    {
     "data": {
      "text/plain": [
       "<matplotlib.axes._subplots.AxesSubplot at 0x22508b25a90>"
      ]
     },
     "execution_count": 43,
     "metadata": {},
     "output_type": "execute_result"
    },
    {
     "data": {
      "image/png": "[encoded data removed]",
      "text/plain": [
       "<Figure size 432x288 with 1 Axes>"
      ]
     },
     "metadata": {
      "needs_background": "light"
     },
     "output_type": "display_data"
    }
   ],
   "source": [
    "sns.countplot(data=df, hue='Survived', x='No age') "
   ]
  },
  {
   "cell_type": "code",
   "execution_count": 37,
   "metadata": {},
   "outputs": [
    {
     "name": "stdout",
     "output_type": "stream",
     "text": [
      "Percent survived without age: 0.2937853107344633\n"
     ]
    }
   ],
   "source": [
    "print(f\"Fraction survived without age: {df[(df['Survived']==1) & (df['No age']==True)]['Survived'].count() / df[df['No age']==True]['Survived'].count()}\")"
   ]
  },
  {
   "cell_type": "code",
   "execution_count": 40,
   "metadata": {},
   "outputs": [
    {
     "name": "stdout",
     "output_type": "stream",
     "text": [
      "Fraction survived with age: 0.4061624649859944\n"
     ]
    }
   ],
   "source": [
    "print(f\"Fraction survived with age: {df[(df['Survived']==1) & (df['No age']==False)]['Survived'].count() / df[df['No age']==False]['Survived'].count()}\")"
   ]
  },
  {
   "cell_type": "markdown",
   "metadata": {},
   "source": [
    "Seems that there is difference betwen survival rate and whether age exists or not, passengers with age have higher survival rate (perhaps due to the class below)"
   ]
  },
  {
   "cell_type": "code",
   "execution_count": 47,
   "metadata": {},
   "outputs": [
    {
     "data": {
      "text/plain": [
       "<matplotlib.axes._subplots.AxesSubplot at 0x22508f1e860>"
      ]
     },
     "execution_count": 47,
     "metadata": {},
     "output_type": "execute_result"
    },
    {
     "data": {
      "image/png": "[encoded data removed]",
      "text/plain": [
       "<Figure size 432x288 with 1 Axes>"
      ]
     },
     "metadata": {
      "needs_background": "light"
     },
     "output_type": "display_data"
    }
   ],
   "source": [
    "sns.countplot(data=df, x='Pclass', hue='No age') "
   ]
  },
  {
   "cell_type": "code",
   "execution_count": 54,
   "metadata": {},
   "outputs": [
    {
     "name": "stdout",
     "output_type": "stream",
     "text": [
      "Fraction class 1 without age: 0.14 (30/216)\n",
      "Fraction class 2 without age: 0.06 (11/184)\n",
      "Fraction class 3 without age: 0.28 (136/491)\n"
     ]
    }
   ],
   "source": [
    "for cl in [1,2,3]:\n",
    "    print(f\"Fraction class {cl} without age: \" \n",
    "          f\"{round(df[(df['Pclass']==cl) & (df['No age']==True)]['Survived'].count() / df[df['Pclass']==cl]['Survived'].count(), 2)} \"\n",
    "          f\"({df[(df['Pclass']==cl) & (df['No age']==True)]['Survived'].count()}\"\n",
    "          f\"/{df[df['Pclass']==cl]['Survived'].count()})\")"
   ]
  },
  {
   "cell_type": "markdown",
   "metadata": {},
   "source": [
    "Seems that larger percentage of passengers from class 3 have missing age, but also some in class 1, very little in class 2"
   ]
  },
  {
   "cell_type": "code",
   "execution_count": 115,
   "metadata": {},
   "outputs": [],
   "source": [
    "def get_title(full_name):\n",
    "    return full_name.split(',')[1].split('.')[0].strip()"
   ]
  },
  {
   "cell_type": "code",
   "execution_count": 116,
   "metadata": {},
   "outputs": [
    {
     "data": {
      "text/plain": [
       "Mr        119\n",
       "Miss       36\n",
       "Mrs        17\n",
       "Master      4\n",
       "Dr          1\n",
       "Name: Name, dtype: int64"
      ]
     },
     "execution_count": 116,
     "metadata": {},
     "output_type": "execute_result"
    }
   ],
   "source": [
    "df[df['No age']==True]['Name'].apply(get_title).value_counts()"
   ]
  },
  {
   "cell_type": "code",
   "execution_count": 117,
   "metadata": {},
   "outputs": [
    {
     "data": {
      "text/plain": [
       "Mr              398\n",
       "Miss            146\n",
       "Mrs             108\n",
       "Master           36\n",
       "Rev               6\n",
       "Dr                6\n",
       "Major             2\n",
       "Mlle              2\n",
       "Col               2\n",
       "Jonkheer          1\n",
       "Lady              1\n",
       "Capt              1\n",
       "Don               1\n",
       "Mme               1\n",
       "Sir               1\n",
       "Ms                1\n",
       "the Countess      1\n",
       "Name: Name, dtype: int64"
      ]
     },
     "execution_count": 117,
     "metadata": {},
     "output_type": "execute_result"
    }
   ],
   "source": [
    "df[df['No age']==False]['Name'].apply(get_title).value_counts()"
   ]
  },
  {
   "cell_type": "markdown",
   "metadata": {},
   "source": [
    "It seems promising to learn better average age from title"
   ]
  },
  {
   "cell_type": "code",
   "execution_count": 118,
   "metadata": {},
   "outputs": [],
   "source": [
    "def has_title(title, full_name):\n",
    "    #print(f'Comparing \"{title}\" and \"{get_title(full_name)}\"')\n",
    "    return (title == get_title(full_name))"
   ]
  },
  {
   "cell_type": "code",
   "execution_count": 131,
   "metadata": {},
   "outputs": [
    {
     "name": "stdout",
     "output_type": "stream",
     "text": [
      "Mr       num  people: 398, Mr       average age: 32\n",
      "Miss     num  people: 146, Miss     average age: 22\n",
      "Mrs      num  people: 108, Mrs      average age: 36\n",
      "Master   num  people: 36, Master   average age: 5\n",
      "Dr       num  people: 6, Dr       average age: 42\n"
     ]
    }
   ],
   "source": [
    "for title in df[df['No age']==True]['Name'].apply(get_title).value_counts().index:\n",
    "    print(f\"{title.ljust(8)} num  people: {df[df['No age']==False]['Name'].apply(get_title).value_counts()[title]}, \"\n",
    "        f\"{title.ljust(8)} average age: {round(df[(df['No age']==False) & (df['Name'].apply(lambda name: has_title(title, name)))]['Age'].mean())}\")"
   ]
  },
  {
   "cell_type": "markdown",
   "metadata": {},
   "source": [
    "This could be a basis for filling age based not on general average but on specifics per title"
   ]
  },
  {
   "cell_type": "code",
   "execution_count": 132,
   "metadata": {},
   "outputs": [
    {
     "data": {
      "text/plain": [
       "<matplotlib.axes._subplots.AxesSubplot at 0x22508fe7828>"
      ]
     },
     "execution_count": 132,
     "metadata": {},
     "output_type": "execute_result"
    },
    {
     "data": {
      "image/png": "[encoded data removed]",
      "text/plain": [
       "<Figure size 432x288 with 1 Axes>"
      ]
     },
     "metadata": {
      "needs_background": "light"
     },
     "output_type": "display_data"
    }
   ],
   "source": [
    "sns.countplot(data=df, x='Sex', hue='No age') "
   ]
  },
  {
   "cell_type": "code",
   "execution_count": 134,
   "metadata": {},
   "outputs": [
    {
     "name": "stdout",
     "output_type": "stream",
     "text": [
      "Fraction sex male without age: 0.21 (124/577)\n",
      "Fraction sex female without age: 0.17 (53/314)\n"
     ]
    }
   ],
   "source": [
    "for sex in ['male', 'female']:\n",
    "    print(f\"Fraction sex {sex} without age: \" \n",
    "          f\"{round(df[(df['Sex']==sex) & (df['No age']==True)]['Survived'].count() / df[df['Sex']==sex]['Survived'].count(), 2)} \"\n",
    "          f\"({df[(df['Sex']==sex) & (df['No age']==True)]['Survived'].count()}\"\n",
    "          f\"/{df[df['Sex']==sex]['Survived'].count()})\")"
   ]
  },
  {
   "cell_type": "markdown",
   "metadata": {},
   "source": [
    "Conclusion: can't use **Sex** to predict age"
   ]
  },
  {
   "cell_type": "code",
   "execution_count": 136,
   "metadata": {},
   "outputs": [
    {
     "data": {
      "text/plain": [
       "<matplotlib.axes._subplots.AxesSubplot at 0x225090b14e0>"
      ]
     },
     "execution_count": 136,
     "metadata": {},
     "output_type": "execute_result"
    },
    {
     "data": {
      "image/png": "[encoded data removed]",
      "text/plain": [
       "<Figure size 432x288 with 1 Axes>"
      ]
     },
     "metadata": {
      "needs_background": "light"
     },
     "output_type": "display_data"
    }
   ],
   "source": [
    "sns.violinplot(data=df[df['Fare'] < 300], y='Fare', x='No age') "
   ]
  },
  {
   "cell_type": "markdown",
   "metadata": {},
   "source": [
    "Conclusion: can't use **Fare** to predict age"
   ]
  },
  {
   "cell_type": "markdown",
   "metadata": {},
   "source": [
    "## Check connection between average **Age** of title and class"
   ]
  },
  {
   "cell_type": "code",
   "execution_count": 166,
   "metadata": {},
   "outputs": [
    {
     "name": "stdout",
     "output_type": "stream",
     "text": [
      "Mr           class 1 num  people: 87, average age: 42\n",
      "Mr           class 2 num  people: 82, average age: 33\n",
      "Mr           class 3 num  people: 229, average age: 29\n",
      "Mr       all classes num  people: 398, average age: 32\n",
      "----------------\n",
      "Miss         class 1 num  people: 45, average age: 30\n",
      "Miss         class 2 num  people: 32, average age: 22\n",
      "Miss         class 3 num  people: 69, average age: 16\n",
      "Miss     all classes num  people: 146, average age: 22\n",
      "----------------\n",
      "Mrs          class 1 num  people: 34, average age: 41\n",
      "Mrs          class 2 num  people: 41, average age: 34\n",
      "Mrs          class 3 num  people: 33, average age: 34\n",
      "Mrs      all classes num  people: 108, average age: 36\n",
      "----------------\n",
      "Master       class 1 num  people: 3, average age: 5\n",
      "Master       class 2 num  people: 9, average age: 2\n",
      "Master       class 3 num  people: 24, average age: 5\n",
      "Master   all classes num  people: 36, average age: 5\n",
      "----------------\n",
      "Dr       all classes num  people: 6, average age: 42\n",
      "----------------\n"
     ]
    }
   ],
   "source": [
    "for title in df[df['No age']==True]['Name'].apply(get_title).value_counts().index:\n",
    "    if title != 'Dr':\n",
    "        for cl in [1,2,3]:\n",
    "            print(f\"{title.ljust(12)} class {cl} num  people: {df[(df['No age']==False) & (df['Pclass']==cl)]['Name'].apply(get_title).value_counts()[title]}, \"\n",
    "                f\"average age: {round(df[(df['No age']==False) & (df['Pclass']==cl) & (df['Name'].apply(lambda name: has_title(title, name)))]['Age'].mean())}\")\n",
    "    print(f\"{title.ljust(8)} all classes num  people: {df[df['No age']==False]['Name'].apply(get_title).value_counts()[title]}, \"\n",
    "            f\"average age: {round(df[(df['No age']==False) & (df['Name'].apply(lambda name: has_title(title, name)))]['Age'].mean())}\")\n",
    "    print('----------------')"
   ]
  },
  {
   "cell_type": "markdown",
   "metadata": {},
   "source": [
    "It's very useful to predict age to also look at class, and not only at title.  However, some classes are more problematic, like **Master** (where there isn't enough info, and not worth looking at class), and **Dr** (where too few observations, don't have for all classes). Therefore:\n",
    "- Look at both title and class: **Mr**, **Miss**, **Mrs**\n",
    "- Look only at title: **Master**, **Dr**"
   ]
  },
  {
   "cell_type": "markdown",
   "metadata": {},
   "source": [
    "## Check that in test there is no category we didn't discuss"
   ]
  },
  {
   "cell_type": "code",
   "execution_count": 167,
   "metadata": {},
   "outputs": [
    {
     "data": {
      "text/html": [
       "<div>\n",
       "<style scoped>\n",
       "    .dataframe tbody tr th:only-of-type {\n",
       "        vertical-align: middle;\n",
       "    }\n",
       "\n",
       "    .dataframe tbody tr th {\n",
       "        vertical-align: top;\n",
       "    }\n",
       "\n",
       "    .dataframe thead th {\n",
       "        text-align: right;\n",
       "    }\n",
       "</style>\n",
       "<table border=\"1\" class=\"dataframe\">\n",
       "  <thead>\n",
       "    <tr style=\"text-align: right;\">\n",
       "      <th></th>\n",
       "      <th>PassengerId</th>\n",
       "      <th>Pclass</th>\n",
       "      <th>Name</th>\n",
       "      <th>Sex</th>\n",
       "      <th>Age</th>\n",
       "      <th>SibSp</th>\n",
       "      <th>Parch</th>\n",
       "      <th>Ticket</th>\n",
       "      <th>Fare</th>\n",
       "      <th>Cabin</th>\n",
       "      <th>Embarked</th>\n",
       "    </tr>\n",
       "  </thead>\n",
       "  <tbody>\n",
       "    <tr>\n",
       "      <th>0</th>\n",
       "      <td>892</td>\n",
       "      <td>3</td>\n",
       "      <td>Kelly, Mr. James</td>\n",
       "      <td>male</td>\n",
       "      <td>34.5</td>\n",
       "      <td>0</td>\n",
       "      <td>0</td>\n",
       "      <td>330911</td>\n",
       "      <td>7.8292</td>\n",
       "      <td>NaN</td>\n",
       "      <td>Q</td>\n",
       "    </tr>\n",
       "    <tr>\n",
       "      <th>1</th>\n",
       "      <td>893</td>\n",
       "      <td>3</td>\n",
       "      <td>Wilkes, Mrs. James (Ellen Needs)</td>\n",
       "      <td>female</td>\n",
       "      <td>47.0</td>\n",
       "      <td>1</td>\n",
       "      <td>0</td>\n",
       "      <td>363272</td>\n",
       "      <td>7.0000</td>\n",
       "      <td>NaN</td>\n",
       "      <td>S</td>\n",
       "    </tr>\n",
       "    <tr>\n",
       "      <th>2</th>\n",
       "      <td>894</td>\n",
       "      <td>2</td>\n",
       "      <td>Myles, Mr. Thomas Francis</td>\n",
       "      <td>male</td>\n",
       "      <td>62.0</td>\n",
       "      <td>0</td>\n",
       "      <td>0</td>\n",
       "      <td>240276</td>\n",
       "      <td>9.6875</td>\n",
       "      <td>NaN</td>\n",
       "      <td>Q</td>\n",
       "    </tr>\n",
       "    <tr>\n",
       "      <th>3</th>\n",
       "      <td>895</td>\n",
       "      <td>3</td>\n",
       "      <td>Wirz, Mr. Albert</td>\n",
       "      <td>male</td>\n",
       "      <td>27.0</td>\n",
       "      <td>0</td>\n",
       "      <td>0</td>\n",
       "      <td>315154</td>\n",
       "      <td>8.6625</td>\n",
       "      <td>NaN</td>\n",
       "      <td>S</td>\n",
       "    </tr>\n",
       "    <tr>\n",
       "      <th>4</th>\n",
       "      <td>896</td>\n",
       "      <td>3</td>\n",
       "      <td>Hirvonen, Mrs. Alexander (Helga E Lindqvist)</td>\n",
       "      <td>female</td>\n",
       "      <td>22.0</td>\n",
       "      <td>1</td>\n",
       "      <td>1</td>\n",
       "      <td>3101298</td>\n",
       "      <td>12.2875</td>\n",
       "      <td>NaN</td>\n",
       "      <td>S</td>\n",
       "    </tr>\n",
       "  </tbody>\n",
       "</table>\n",
       "</div>"
      ],
      "text/plain": [
       "   PassengerId  Pclass                                          Name     Sex  \\\n",
       "0          892       3                              Kelly, Mr. James    male   \n",
       "1          893       3              Wilkes, Mrs. James (Ellen Needs)  female   \n",
       "2          894       2                     Myles, Mr. Thomas Francis    male   \n",
       "3          895       3                              Wirz, Mr. Albert    male   \n",
       "4          896       3  Hirvonen, Mrs. Alexander (Helga E Lindqvist)  female   \n",
       "\n",
       "    Age  SibSp  Parch   Ticket     Fare Cabin Embarked  \n",
       "0  34.5      0      0   330911   7.8292   NaN        Q  \n",
       "1  47.0      1      0   363272   7.0000   NaN        S  \n",
       "2  62.0      0      0   240276   9.6875   NaN        Q  \n",
       "3  27.0      0      0   315154   8.6625   NaN        S  \n",
       "4  22.0      1      1  3101298  12.2875   NaN        S  "
      ]
     },
     "execution_count": 167,
     "metadata": {},
     "output_type": "execute_result"
    }
   ],
   "source": [
    "test = pd.read_csv('input/test.csv')\n",
    "test.head()"
   ]
  },
  {
   "cell_type": "code",
   "execution_count": 171,
   "metadata": {},
   "outputs": [
    {
     "data": {
      "text/plain": [
       "Mr        57\n",
       "Miss      14\n",
       "Mrs       10\n",
       "Master     4\n",
       "Ms         1\n",
       "Name: Name, dtype: int64"
      ]
     },
     "execution_count": 171,
     "metadata": {},
     "output_type": "execute_result"
    }
   ],
   "source": [
    "test[test['Age'].isnull()]['Name'].apply(get_title).value_counts()"
   ]
  },
  {
   "cell_type": "markdown",
   "metadata": {},
   "source": [
    "The only problematic category in **test** is **Ms**, can treat same as **Mrs**"
   ]
  },
  {
   "cell_type": "markdown",
   "metadata": {},
   "source": [
    "## Dry run of replacement of age in train"
   ]
  },
  {
   "cell_type": "code",
   "execution_count": 276,
   "metadata": {},
   "outputs": [
    {
     "data": {
      "text/plain": [
       "NaN     177\n",
       "24.0     30\n",
       "22.0     27\n",
       "18.0     26\n",
       "28.0     25\n",
       "Name: Age, dtype: int64"
      ]
     },
     "execution_count": 276,
     "metadata": {},
     "output_type": "execute_result"
    }
   ],
   "source": [
    "train = df.copy()\n",
    "train['Age'].value_counts(dropna=False).head()"
   ]
  },
  {
   "cell_type": "code",
   "execution_count": 277,
   "metadata": {},
   "outputs": [],
   "source": [
    "train['Title'] = train['Name'].apply(get_title)"
   ]
  },
  {
   "cell_type": "code",
   "execution_count": 278,
   "metadata": {},
   "outputs": [
    {
     "name": "stdout",
     "output_type": "stream",
     "text": [
      "Average title Mr class 1: 42, std: 14.15\n",
      "Average title Mr class 2: 33, std: 11.85\n",
      "Average title Mr class 3: 29, std: 10.49\n",
      "Average title Miss class 1: 30, std: 12.85\n",
      "Average title Miss class 2: 22, std: 13.37\n",
      "Average title Miss class 3: 16, std: 9.7\n",
      "Average title Mrs class 1: 41, std: 12.64\n",
      "Average title Mrs class 2: 34, std: 10.32\n",
      "Average title Mrs class 3: 34, std: 10.03\n"
     ]
    }
   ],
   "source": [
    "for title in ['Mr', 'Miss', 'Mrs']:\n",
    "    for cl in [1,2,3]:\n",
    "        average = train[(train['Title'] == title) & (train['Pclass']==cl)]['Age'].mean()\n",
    "        std = train[(train['Title'] == title) & (train['Pclass']==cl)]['Age'].std()\n",
    "        print(f'Average title {title} class {cl}: {round(average)}, std: {round(std,2)}')"
   ]
  },
  {
   "cell_type": "code",
   "execution_count": 279,
   "metadata": {},
   "outputs": [
    {
     "name": "stdout",
     "output_type": "stream",
     "text": [
      "Replacing title Mr in class 1 age with 41.58045977011494\n",
      "Replacing title Mr in class 2 age with 32.76829268292683\n",
      "Replacing title Mr in class 3 age with 28.724890829694324\n",
      "Replacing title Miss in class 1 age with 30.0\n",
      "Replacing title Miss in class 2 age with 22.390625\n",
      "Replacing title Miss in class 3 age with 16.1231884057971\n",
      "Replacing title Mrs in class 1 age with 40.88235294117647\n",
      "Replacing title Mrs in class 2 age with 33.68292682926829\n",
      "Replacing title Mrs in class 3 age with 33.515151515151516\n"
     ]
    }
   ],
   "source": [
    "for title in ['Mr', 'Miss', 'Mrs']:\n",
    "    for cl in [1,2,3]:\n",
    "        average = train[(train['No age']==False) & (train['Title'] == title) & (train['Pclass']==cl)]['Age'].mean()\n",
    "        print(f\"Replacing title {title} in class {cl} age with {average}\")\n",
    "        train.loc[(train['No age']==True) & (train['Pclass']==cl) & (train['Title'] == title),'Age'] = average"
   ]
  },
  {
   "cell_type": "code",
   "execution_count": 280,
   "metadata": {},
   "outputs": [
    {
     "name": "stdout",
     "output_type": "stream",
     "text": [
      "Replacing title Master age with 4.574166666666667, std: 3.62\n",
      "Replacing title Dr age with 42.0, std: 12.02\n"
     ]
    }
   ],
   "source": [
    "for title in ['Master', 'Dr']:\n",
    "    average = train[(train['No age']==False) & (train['Title'] == title)]['Age'].mean()\n",
    "    std = train[(train['No age']==False) & (train['Title'] == title)]['Age'].std()\n",
    "    print(f\"Replacing title {title} age with {average}, std: {round(std,2)}\")\n",
    "    train.loc[(train['No age']==True) & (train['Title'] == title),'Age'] = average"
   ]
  },
  {
   "cell_type": "code",
   "execution_count": 281,
   "metadata": {},
   "outputs": [
    {
     "data": {
      "text/plain": [
       "28.724891    90\n",
       "16.123188    33\n",
       "24.000000    30\n",
       "22.000000    27\n",
       "30.000000    26\n",
       "Name: Age, dtype: int64"
      ]
     },
     "execution_count": 281,
     "metadata": {},
     "output_type": "execute_result"
    }
   ],
   "source": [
    "train['Age'].value_counts(dropna=False).head()"
   ]
  },
  {
   "cell_type": "code",
   "execution_count": 284,
   "metadata": {},
   "outputs": [
    {
     "name": "stdout",
     "output_type": "stream",
     "text": [
      "Average title Mr class 1: 42, std: 12.74\n",
      "Average title Mr class 2: 33, std: 11.24\n",
      "Average title Mr class 3: 29, std: 8.88\n",
      "Average title Miss class 1: 30, std: 12.71\n",
      "Average title Miss class 2: 22, std: 12.96\n",
      "Average title Miss class 3: 16, std: 7.96\n",
      "Average title Mrs class 1: 41, std: 11.34\n",
      "Average title Mrs class 2: 34, std: 10.32\n",
      "Average title Mrs class 3: 34, std: 8.86\n",
      "Average title Master age with 5, std: 3.43\n",
      "Average title Dr age with 42, std: 10.97\n"
     ]
    }
   ],
   "source": [
    "for title in ['Mr', 'Miss', 'Mrs']:\n",
    "    for cl in [1,2,3]:\n",
    "        average = train[(train['Title'] == title) & (train['Pclass']==cl)]['Age'].mean()\n",
    "        std = train[(train['Title'] == title) & (train['Pclass']==cl)]['Age'].std()\n",
    "        print(f'Average title {title} class {cl}: {round(average)}, std: {round(std,2)}')\n",
    "for title in ['Master', 'Dr']:\n",
    "    average = train[train['Title'] == title]['Age'].mean()\n",
    "    std = train[train['Title'] == title]['Age'].std()\n",
    "    print(f\"Average title {title} age with {round(average)}, std: {round(std,2)}\")\n",
    "    train.loc[(train['No age']==True) & (train['Title'] == title),'Age'] = average"
   ]
  },
  {
   "cell_type": "markdown",
   "metadata": {},
   "source": [
    "We see that the averages stayed the same, and Standard Diviation went down, so it was done correctly"
   ]
  },
  {
   "cell_type": "markdown",
   "metadata": {},
   "source": [
    "## Dry run of replacement of age in test"
   ]
  },
  {
   "cell_type": "code",
   "execution_count": 318,
   "metadata": {},
   "outputs": [
    {
     "data": {
      "text/plain": [
       "Mr        57\n",
       "Miss      14\n",
       "Mrs       10\n",
       "Master     4\n",
       "Ms         1\n",
       "Name: Name, dtype: int64"
      ]
     },
     "execution_count": 318,
     "metadata": {},
     "output_type": "execute_result"
    }
   ],
   "source": [
    "test = pd.read_csv('input/test.csv')\n",
    "test[test['Age'].isnull()]['Name'].apply(get_title).value_counts()"
   ]
  },
  {
   "cell_type": "code",
   "execution_count": 319,
   "metadata": {},
   "outputs": [],
   "source": [
    "test['Title'] = test['Name'].apply(get_title)"
   ]
  },
  {
   "cell_type": "code",
   "execution_count": 320,
   "metadata": {},
   "outputs": [
    {
     "data": {
      "text/plain": [
       "Mr        57\n",
       "Miss      14\n",
       "Mrs       10\n",
       "Master     4\n",
       "Ms         1\n",
       "Name: Title, dtype: int64"
      ]
     },
     "execution_count": 320,
     "metadata": {},
     "output_type": "execute_result"
    }
   ],
   "source": [
    "test[test['Age'].isnull()]['Title'].value_counts()"
   ]
  },
  {
   "cell_type": "code",
   "execution_count": 321,
   "metadata": {},
   "outputs": [],
   "source": [
    "test.loc[(test['Age'].isnull()) & (test['Name'].apply(get_title) == 'Ms'),'Age'] = 'Mrs'"
   ]
  },
  {
   "cell_type": "code",
   "execution_count": 322,
   "metadata": {},
   "outputs": [
    {
     "data": {
      "text/plain": [
       "Mr        57\n",
       "Miss      14\n",
       "Mrs       10\n",
       "Master     4\n",
       "Name: Title, dtype: int64"
      ]
     },
     "execution_count": 322,
     "metadata": {},
     "output_type": "execute_result"
    }
   ],
   "source": [
    "test[test['Age'].isnull()]['Title'].value_counts()"
   ]
  },
  {
   "cell_type": "code",
   "execution_count": 323,
   "metadata": {},
   "outputs": [
    {
     "name": "stdout",
     "output_type": "stream",
     "text": [
      "Replacing title Mr in class 1 age with 41.58045977011494\n",
      "7\n",
      "0\n"
     ]
    }
   ],
   "source": [
    "# Temp\n",
    "title = 'Mr'\n",
    "cl = 1\n",
    "average = train[(train['No age']==False) & (train['Title'] == title) & (train['Pclass']==cl)]['Age'].mean()\n",
    "print(f\"Replacing title {title} in class {cl} age with {average}\")\n",
    "print(test.loc[(test['Age'].isnull()) & (test['Pclass']==cl) & (test['Title'] == title),'Age'].shape[0])\n",
    "test.loc[(test['Age'].isnull()) & (test['Pclass']==cl) & (test['Title'] == title),'Age'] = average\n",
    "print(test.loc[(test['Age'].isnull()) & (test['Pclass']==cl) & (test['Title'] == title),'Age'].shape[0])"
   ]
  },
  {
   "cell_type": "code",
   "execution_count": 303,
   "metadata": {
    "scrolled": true
   },
   "outputs": [
    {
     "name": "stdout",
     "output_type": "stream",
     "text": [
      "Replacing title Mr in class 1 age with 41.58045977011494\n",
      "Replacing title Mr in class 2 age with 32.76829268292683\n",
      "Replacing title Mr in class 3 age with 28.724890829694324\n",
      "Replacing title Miss in class 1 age with 30.0\n",
      "Replacing title Miss in class 2 age with 22.390625\n",
      "Replacing title Miss in class 3 age with 16.1231884057971\n",
      "Replacing title Mrs in class 1 age with 40.88235294117647\n",
      "Replacing title Mrs in class 2 age with 33.68292682926829\n",
      "Replacing title Mrs in class 3 age with 33.515151515151516\n"
     ]
    }
   ],
   "source": [
    "for title in ['Mr', 'Miss', 'Mrs']:\n",
    "    for cl in [1,2,3]:\n",
    "        average = train[(train['No age']==False) & (train['Title'] == title) & (train['Pclass']==cl)]['Age'].mean()\n",
    "        print(f\"Replacing title {title} in class {cl} age with {average}\")\n",
    "        test.loc[(test['Age'].isnull()) & (test['Pclass']==cl) & (test['Title'] == title),'Age'] = average"
   ]
  },
  {
   "cell_type": "code",
   "execution_count": 307,
   "metadata": {},
   "outputs": [
    {
     "name": "stdout",
     "output_type": "stream",
     "text": [
      "Replacing title Master age with 4.574166666666667, std: 3.62\n"
     ]
    }
   ],
   "source": [
    "for title in ['Master']:\n",
    "    average = train[(train['No age']==False) & (train['Title'] == title)]['Age'].mean()\n",
    "    std = train[(train['No age']==False) & (train['Title'] == title)]['Age'].std()\n",
    "    print(f\"Replacing title {title} age with {average}, std: {round(std,2)}\")\n",
    "    test.loc[(test['Age'].isnull()) & (test['Title'] == title),'Age'] = average"
   ]
  },
  {
   "cell_type": "code",
   "execution_count": 308,
   "metadata": {},
   "outputs": [
    {
     "data": {
      "text/html": [
       "<div>\n",
       "<style scoped>\n",
       "    .dataframe tbody tr th:only-of-type {\n",
       "        vertical-align: middle;\n",
       "    }\n",
       "\n",
       "    .dataframe tbody tr th {\n",
       "        vertical-align: top;\n",
       "    }\n",
       "\n",
       "    .dataframe thead th {\n",
       "        text-align: right;\n",
       "    }\n",
       "</style>\n",
       "<table border=\"1\" class=\"dataframe\">\n",
       "  <thead>\n",
       "    <tr style=\"text-align: right;\">\n",
       "      <th></th>\n",
       "      <th>PassengerId</th>\n",
       "      <th>Pclass</th>\n",
       "      <th>Name</th>\n",
       "      <th>Sex</th>\n",
       "      <th>Age</th>\n",
       "      <th>SibSp</th>\n",
       "      <th>Parch</th>\n",
       "      <th>Ticket</th>\n",
       "      <th>Fare</th>\n",
       "      <th>Cabin</th>\n",
       "      <th>Embarked</th>\n",
       "      <th>Title</th>\n",
       "    </tr>\n",
       "  </thead>\n",
       "  <tbody>\n",
       "  </tbody>\n",
       "</table>\n",
       "</div>"
      ],
      "text/plain": [
       "Empty DataFrame\n",
       "Columns: [PassengerId, Pclass, Name, Sex, Age, SibSp, Parch, Ticket, Fare, Cabin, Embarked, Title]\n",
       "Index: []"
      ]
     },
     "execution_count": 308,
     "metadata": {},
     "output_type": "execute_result"
    }
   ],
   "source": [
    "test[test['Age'].isnull()]"
   ]
  },
  {
   "cell_type": "code",
   "execution_count": 340,
   "metadata": {},
   "outputs": [
    {
     "data": {
      "text/html": [
       "<div>\n",
       "<style scoped>\n",
       "    .dataframe tbody tr th:only-of-type {\n",
       "        vertical-align: middle;\n",
       "    }\n",
       "\n",
       "    .dataframe tbody tr th {\n",
       "        vertical-align: top;\n",
       "    }\n",
       "\n",
       "    .dataframe thead th {\n",
       "        text-align: right;\n",
       "    }\n",
       "</style>\n",
       "<table border=\"1\" class=\"dataframe\">\n",
       "  <thead>\n",
       "    <tr style=\"text-align: right;\">\n",
       "      <th></th>\n",
       "      <th>PassengerId</th>\n",
       "      <th>Pclass</th>\n",
       "      <th>Name</th>\n",
       "      <th>Sex</th>\n",
       "      <th>Age</th>\n",
       "      <th>SibSp</th>\n",
       "      <th>Parch</th>\n",
       "      <th>Ticket</th>\n",
       "      <th>Fare</th>\n",
       "      <th>Cabin</th>\n",
       "      <th>Embarked</th>\n",
       "      <th>Title</th>\n",
       "    </tr>\n",
       "  </thead>\n",
       "  <tbody>\n",
       "    <tr>\n",
       "      <th>88</th>\n",
       "      <td>980</td>\n",
       "      <td>3</td>\n",
       "      <td>O'Donoghue, Ms. Bridget</td>\n",
       "      <td>female</td>\n",
       "      <td>Mrs</td>\n",
       "      <td>0</td>\n",
       "      <td>0</td>\n",
       "      <td>364856</td>\n",
       "      <td>7.75</td>\n",
       "      <td>NaN</td>\n",
       "      <td>Q</td>\n",
       "      <td>Ms</td>\n",
       "    </tr>\n",
       "  </tbody>\n",
       "</table>\n",
       "</div>"
      ],
      "text/plain": [
       "    PassengerId  Pclass                     Name     Sex  Age  SibSp  Parch  \\\n",
       "88          980       3  O'Donoghue, Ms. Bridget  female  Mrs      0      0   \n",
       "\n",
       "    Ticket  Fare Cabin Embarked Title  \n",
       "88  364856  7.75   NaN        Q    Ms  "
      ]
     },
     "execution_count": 340,
     "metadata": {},
     "output_type": "execute_result"
    }
   ],
   "source": [
    "test[test['PassengerId']==980]"
   ]
  },
  {
   "cell_type": "markdown",
   "metadata": {},
   "source": [
    "## Connection between age and sirvival"
   ]
  },
  {
   "cell_type": "code",
   "execution_count": 348,
   "metadata": {},
   "outputs": [
    {
     "data": {
      "text/plain": [
       "<matplotlib.axes._subplots.AxesSubplot at 0x22514067240>"
      ]
     },
     "execution_count": 348,
     "metadata": {},
     "output_type": "execute_result"
    },
    {
     "data": {
      "image/png": "[encoded data removed]",
      "text/plain": [
       "<Figure size 432x288 with 1 Axes>"
      ]
     },
     "metadata": {
      "needs_background": "light"
     },
     "output_type": "display_data"
    }
   ],
   "source": [
    "sns.violinplot(data=df[df['Age'].isnull()==False], y='Age', x='Survived')"
   ]
  },
  {
   "cell_type": "markdown",
   "metadata": {},
   "source": [
    "Seems that younger children had a higher chance of survival, above 60 - less of a chance, between 15 and 60 the distribution seems very similar with a slightly higher average age for survivors"
   ]
  },
  {
   "cell_type": "code",
   "execution_count": 353,
   "metadata": {},
   "outputs": [
    {
     "data": {
      "text/plain": [
       "<matplotlib.axes._subplots.AxesSubplot at 0x225142fc7b8>"
      ]
     },
     "execution_count": 353,
     "metadata": {},
     "output_type": "execute_result"
    },
    {
     "data": {
      "image/png": "[encoded data removed]",
      "text/plain": [
       "<Figure size 432x288 with 1 Axes>"
      ]
     },
     "metadata": {
      "needs_background": "light"
     },
     "output_type": "display_data"
    }
   ],
   "source": [
    "sns.violinplot(data=df[df['Age'].isnull()==False], y='Age', x='Survived', hue='Pclass')"
   ]
  },
  {
   "cell_type": "markdown",
   "metadata": {},
   "source": [
    "Looking at age with context of classes (since class 1 had a much greater rate of survival):\n",
    "1. Children had a higher chance of survival, in class 2 all kids were saved, in 3 majority of kids were saved\n",
    "2. Class 1 - younger people had somewhat larger chance of survival\n",
    "3. Class 2 - younger people had somewhat larger chance of survival\n",
    "4. Class 3 - above 40 almost no one survived. Actually being younger helped\n",
    "Conclusion: doesn't seem that classification without age will work\n"
   ]
  }
 ],
 "metadata": {
  "kernelspec": {
   "display_name": "Python [conda env:root] *",
   "language": "python",
   "name": "conda-root-py"
  },
  "language_info": {
   "codemirror_mode": {
    "name": "ipython",
    "version": 3
   },
   "file_extension": ".py",
   "mimetype": "text/x-python",
   "name": "python",
   "nbconvert_exporter": "python",
   "pygments_lexer": "ipython3",
   "version": "3.7.3"
  }
 },
 "nbformat": 4,
 "nbformat_minor": 2
}
